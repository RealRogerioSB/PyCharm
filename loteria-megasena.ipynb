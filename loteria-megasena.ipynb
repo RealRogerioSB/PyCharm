{
 "cells": [
  {
   "cell_type": "code",
   "id": "initial_id",
   "metadata": {
    "collapsed": true
   },
   "source": [
    "import locale\n",
    "import os\n",
    "\n",
    "from dotenv import load_dotenv\n",
    "import numpy as np\n",
    "import pandas as pd\n",
    "import sqlalchemy as sa\n",
    "\n",
    "locale.setlocale(locale.LC_ALL, \"pt_BR.UTF-8\")\n",
    "locale.setlocale(locale.LC_MONETARY, \"pt_BR.UTF-8\")\n",
    "\n",
    "pd.set_option(\"display.float_format\", lambda val: f\"R$ {locale.currency(val=val, symbol=False, grouping=True)}\")\n",
    "pd.set_option(\"display.max_columns\", None)\n",
    "\n",
    "load_dotenv()\n",
    "\n",
    "engine: sa.Engine = sa.create_engine(os.getenv(\"URL_MYSQL\"))"
   ],
   "outputs": [],
   "execution_count": null
  },
  {
   "metadata": {},
   "cell_type": "code",
   "source": [
    "minhas_apostas: tuple = (\n",
    "    \"05 15 26 27 46 53\",  # aposta n.° 1\n",
    "    \"03 12 19 20 45 47\",  # aposta n.° 2\n",
    "    \"01 10 17 41 42 56\",  # aposta n.° 3\n",
    "    \"02 10 13 27 53 55\",  # aposta n.° 4\n",
    "    \"06 07 08 11 43 56\",  # aposta n.° 5\n",
    "    \"08 10 14 25 33 34\",  # aposta n.° 6\n",
    "    \"05 11 16 40 43 57\",  # aposta n.° 7\n",
    "    \"04 05 08 13 17 38\",  # aposta n.° 8\n",
    "    \"13 24 32 49 51 60\",  # aposta n.° 9\n",
    "    \"11 16 19 43 58 60\",  # aposta n.° 10\n",
    "    \"03 05 10 20 35 46\",  # aposta n.° 11\n",
    "    \"02 09 10 19 31 57\",  # aposta n.° 12\n",
    "    \"04 18 20 21 39 57\",  # aposta n.° 13\n",
    "    \"02 11 22 36 49 60\",  # aposta n.° 14\n",
    "    \"02 21 39 48 52 57\",  # aposta n.° 15\n",
    "    \"14 41 45 50 54 59\",  # aposta n.° 16\n",
    "    \"13 20 22 25 28 39\",  # aposta n.° 17\n",
    "    \"01 16 21 34 49 54\",  # aposta n.° 18\n",
    ")"
   ],
   "id": "9a1f177771816119",
   "outputs": [],
   "execution_count": null
  },
  {
   "metadata": {},
   "cell_type": "code",
   "source": [
    "stmt: str = \"\"\"\n",
    "    CREATE TABLE IF NOT EXISTS megasena (\n",
    "        id_sorteio SMALLINT UNSIGNED NOT NULL,\n",
    "        dt_sorteio DATE NOT NULL,\n",
    "        bolas VARCHAR(17) NOT NULL,\n",
    "        acerto_6 MEDIUMINT UNSIGNED NOT NULL,\n",
    "        rateio_6 DOUBLE NOT NULL,\n",
    "        acerto_5 MEDIUMINT UNSIGNED NOT NULL,\n",
    "        rateio_5 DOUBLE NOT NULL,\n",
    "        acerto_4 MEDIUMINT UNSIGNED NOT NULL,\n",
    "        rateio_4 DOUBLE NOT NULL,\n",
    "        PRIMARY KEY (id_sorteio, dt_sorteio)\n",
    "    )\n",
    "\"\"\"\n",
    "\n",
    "with engine.begin() as cnx:\n",
    "    try:\n",
    "        cnx.execute(sa.text(\"DROP TABLE IF EXISTS megasena\"))\n",
    "        cnx.execute(sa.text(stmt))\n",
    "    except sa.exc.OperationalError:\n",
    "        \"Deu erro ao criar a tabela...\"\n",
    "    else:\n",
    "        \"Tabela deletada e recriada com sucesso.\""
   ],
   "id": "6d0047b2ef414e4c",
   "outputs": [],
   "execution_count": null
  },
  {
   "metadata": {},
   "cell_type": "code",
   "source": [
    "# inserir novos sorteios da tabela\n",
    "df: pd.DataFrame = pd.read_excel(\"~/Downloads/Mega-Sena.xlsx\")\n",
    "df[\"Data do Sorteio\"] = pd.to_datetime(df[\"Data do Sorteio\"], format=\"%d/%m/%Y\")\n",
    "for col in df.columns[2:8]:\n",
    "    df[col] = df[col].astype(str).str.zfill(2)\n",
    "df[\"bolas\"] = df[df.columns[2:8]].apply(\" \".join, axis=1)\n",
    "for col in [\"Rateio 6 acertos\", \"Rateio 5 acertos\", \"Rateio 4 acertos\"]:\n",
    "    df[col] = df[col].astype(str).str.replace(r\"\\D\", \"\", regex=True).astype(float) / 100\n",
    "df = df[[\"Concurso\", \"Data do Sorteio\", \"bolas\", \"Ganhadores 6 acertos\", \"Rateio 6 acertos\",\n",
    "         \"Ganhadores 5 acertos\", \"Rateio 5 acertos\", \"Ganhadores 4 acertos\", \"Rateio 4 acertos\"]]\n",
    "df.columns = [\"id_sorteio\", \"dt_sorteio\", \"bolas\", \"acerto_6\",\n",
    "              \"rateio_6\", \"acerto_5\", \"rateio_5\", \"acerto_4\", \"rateio_4\"]\n",
    "df.set_index(\"id_sorteio\", inplace=True)\n",
    "df.loc[2701] = [\"2024-03-16\", \"06 15 18 31 32 47\", 0, 0.0, 72, 59349.01, 5712, 1068.7]\n",
    "df = df.reset_index().sort_values(by=[\"id_sorteio\", \"dt_sorteio\"], ignore_index=True)\n",
    "row_inserted: int = df.to_sql(name=\"megasena\", con=engine, if_exists=\"append\", index=False)\n",
    "f\"Foram {row_inserted} jogos inseridos com sucesso.\""
   ],
   "id": "6d286508b55ff624",
   "outputs": [],
   "execution_count": null
  },
  {
   "metadata": {},
   "cell_type": "code",
   "source": [
    "# função de manipulação da tabela\n",
    "def columns(table: pd.DataFrame) -> pd.DataFrame:\n",
    "    table[\"id_sorteio\"] = table[\"id_sorteio\"].astype(str).str.zfill(4)\n",
    "    table[\"dt_sorteio\"] = pd.to_datetime(table[\"dt_sorteio\"]).dt.strftime(\"%x (%a)\")\n",
    "    table[\"acerto_6\"] = np.where(table[\"acerto_6\"].ne(0), table[\"acerto_6\"].astype(str), \"Ninguém\")\n",
    "    table[\"acerto_5\"] = np.where(table[\"acerto_5\"].ne(0), table[\"acerto_5\"].astype(str), \"Ninguém\")\n",
    "    table[\"acerto_4\"] = np.where(table[\"acerto_4\"].ne(0), table[\"acerto_4\"].astype(str), \"Ninguém\")\n",
    "    table.columns = [\"Concurso\", \"Data\", \"Bolas\", \"Acerto para 6\", \"Rateio para 6\", \"Acerto para 5\",\n",
    "                     \"Rateio para 5\", \"Acerto para 4\", \"Rateio para 4\"]\n",
    "    return table"
   ],
   "id": "b59b9d53da16c3f5",
   "outputs": [],
   "execution_count": null
  },
  {
   "metadata": {},
   "cell_type": "code",
   "source": [
    "# exibir os 25 últimos sorteios\n",
    "columns(pd.read_sql(sql=sa.text(\"SELECT * FROM megasena\"), con=engine)).tail(25)"
   ],
   "id": "f8e14327490fa749",
   "outputs": [],
   "execution_count": null
  },
  {
   "metadata": {},
   "cell_type": "code",
   "source": [
    "# listar a Mega da Virada\n",
    "stmt: str = \"\"\"\n",
    "    SELECT * FROM megasena WHERE dt_sorteio IN\n",
    "        (SELECT MAX(dt_sorteio) FROM megasena GROUP BY YEAR(dt_sorteio) HAVING YEAR(dt_sorteio) <> YEAR(CURRENT_DATE))\n",
    "\"\"\"\n",
    "columns(pd.read_sql(sql=sa.text(stmt), con=engine))"
   ],
   "id": "be71ae862d82e47d",
   "outputs": [],
   "execution_count": null
  },
  {
   "metadata": {},
   "cell_type": "code",
   "source": [
    "# conferir os acertos de aposta\n",
    "for r in range(6, 3, -1):\n",
    "    mega: dict[str: list] = {\"Concurso\": [], \"Data\": [], \"Bolas\": [], \"Aposta n.°\": []}\n",
    "\n",
    "    stmt: str = f\"SELECT id_sorteio, dt_sorteio, bolas, acerto_{r}, rateio_{r} FROM megasena\"\n",
    "\n",
    "    for row in pd.read_sql(sql=sa.text(stmt), con=engine).itertuples(index=False, name=None):\n",
    "        for aposta in minhas_apostas:\n",
    "            bolas: list[str] = aposta.split()\n",
    "            match: list[str] = []\n",
    "\n",
    "            for x in range(6):\n",
    "                if bolas[x] in row[2]:\n",
    "                    match.append(bolas[x])\n",
    "\n",
    "            if len(match) == r:\n",
    "                mega[\"Concurso\"].append(str(row[0]).zfill(4))\n",
    "                mega[\"Data\"].append(pd.to_datetime(row[1]).strftime(\"%x (%a)\"))\n",
    "                mega[\"Bolas\"].append(\" \".join(match))\n",
    "                mega[\"Aposta n.°\"].append(minhas_apostas.index(aposta) + 1)\n",
    "\n",
    "    print(f\"\\nLista de {r} acertos:\")\n",
    "    pd.DataFrame(mega) if len(pd.DataFrame(mega)) != 0 else \"Suas apostas não tiveram acertos...\""
   ],
   "id": "d43704ad689feb48",
   "outputs": [],
   "execution_count": null
  },
  {
   "metadata": {},
   "cell_type": "code",
   "source": [
    "# conferir se sua aposta fora acertada\n",
    "sua_aposta: str = input(\"Sua aposta: \")\n",
    "\n",
    "mega: dict[str: list] = {\"Concurso\": [], \"Data\": [], \"Bolas\": [], \"Acertos\": []}\n",
    "\n",
    "for row in pd.read_sql(sql=sa.text(\"SELECT * FROM megasena\"), con=engine).itertuples(index=False, name=None):\n",
    "    match: list[str] = []\n",
    "\n",
    "    for aposta in sua_aposta.split():\n",
    "        if aposta in row[2]:\n",
    "            match.append(aposta)\n",
    "\n",
    "    if len(match) >= 4:\n",
    "        mega[\"Concurso\"].append(str(row[0]).zfill(4))\n",
    "        mega[\"Data\"].append(pd.to_datetime(row[1]).strftime(\"%x (%a)\"))\n",
    "        mega[\"Bolas\"].append(row[2])\n",
    "        mega[\"Acertos\"].append(len(match))\n",
    "\n",
    "pd.DataFrame(mega) if len(pd.DataFrame(mega)) != 0 else \"Sua aposta não teve acertos...\""
   ],
   "id": "e956f136be256d19",
   "outputs": [],
   "execution_count": null
  },
  {
   "metadata": {},
   "cell_type": "code",
   "source": [
    "# listar quantas bolas acertou\n",
    "apostas: dict[int: int] = {}\n",
    "\n",
    "for x in minhas_apostas:\n",
    "    y: list[str] = x.split()\n",
    "    for z in range(len(y)):\n",
    "        try:\n",
    "            apostas[int(y[z])] += 1\n",
    "        except KeyError:\n",
    "            apostas[int(y[z])] = 1\n",
    "\n",
    "apostas_ordenadas: dict[int: int] = {k: v for k, v in sorted(apostas.items(), key=lambda s: s[0])}\n",
    "\n",
    "acertos: pd.DataFrame = pd.DataFrame(data=apostas_ordenadas, index=[\"acertos\"])\n",
    "acertos.index.name = \"bolas\"\n",
    "acertos"
   ],
   "id": "387cc2781b1367fb",
   "outputs": [],
   "execution_count": null
  }
 ],
 "metadata": {
  "kernelspec": {
   "display_name": "Python 3",
   "language": "python",
   "name": "python3"
  },
  "language_info": {
   "codemirror_mode": {
    "name": "ipython",
    "version": 2
   },
   "file_extension": ".py",
   "mimetype": "text/x-python",
   "name": "python",
   "nbconvert_exporter": "python",
   "pygments_lexer": "ipython2",
   "version": "2.7.6"
  }
 },
 "nbformat": 4,
 "nbformat_minor": 5
}
