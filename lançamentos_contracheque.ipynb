{
 "cells": [
  {
   "cell_type": "code",
   "id": "initial_id",
   "metadata": {},
   "source": [
    "import locale as lc\n",
    "import os\n",
    "\n",
    "import matplotlib.pyplot as plt\n",
    "import pandas as pd\n",
    "import seaborn as sns\n",
    "import sqlalchemy as sa\n",
    "from dotenv import load_dotenv\n",
    "\n",
    "load_dotenv()\n",
    "\n",
    "lc.setlocale(category=lc.LC_ALL, locale=\"pt_BR.UTF-8\")\n",
    "lc.setlocale(category=lc.LC_MONETARY, locale=\"pt_BR.UTF-8\")\n",
    "\n",
    "pd.set_option(\"display.float_format\", lambda val: lc.currency(val=val, symbol=False, grouping=True))\n",
    "\n",
    "engine: sa.Engine = sa.engine.create_engine(url=os.getenv(\"URL_AIVEN_PG\"))"
   ],
   "outputs": [],
   "execution_count": null
  },
  {
   "metadata": {},
   "cell_type": "code",
   "source": [
    "stmt: str = \"\"\"\n",
    "    CREATE TABLE IF NOT EXISTS lançamento (\n",
    "        id_lançamento SERIAL PRIMARY KEY, -- PostgreSQL\n",
    "        -- id_lançamento INTEGER AUTO_INCREMENT PRIMARY KEY, -- MySQL\n",
    "        lançamento VARCHAR(60) NOT NULL\n",
    "    )\n",
    "\"\"\"\n",
    "with engine.begin() as cnx:\n",
    "    cnx.execute(sa.text(stmt))\n",
    "print(\"Tabela 'lançamento' criada com sucesso!\")"
   ],
   "id": "7d7e3eba2bf93252",
   "outputs": [],
   "execution_count": null
  },
  {
   "metadata": {},
   "cell_type": "code",
   "source": [
    "stmt: str = \"\"\"\n",
    "    CREATE TABLE IF NOT EXISTS espelho (\n",
    "        id SERIAL PRIMARY KEY, -- PostgreSQL\n",
    "        -- id INTEGER AUTO_INCREMENT PRIMARY KEY, -- MySQL\n",
    "        id_lançamento INTEGER NOT NULL,\n",
    "        período INTEGER NOT NULL,\n",
    "        acerto BOOLEAN DEFAULT FALSE NOT NULL,\n",
    "        valor REAL NOT NULL\n",
    "    )\n",
    "\"\"\"\n",
    "with engine.begin() as cnx:\n",
    "    cnx.execute(sa.text(stmt))\n",
    "print(\"Tabela 'espelho' criada com sucesso!\")"
   ],
   "id": "e90a11276eace400",
   "outputs": [],
   "execution_count": null
  },
  {
   "metadata": {},
   "cell_type": "code",
   "source": [
    "# inserir novos registros para a tabela espelho\n",
    "row_inserted: int = pd.read_csv(\"./src/espelho.csv\", sep=\",\", encoding=\"utf-8-sig\") \\\n",
    "    .to_sql(name=\"espelho\", con=engine, if_exists=\"append\", index=False)\n",
    "print(f\"Foram {row_inserted} lançamentos inseridos com sucesso.\")"
   ],
   "id": "d6b5f9e004098d98",
   "outputs": [],
   "execution_count": null
  },
  {
   "metadata": {},
   "cell_type": "code",
   "source": [
    "release: pd.DataFrame = pd.read_sql(sql=sa.text(f\"SELECT * FROM lançamento\"), con=engine)\n",
    "mirror: pd.DataFrame = pd.read_sql(sql=sa.text(f\"SELECT * FROM espelho\"), con=engine)\n",
    "\n",
    "joints: pd.DataFrame = pd.merge(left=release, right=mirror, how=\"inner\", on=[\"id_lançamento\"]) \\\n",
    "    .drop([\"id\", \"id_lançamento\"], axis=1)"
   ],
   "id": "76ed21452e29f943",
   "outputs": [],
   "execution_count": null
  },
  {
   "metadata": {
    "collapsed": false,
    "jupyter": {
     "outputs_hidden": false
    }
   },
   "cell_type": "code",
   "source": [
    "# exibir a tabela de lançamento\n",
    "release"
   ],
   "id": "f0eea38d422d58ae",
   "outputs": [],
   "execution_count": null
  },
  {
   "metadata": {},
   "cell_type": "code",
   "source": [
    "# exibir os períodos com seus soldos mensais do ano desejado\n",
    "\"\"\"\n",
    "    SELECT período AS Período, SUM(valor) AS Total\n",
    "    FROM espelho\n",
    "    WHERE LEFT(CAST(período AS CHAR(6)), 4) = CAST(EXTRACT(YEAR FROM CURRENT_DATE) AS CHAR(4)) -- PostgreSQL\n",
    "    -- WHERE SUBSTR(período, 1, 4) = EXTRACT(YEAR FROM CURDATE()) -- MySQL\n",
    "    GROUP BY período\n",
    "\"\"\"\n",
    "\n",
    "year: int = 2025\n",
    "\n",
    "dict_months = {\n",
    "    int(f\"{year}01\"): f\"janeiro de {year}\",\n",
    "    int(f\"{year}02\"): f\"fevereiro de {year}\",\n",
    "    int(f\"{year}03\"): f\"março de {year}\",\n",
    "    int(f\"{year}04\"): f\"abril de {year}\",\n",
    "    int(f\"{year}05\"): f\"maio de {year}\",\n",
    "    int(f\"{year}06\"): f\"junho de {year}\",\n",
    "    int(f\"{year}07\"): f\"julho de {year}\",\n",
    "    int(f\"{year}08\"): f\"agosto de {year}\",\n",
    "    int(f\"{year}09\"): f\"setembro de {year}\",\n",
    "    int(f\"{year}10\"): f\"outubro de {year}\",\n",
    "    int(f\"{year}11\"): f\"novembro de {year}\",\n",
    "    int(f\"{year}12\"): f\"dezembro de {year}\",\n",
    "}\n",
    "\n",
    "df_year_month: pd.DataFrame = joints.copy()\n",
    "df_year_month[\"ano\"] = pd.to_datetime(df_year_month[\"período\"], format=\"%Y%m\").dt.year\n",
    "df_year_month = df_year_month[df_year_month[\"ano\"].eq(year)] \\\n",
    "    .groupby([\"período\"])[\"valor\"].sum() \\\n",
    "    .rename(index=dict_months)\n",
    "df_year_month"
   ],
   "id": "c2b71111b09d8045",
   "outputs": [],
   "execution_count": null
  },
  {
   "cell_type": "code",
   "id": "2210f2a0ed271163",
   "metadata": {
    "collapsed": false,
    "jupyter": {
     "outputs_hidden": false
    }
   },
   "source": [
    "# exibir a tabela espelho para o mês atual\n",
    "\"\"\"\n",
    "    SELECT\n",
    "        l.lançamento,\n",
    "        e.período,\n",
    "        CASE\n",
    "            WHEN e.acerto THEN 'acerto'\n",
    "            ELSE 'mês'\n",
    "        END AS espelho,\n",
    "        e.valor\n",
    "    FROM\n",
    "        espelho e\n",
    "        INNER JOIN lançamento l ON e.id_lançamento = l.id_lançamento\n",
    "    WHERE\n",
    "        e.período = :year_month\n",
    "    ORDER BY\n",
    "        e.acerto DESC\n",
    "\"\"\"\n",
    "\n",
    "year_month: int = 202501\n",
    "\n",
    "df_mes: pd.DataFrame = joints[joints[\"período\"].eq(year_month)].copy() \\\n",
    "    .sort_values([\"acerto\", \"valor\"], ascending=False).reset_index(drop=True)\n",
    "df_mes[\"período\"] = pd.to_datetime(df_mes[\"período\"], format=\"%Y%m\").dt.strftime(\"%B de %Y\")\n",
    "df_mes[\"acerto\"] = df_mes[\"acerto\"].map({False: \"mês\", True: \"acerto\"})\n",
    "df_mes"
   ],
   "outputs": [],
   "execution_count": null
  },
  {
   "cell_type": "code",
   "id": "726e83d28aec70b6",
   "metadata": {},
   "source": [
    "# exibir o gráfico do total de mês a mês para o ano atual\n",
    "\"\"\"\n",
    "    SELECT\n",
    "        l.lançamento,\n",
    "        e.período,\n",
    "        CASE\n",
    "            WHEN e.acerto THEN 'acerto'\n",
    "            ELSE 'mês'\n",
    "        END AS acerto,\n",
    "        e.valor\n",
    "    FROM\n",
    "        espelho e\n",
    "        INNER JOIN lançamento l ON e.id_lançamento = l.id_lançamento\n",
    "    WHERE\n",
    "        CAST(e.período AS CHAR(6)) LIKE ':year%' -- PostgreSQL\n",
    "        -- e.período LIKE ':year%' -- MySQL\n",
    "\"\"\"\n",
    "\n",
    "year: int = 2024\n",
    "\n",
    "df_ano: pd.DataFrame = joints.copy()\n",
    "df_ano[\"ano\"] = pd.to_datetime(df_ano[\"período\"], format=\"%Y%m\").dt.year\n",
    "df_ano[\"acerto\"] = df_ano[\"acerto\"].map({False: \"mês\", True: \"acerto\"})\n",
    "df_ano = df_ano[df_ano[\"ano\"].eq(year)].drop([\"ano\"], axis=1) \\\n",
    "    .pivot(values=[\"valor\"], index=[\"lançamento\", \"acerto\"], columns=[\"período\"])\n",
    "df_ano.columns = df_ano.columns.droplevel(level=0)\n",
    "df_ano = df_ano.reset_index().fillna(value=0)\n",
    "df_ano.columns.rename(\"\", inplace=True)\n",
    "df_ano[\"média\"] = df_ano.mean(axis=1, numeric_only=True)\n",
    "df_ano[\"total\"] = df_ano[df_ano.columns[:-1]].sum(axis=1, numeric_only=True)\n",
    "df_ano.loc[100] = df_ano.sum(numeric_only=True)\n",
    "df_ano.iloc[-1, 0] = \"Sumário\"\n",
    "df_ano.iloc[-1, 1] = \"total\"\n",
    "df_ano = df_ano.sort_values([\"acerto\", \"total\"], ascending=[True, False]) \\\n",
    "    .rename(columns={year*100 + 1: \"jan\", year*100 + 2: \"fev\", year*100 + 3: \"mar\", year*100 + 4: \"abr\",\n",
    "                     year*100 + 5: \"mai\", year*100 + 6: \"jun\", year*100 + 7: \"jul\", year*100 + 8: \"ago\",\n",
    "                     year*100 + 9: \"set\", year*100 + 10: \"out\", year*100 + 11: \"nov\", year*100 + 12: \"dez\"}) \\\n",
    "    .reset_index(drop=True)\n",
    "df_ano"
   ],
   "outputs": [],
   "execution_count": null
  },
  {
   "metadata": {},
   "cell_type": "code",
   "source": [
    "# resumos totais anuais\n",
    "\"\"\"\n",
    "    SELECT\n",
    "        CAST(LEFT(CAST(período AS CHAR(6)), 4) AS INT) AS ano, -- PostgreSQL\n",
    "        -- SUBSTR(período, 1, 4) * 1 AS ano, -- MySQL\n",
    "        'mês ' || RIGHT(CAST(período AS CHAR(6)), 2) AS mes, -- PostgreSQL\n",
    "        -- CONCAT('mês ', SUBSTR(período, 5)) AS mes, -- MySQL\n",
    "        SUM(valor) AS valor\n",
    "    FROM\n",
    "        espelho\n",
    "    GROUP BY\n",
    "        ano,\n",
    "        mes\n",
    "\"\"\"\n",
    "\n",
    "df_anuais: pd.DataFrame = joints[[\"período\", \"valor\"]].copy()\n",
    "df_anuais = df_anuais.groupby([\"período\"])[\"valor\"].sum().reset_index()\n",
    "df_anuais[\"ano\"] = pd.to_datetime(df_anuais[\"período\"], format=\"%Y%m\").dt.year\n",
    "df_anuais[\"mês\"] = pd.to_datetime(df_anuais[\"período\"], format=\"%Y%m\").dt.month\n",
    "df_anuais = df_anuais.pivot(columns=[\"mês\"], index=[\"ano\"], values=[\"valor\"])\n",
    "df_anuais.columns = df_anuais.columns.droplevel(level=0)\n",
    "df_anuais = df_anuais.fillna(0).rename(columns={1: \"jan\", 2: \"fev\", 3: \"mar\", 4: \"abr\", 5: \"mai\", 6: \"jun\",\n",
    "                                                7: \"jul\", 8: \"ago\", 9: \"set\", 10: \"out\", 11: \"nov\", 12: \"dez\"})\n",
    "df_anuais[\"média\"] = df_anuais.mean(axis=1)\n",
    "df_anuais[\"total\"] = df_anuais[df_anuais.columns[:-1]].sum(axis=1)\n",
    "df_anuais"
   ],
   "id": "83e6632938b2ca0",
   "outputs": [],
   "execution_count": null
  },
  {
   "metadata": {},
   "cell_type": "code",
   "source": [
    "# exibir o gráfico do total de mês a mês para o ano atual\n",
    "plt.figure(figsize=(16, 6))\n",
    "plt.style.use(\"ggplot\")\n",
    "\n",
    "year = 2025\n",
    "\n",
    "ax: plt.Axes = sns.barplot(data=df_anuais.loc[[year], df_anuais.columns[:-2]])\n",
    "ax.set_title(f\"Espelho {year}\", loc=\"center\", fontweight=\"bold\", fontsize=12)\n",
    "ax.set(xlabel=\"\", ylabel=\"\", yticks=[])\n",
    "\n",
    "for mes in range(12):\n",
    "    ax.bar_label(ax.containers[mes], fmt=lambda i: lc.currency(val=i, symbol=False, grouping=True), fontsize=10)\n",
    "\n",
    "plt.show()"
   ],
   "id": "2ac05ede5ffec6d3",
   "outputs": [],
   "execution_count": null
  }
 ],
 "metadata": {
  "kernelspec": {
   "display_name": "Python 3 (ipykernel)",
   "language": "python",
   "name": "python3"
  },
  "language_info": {
   "codemirror_mode": {
    "name": "ipython",
    "version": 3
   },
   "file_extension": ".py",
   "mimetype": "text/x-python",
   "name": "python",
   "nbconvert_exporter": "python",
   "pygments_lexer": "ipython3",
   "version": "3.12.0"
  }
 },
 "nbformat": 4,
 "nbformat_minor": 5
}
