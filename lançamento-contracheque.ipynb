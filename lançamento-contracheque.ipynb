{
 "cells": [
  {
   "cell_type": "code",
   "id": "initial_id",
   "metadata": {
    "collapsed": true
   },
   "source": [
    "from datetime import datetime\n",
    "import locale\n",
    "import os\n",
    "\n",
    "from dotenv import load_dotenv\n",
    "import matplotlib.pyplot as plt\n",
    "import pandas as pd\n",
    "import seaborn as sns\n",
    "import sqlalchemy as sa\n",
    "\n",
    "locale.setlocale(locale.LC_ALL, \"pt_BR.UTF-8\")\n",
    "locale.setlocale(locale.LC_MONETARY, \"pt_BR.UTF-8\")\n",
    "\n",
    "pd.set_option(\"display.float_format\", lambda x: f\"R$ {locale.currency(val=x, symbol=False, grouping=True)}\")\n",
    "pd.set_option(\"display.max_columns\", None)\n",
    "\n",
    "load_dotenv()\n",
    "\n",
    "engine: sa.Engine = sa.create_engine(os.getenv(\"URL_MYSQL\"))"
   ],
   "outputs": [],
   "execution_count": null
  },
  {
   "metadata": {},
   "cell_type": "code",
   "source": [
    "sqls: list[str] = [\n",
    "    \"\"\"\n",
    "        CREATE TABLE IF NOT EXISTS lançamento (\n",
    "            id_lançamento TINYINT AUTO_INCREMENT PRIMARY KEY,\n",
    "            lançamento VARCHAR(60) NOT NULL\n",
    "        )\n",
    "    \"\"\",\n",
    "    \"\"\"\n",
    "        CREATE TABLE IF NOT EXISTS espelho (\n",
    "            id INTEGER AUTO_INCREMENT PRIMARY KEY,\n",
    "            id_lançamento TINYINT NOT NULL,\n",
    "            período MEDIUMINT NOT NULL,\n",
    "            acerto BOOLEAN NOT NULL DEFAULT FALSE,\n",
    "            valor DOUBLE NOT NULL\n",
    "        )\n",
    "    \"\"\",\n",
    "    \"\"\"\n",
    "        SELECT id_lançamento AS Código, lançamento AS Lançamento\n",
    "        FROM lançamento\n",
    "    \"\"\",\n",
    "    \"\"\"\n",
    "        SELECT id_lançamento AS Código, período AS Período, acerto AS Acerto, valor AS Valor\n",
    "        FROM espelho\n",
    "    \"\"\",\n",
    "    \"\"\"\n",
    "        SELECT y.lançamento AS Lançamento, x.período AS Período, IF(x.acerto = 1, 'A', 'M') AS Acerto, x.valor AS Valor\n",
    "        FROM espelho x LEFT JOIN lançamento y ON x.id_lançamento = y.id_lançamento\n",
    "        WHERE x.período = YEAR(CURRENT_DATE()) * 100 + MONTH(CURRENT_DATE())\n",
    "    \"\"\",\n",
    "    \"\"\"\n",
    "        SELECT SUM(valor) AS Total\n",
    "        FROM espelho\n",
    "        WHERE período = YEAR(CURRENT_DATE()) * 100 + MONTH(CURRENT_DATE())\n",
    "    \"\"\",\n",
    "    \"\"\"\n",
    "        SELECT período AS Período, SUM(valor) AS Total\n",
    "        FROM espelho\n",
    "        WHERE SUBSTR(período, 1, 4) = YEAR(CURRENT_DATE())\n",
    "        GROUP BY período\n",
    "    \"\"\"\n",
    "]"
   ],
   "id": "37a4f8baa924ace5",
   "outputs": [],
   "execution_count": null
  },
  {
   "metadata": {},
   "cell_type": "code",
   "source": [
    "with engine.begin() as cnx:\n",
    "    cnx.execute(sa.text(sqls[0]))\n",
    "print(\"Tabela criada com sucesso!\")"
   ],
   "id": "89febd323dbcff44",
   "outputs": [],
   "execution_count": null
  },
  {
   "metadata": {},
   "cell_type": "code",
   "source": [
    "df_new: pd.DataFrame = pd.read_csv(\"./src/espelho.csv\", sep=\",\", encoding=\"utf-8-sig\")\n",
    "row_inserted: int = df_new.to_sql(name=\"espelho\", con=engine, if_exists=\"append\", index=False)\n",
    "print(f\"Foram {row_inserted} lançamentos inseridos com sucesso.\")"
   ],
   "id": "387894b4886b9516",
   "outputs": [],
   "execution_count": null
  },
  {
   "metadata": {},
   "cell_type": "code",
   "source": "pd.read_sql(sql=sa.text(sqls[6]), con=engine)",
   "id": "fcbd667d9bcad6c7",
   "outputs": [],
   "execution_count": null
  },
  {
   "metadata": {},
   "cell_type": "code",
   "source": [
    "year: int = int(input(\"Em que ano quer visualizar o gráfico (a partir de 2005)? \"))\n",
    "\n",
    "if 2005 <= year <= datetime.now().year:\n",
    "    stmt: str = f\"\"\"\n",
    "        SELECT\n",
    "            SUBSTR(período, 1, 4) AS ano,\n",
    "            CONCAT('mês ', SUBSTR(período, 5)) AS mes,\n",
    "            SUM(valor) AS valor\n",
    "        FROM\n",
    "            espelho\n",
    "        GROUP BY\n",
    "            ano,\n",
    "            mes\n",
    "    \"\"\"\n",
    "\n",
    "    df_anual: pd.DataFrame = pd.read_sql(sql=sa.text(stmt), con=engine)\n",
    "    df_anual = df_anual.pivot(columns=[\"mes\"], index=[\"ano\"], values=[\"valor\"])\n",
    "    df_anual.columns = df_anual.columns.droplevel(level=0)\n",
    "    df_anual.reset_index(inplace=True)\n",
    "    df_anual[\"ano\"] = df_anual[\"ano\"].astype(int)\n",
    "    df_anual.set_index([\"ano\"], inplace=True)\n",
    "    df_anual.fillna(0, inplace=True)\n",
    "    df_anual[\"média\"] = df_anual.mean(axis=1)\n",
    "    df_anual[\"total\"] = df_anual[df_anual.columns[:-1]].sum(axis=1)\n",
    "    df_anual.columns = [\"jan\", \"fev\", \"mar\", \"abr\", \"mai\", \"jun\", \"jul\", \"ago\", \"set\", \"out\", \"nov\", \"dez\", \"média\", \"total\"]\n",
    "\n",
    "    plt.figure(figsize=(16, 4))\n",
    "    plt.style.use(\"ggplot\")\n",
    "\n",
    "    ax: plt.Axes = sns.barplot(data=df_anual.loc[[year], df_anual.columns[:-2]])\n",
    "    ax.set_title(f\"Espelho {year}\", loc=\"center\", fontweight=\"bold\", fontsize=12)\n",
    "    ax.set(xlabel=\"\", ylabel=\"\", yticks=[])\n",
    "\n",
    "    for mes in range(12):\n",
    "        ax.bar_label(ax.containers[mes], fmt=lambda i: locale.currency(val=i, symbol=False, grouping=True), fontsize=10)\n",
    "\n",
    "    plt.show()\n",
    "else:\n",
    "    print(f\"Não consta o contracheque do ano {year}.\")"
   ],
   "id": "25d65932cc496b87",
   "outputs": [],
   "execution_count": null
  }
 ],
 "metadata": {
  "kernelspec": {
   "display_name": "Python 3",
   "language": "python",
   "name": "python3"
  },
  "language_info": {
   "codemirror_mode": {
    "name": "ipython",
    "version": 2
   },
   "file_extension": ".py",
   "mimetype": "text/x-python",
   "name": "python",
   "nbconvert_exporter": "python",
   "pygments_lexer": "ipython2",
   "version": "2.7.6"
  }
 },
 "nbformat": 4,
 "nbformat_minor": 5
}
