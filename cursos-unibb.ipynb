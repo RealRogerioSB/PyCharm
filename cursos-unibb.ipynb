{
 "cells": [
  {
   "metadata": {
    "collapsed": true
   },
   "cell_type": "code",
   "source": [
    "import os\n",
    "from dotenv import load_dotenv\n",
    "import pandas as pd\n",
    "import sqlalchemy as sa\n",
    "\n",
    "load_dotenv()\n",
    "\n",
    "engine: sa.Engine = sa.create_engine(os.getenv(\"URL_MYSQL\"))"
   ],
   "id": "d9ff71b7c4e607b7",
   "outputs": [],
   "execution_count": null
  },
  {
   "metadata": {},
   "cell_type": "code",
   "source": [
    "stmt: str = \"\"\"\n",
    "    CREATE TABLE IF NOT EXISTS unibb (\n",
    "        id INT AUTO_INCREMENT PRIMARY KEY,\n",
    "        id_curso INT NOT NULL,\n",
    "        nm_curso VARCHAR(100) NOT NULL,\n",
    "        hr_curso TINYINT UNSIGNED NOT NULL\n",
    "    )\n",
    "\"\"\"\n",
    "\n",
    "with engine.begin() as cnx:\n",
    "    cnx.execute(sa.text(stmt))\n",
    "\n",
    "\"Tabela criada com sucesso.\""
   ],
   "id": "3b12ed16b712c7a2",
   "outputs": [],
   "execution_count": null
  },
  {
   "metadata": {},
   "cell_type": "code",
   "source": [
    "try:\n",
    "    df_new: pd.DataFrame = pd.read_csv(\"./src/unibb.csv\", sep=\",\", encoding=\"utf-8-sig\")\n",
    "    df_new = df_new[df_new[\"save\"].eq(1)]\n",
    "    df_new = df_new[[\"id_curso\", \"nm_curso\", \"hr_curso\"]]\n",
    "    rows_inserted: int = df_new.to_sql(name=\"unibb\", con=engine, if_exists=\"append\", index=False)\n",
    "\n",
    "    f\"Foram {rows_inserted} cursos inseridos com sucesso.\"\n",
    "except FileNotFoundError:\n",
    "    \"Erro ao localizar o arquivo .CSV...\"\n",
    "except UnicodeEncodeError:\n",
    "    \"Erro ao decodificar o arquivo .CSV...\"\n",
    "else:\n",
    "    df_deleted: pd.DataFrame = pd.read_csv(\"./src/unibb.csv\", sep=\",\", encoding=\"utf-8-sig\")\n",
    "    df_deleted[df_deleted[\"save\"].ne(1)].to_csv(\"./src/unibb.csv\", index=False, sep=\",\", encoding=\"utf-8-sig\")\n",
    "\n",
    "    \"Cursos atualizados com sucesso.\""
   ],
   "id": "aaa99da3743e6fb9",
   "outputs": [],
   "execution_count": null
  },
  {
   "metadata": {},
   "cell_type": "code",
   "source": [
    "# classificar por ID\n",
    "stmt: str = \"SELECT id_curso AS Código, nm_curso AS Curso, hr_curso AS Horas FROM unibb ORDER BY id\"\n",
    "\n",
    "pd.read_sql(sql=sa.text(stmt), con=engine)"
   ],
   "id": "c21a39ccebf98e4b",
   "outputs": [],
   "execution_count": null
  },
  {
   "metadata": {},
   "cell_type": "code",
   "source": [
    "# classificar por ID_CURSO\n",
    "stmt: str = \"SELECT id_curso AS Código, nm_curso AS Curso, hr_curso AS Horas FROM unibb ORDER BY id_curso\"\n",
    "\n",
    "pd.read_sql(sql=sa.text(stmt), con=engine)"
   ],
   "id": "1d32af8b926e344a",
   "outputs": [],
   "execution_count": null
  },
  {
   "metadata": {},
   "cell_type": "code",
   "source": [
    "# verificar cursos duplicados\n",
    "stmt: str = \"\"\"\n",
    "    SELECT id_curso AS Código, nm_curso AS Curso, hr_curso AS Horas FROM unibb WHERE nm_curso IN\n",
    "        (SELECT nm_curso FROM unibb GROUP BY nm_curso HAVING COUNT(nm_curso) > 1)\n",
    "    ORDER BY nm_curso, id_curso\n",
    "\"\"\"\n",
    "\n",
    "pd.read_sql(sql=sa.text(stmt), con=engine)"
   ],
   "id": "ecb21b401856b0ea",
   "outputs": [],
   "execution_count": null
  }
 ],
 "metadata": {
  "kernelspec": {
   "display_name": "Python 3",
   "language": "python",
   "name": "python3"
  },
  "language_info": {
   "codemirror_mode": {
    "name": "ipython",
    "version": 2
   },
   "file_extension": ".py",
   "mimetype": "text/x-python",
   "name": "python",
   "nbconvert_exporter": "python",
   "pygments_lexer": "ipython2",
   "version": "2.7.6"
  }
 },
 "nbformat": 4,
 "nbformat_minor": 5
}
