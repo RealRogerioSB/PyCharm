{
 "cells": [
  {
   "metadata": {
    "trusted": true
   },
   "cell_type": "code",
   "source": [
    "import pandas as pd\n",
    "from annotated_types.test_cases import cases\n",
    "\n",
    "df = pd.DataFrame({\"nome\": [\"Rogério\"], \"salário\": [\"$8.500,00\"]})\n",
    "display(df)\n",
    "\n",
    "df[\"moeda\"] = df[\"salário\"].str.replace(\"(\\$\\.)\", \"\", regex=True).str.replace(\",\", \".\").astype(float)\n",
    "display(df)\n",
    "\n",
    "print(df.info())"
   ],
   "outputs": [],
   "execution_count": null
  },
  {
   "metadata": {
    "trusted": true
   },
   "cell_type": "code",
   "source": [
    "import pandas as pd\n",
    "\n",
    "xml_ = pd.read_xml(\"./src/nfse_08644821002035_41462_41059_3_enviada.xml\")\n",
    "\n",
    "xml_"
   ],
   "outputs": [],
   "execution_count": null
  },
  {
   "metadata": {
    "trusted": true
   },
   "cell_type": "code",
   "source": [
    "import pandas as pd\n",
    "from pandas.tseries.offsets import MonthBegin, MonthEnd\n",
    "\n",
    "dt = pd.Timestamp.now().date()\n",
    "print(\"Hoje é         ->\", dt.strftime(\"%d/%m/%Y\"))\n",
    "print(\"MonthBegin(-1) ->\", (dt + MonthBegin(-1)).strftime(\"%d/%m/%Y\"))\n",
    "print(\"MonthBegin(0)  ->\", (dt + MonthBegin(0)).strftime(\"%d/%m/%Y\"))\n",
    "print(\"MonthBegin(1)  ->\", (dt + MonthBegin(1)).strftime(\"%d/%m/%Y\"))\n",
    "print(\"MonthBegin(2)  ->\", (dt + MonthBegin(2)).strftime(\"%d/%m/%Y\"))\n",
    "print(\"MonthEnd(-1)   ->\", (dt + MonthEnd(-1)).strftime(\"%d/%m/%Y\"))\n",
    "print(\"MonthEnd(0)    ->\", (dt + MonthEnd(0)).strftime(\"%d/%m/%Y\"))\n",
    "print(\"MonthEnd(1)    ->\", (dt + MonthEnd(1)).strftime(\"%d/%m/%Y\"))\n",
    "print(\"MonthEnd(2)    ->\", (dt + MonthEnd(2)).strftime(\"%d/%m/%Y\"))"
   ],
   "outputs": [],
   "execution_count": null
  },
  {
   "metadata": {
    "trusted": true
   },
   "cell_type": "code",
   "source": [
    "import pandas as pd\n",
    "\n",
    "caixa = {\"Informações\": [\"Loja A - 2000\", \"Loja B - 5000\", \"Loja Teste - 300\", \"Loja Nova - 250\", \"Loja Bolada - 10000\"]}\n",
    "\n",
    "df = pd.DataFrame(caixa)\n",
    "display(df)\n",
    "\n",
    "df[[\"Loja\", \"Faturamento\"]] = df[\"Informações\"].str.split(\" - \", expand=True)\n",
    "df.Faturamento = df.Faturamento.astype(float)\n",
    "display(df)"
   ],
   "outputs": [],
   "execution_count": null
  },
  {
   "metadata": {
    "scrolled": false,
    "trusted": true
   },
   "cell_type": "code",
   "source": [
    "import pandas as pd\n",
    "\n",
    "df = pd.DataFrame(pd.date_range(\"2023-01-01\", \"2023-06-03\"), columns=[\"Data\"])\n",
    "\n",
    "display(df)\n",
    "\n",
    "display(df[df[\"Data\"].isin([\"2023-01-30\", \"2023-03-15\", \"2023-03-18\"])])\n",
    "\n",
    "display(df[df[\"Data\"].dt.month == 1])\n",
    "\n",
    "display(df[df[\"Data\"].dt.year == 2022])\n",
    "\n",
    "display(df[(df[\"Data\"].dt.month == 6) & (df[\"Data\"].dt.year == 2023)])\n",
    "\n",
    "display(df[(df[\"Data\"].dt.month == 6) | (df[\"Data\"].dt.year == 2023)])\n",
    "\n",
    "display(df[df[\"Data\"].between(\"2023-03-01\", \"2023-03-18\")])\n",
    "\n",
    "display(df[df[\"Data\"].dt.day_name().isin([\"Saturday\", \"Monday\"])])\n",
    "\n",
    "display(df[df[\"Data\"] >= pd.to_datetime(\"today\") - pd.DateOffset(months=3)])"
   ],
   "outputs": [],
   "execution_count": null
  },
  {
   "metadata": {
    "trusted": true
   },
   "cell_type": "code",
   "source": [
    "import pandas as pd\n",
    "\n",
    "# exibe os nomes de abas\n",
    "pd.ExcelFile(\"./src/<filename_xlsx>\").sheet_names"
   ],
   "outputs": [],
   "execution_count": null
  },
  {
   "metadata": {
    "trusted": true
   },
   "cell_type": "code",
   "source": [
    "import pandas as pd\n",
    "\n",
    "df = pd.DataFrame({\"first_name\": [\"Rogério\"], \"birth_date\": [\"1972-01-30 06:30:00\"]})\n",
    "df[\"birth_date\"] = pd.to_datetime(df[\"birth_date\"], format=\"%Y-%m-%d %H:%M:%S\")\n",
    "\n",
    "df = df.assign(\n",
    "    only_date=df[\"birth_date\"].dt.date,\n",
    "    only_time=df[\"birth_date\"].dt.time,\n",
    "    only_year=df[\"birth_date\"].dt.year,\n",
    "    only_quarter=df[\"birth_date\"].dt.quarter,\n",
    "    only_month=df[\"birth_date\"].dt.month,\n",
    "    only_day=df[\"birth_date\"].dt.day,\n",
    "    only_hour=df[\"birth_date\"].dt.hour,\n",
    "    only_minute=df[\"birth_date\"].dt.minute,\n",
    "    only_second=df[\"birth_date\"].dt.second\n",
    ")\n",
    "\n",
    "df[\"only_year\"] = df[\"only_year\"].astype(\"int16\")\n",
    "df[\"only_quarter\"] = df[\"only_quarter\"].astype(\"int8\")\n",
    "df[\"only_month\"] = df[\"only_month\"].astype(\"int8\")\n",
    "df[\"only_day\"] = df[\"only_day\"].astype(\"int8\")\n",
    "df[\"only_hour\"] = df[\"only_hour\"].astype(\"int8\")\n",
    "df[\"only_minute\"] = df[\"only_minute\"].astype(\"int8\")\n",
    "df[\"only_second\"] = df[\"only_second\"].astype(\"int8\")\n",
    "print(df.info())\n",
    "\n",
    "df"
   ],
   "outputs": [],
   "execution_count": null
  },
  {
   "metadata": {
    "trusted": true
   },
   "cell_type": "code",
   "source": [
    "import pandas as pd\n",
    "\n",
    "df = pd.DataFrame([[1, 2], [4, 5], [7, 8]], [\"cobra\", \"viper\", \"sidewinder\"], [\"max_speed\", \"shield\"])\n",
    "df.columns.name = \"Espécimes\"\n",
    "\n",
    "print(\"Exibindo 'df'...\")\n",
    "display(df)\n",
    "\n",
    "print(\"Exibindo 'df.loc[viper]'...\")\n",
    "display(df.loc[[\"viper\"]])\n",
    "\n",
    "print(\"Exibindo 'df.loc[[viper, sidewinder]]'...\")\n",
    "display(df.loc[[\"viper\", \"sidewinder\"]])\n",
    "\n",
    "print(\"Exibindo 'df.loc[cobra, shield]'...\")\n",
    "display(df.loc[[\"cobra\", \"shield\"]])\n",
    "\n",
    "print(\"Exibindo 'df.loc[cobra:viper, max_speed]'...\")\n",
    "display(df.loc[[\"cobra\":\"viper\", \"max_speed\"]])\n",
    "\n",
    "print(\"Exibindo 'df.loc[[False, False, True]]'...\")\n",
    "display(df.loc[[False, False, True]])\n",
    "\n",
    "print(\"Exibindo 'df.loc[pd.Series([False, True, False], index=[viper, sidewinder, cobra])]'...\")\n",
    "display(df.loc[[pd.Series([False, True, False], index=[\"viper\", \"sidewinder\", \"cobra\"])]])\n",
    "\n",
    "print(\"Exibindo 'df.loc[pd.Index([cobra, viper], name=foo)]'...\")\n",
    "display(df.loc[[pd.Index([\"cobra\", \"viper\"], name=\"foo\")]])\n",
    "\n",
    "print(\"Exibindo 'df.loc[df[shield] > 6]'...\")\n",
    "display(df.loc[df[\"shield\"] > 6])\n",
    "\n",
    "print(\"Exibindo 'df.loc[df[shield] > 6, [max_speed]]'...\")\n",
    "display(df.loc[df[\"shield\"] > 6, [\"max_speed\"]])\n",
    "\n",
    "print(\"Exibindo 'df.loc[lambda x: x[shield] == 8]'...\")\n",
    "display(df.loc[lambda xx: xx[\"shield\"] == 8])"
   ],
   "outputs": [],
   "execution_count": null
  },
  {
   "metadata": {
    "trusted": true
   },
   "cell_type": "code",
   "source": [
    "from datetime import datetime, timedelta\n",
    "import pandas as pd\n",
    "\n",
    "start, end = datetime.now().date() - timedelta(days=360), datetime.now().date()\n",
    "\n",
    "mondays = pd.date_range(start=start, end=end, freq=\"W-MON\")\n",
    "print(mondays)\n",
    "print(f\"Entre {start:%m/%Y} e {end:%m/%Y} existem {len(mondays)} segundas-feiras.\")\n",
    "\n",
    "hours = pd.date_range(start=start, end=end, freq=\"h\")\n",
    "print(hours)\n",
    "print(f\"{start:%B de %Y} possui um total de {len(hours) - 1} horas.\")\n",
    "\n",
    "month_ = pd.date_range(start=start.strftime(\"%Y-%m\"), periods=31)\n",
    "mes_ = pd.DataFrame(month_, columns=[\"Data\"])\n",
    "\n",
    "mes_[\"Dia do Ano\"] = mes_[\"Data\"].dt.dayofyear\n",
    "mes_[\"Ano\"] = mes_[\"Data\"].dt.year\n",
    "mes_[\"Mês\"] = mes_[\"Data\"].dt.month\n",
    "mes_[\"Dia\"] = mes_[\"Data\"].dt.day\n",
    "print(mes_)"
   ],
   "outputs": [],
   "execution_count": null
  },
  {
   "metadata": {
    "trusted": true
   },
   "cell_type": "code",
   "source": [
    "import numpy as np\n",
    "import pandas as pd\n",
    "\n",
    "data = {\n",
    "    \"nome\": [\"Carmem\", \"Giovana\", \"Luiza\", \"Rogério\"],\n",
    "    \"idade\": [46, 16, 51, 78],\n",
    "    \"sexo\": [False, False, False, True]\n",
    "}\n",
    "\n",
    "df = pd.DataFrame(data)\n",
    "\n",
    "print(df.info())\n",
    "\n",
    "# df[\"domínio\"] = [\"membro\"] * (len(df) - 1) + [\"admin\"]\n",
    "df[\"domínio\"] = np.where(df[\"nome\"].eq(\"Rogério\"), \"admin\", \"membro\")\n",
    "\n",
    "df"
   ],
   "outputs": [],
   "execution_count": null
  },
  {
   "metadata": {
    "trusted": true
   },
   "cell_type": "code",
   "source": [
    "from dotenv import load_dotenv\n",
    "import os\n",
    "import numpy as np\n",
    "import pandas as pd\n",
    "import sqlalchemy as sqla\n",
    "import tabulate as tb\n",
    "\n",
    "load_dotenv()\n",
    "\n",
    "motor = sqla.engine.create_engine(os.getenv(\"URL_MYSQL\"))\n",
    "\n",
    "with motor.connect() as conn:\n",
    "    df = pd.read_sql(sql=sqla.sql.text(\"select * from employer\"), con=conn)\n",
    "    df[\"idf\"] = df[\"idf\"].map(lambda x: f\"{x:02}\")\n",
    "    df[\"ids\"] = np.where(df[\"ids\"].eq(1), \"Masculino\", \"Feminino\")\n",
    "    df[\"idd\"] = pd.to_datetime(df[\"idd\"]).dt.strftime(\"%d/%m/%Y\")\n",
    "    df[\"idr\"] = df.idr.apply(lambda x: f\"{x:_.2f}\".replace(\".\", \",\").replace(\"_\", \".\"))\n",
    "    df.columns = [\"ID\", \"Nome\", \"Sexo\", \"Data\", \"Renda\"]\n",
    "#     df.rename(columns={\"idf\": \"ID\", \"idn\": \"Nome\", \"ids\": \"Sexo\", \"idd\": \"Data\", \"idr\": \"Renda\"}, inplace=True)\n",
    "print(tb.tabulate(df, headers=\"keys\", tablefmt=\"grid\", colalign=[\"center\", \"left\", \"left\", \"center\", \"decimal\"], showindex=False))\n",
    "\n",
    "# display(df)"
   ],
   "outputs": [],
   "execution_count": null
  },
  {
   "metadata": {
    "trusted": true
   },
   "cell_type": "code",
   "source": [
    "import pandas as pd\n",
    "\n",
    "aVontade = {\n",
    "    \"Nome\": [\"Rogério Balloussier\", \"Carmem Balloussier\"],\n",
    "    \"Apelido\": [\"eusouRogerioSB\", \"CarmemMB\"],\n",
    "    \"E-mail\": [\"rogerioballoussier@icloud.com\", \"carmemmb@icloud.com\"],\n",
    "    \"Celular\": [\"(61)98358-1972\", \"(71)98224-5015\"],\n",
    "    \"Sexo\": [True, False],\n",
    "    \"DtNasc\": [datetime(1972, 1, 30), datetime(1977, 10, 19)]\n",
    "}\n",
    "\n",
    "df = pd.DataFrame(aVontade)\n",
    "print(df.info())\n",
    "df[\"Sexo\"] = df[\"Sexo\"].map({False: \"Feminino\", True: \"Masculino\"})\n",
    "df[\"DtNasc\"] = df[\"DtNasc\"].dt.strftime(\"%d/%m/%Y\")\n",
    "display(df)"
   ],
   "outputs": [],
   "execution_count": null
  },
  {
   "metadata": {},
   "cell_type": "markdown",
   "source": [
    "### Analise Financeira Simples"
   ]
  },
  {
   "metadata": {
    "trusted": true
   },
   "cell_type": "code",
   "source": [
    "from datetime import date\n",
    "import numpy as np\n",
    "import pandas as pd\n",
    "from pandas_datareader import data as wb\n",
    "import matplotlib.pyplot as plt\n",
    "import yfinance as yf\n",
    "\n",
    "yf.pdr_override()"
   ],
   "outputs": [],
   "execution_count": null
  },
  {
   "metadata": {
    "trusted": true
   },
   "cell_type": "code",
   "source": [
    "data = wb.get_data_yahoo(\"BBAS3.SA\", date(2020, 1, 1), date.today())\n",
    "\n",
    "data.tail()"
   ],
   "outputs": [],
   "execution_count": null
  },
  {
   "metadata": {
    "trusted": true
   },
   "cell_type": "code",
   "source": [
    "data[\"Resultado\"] = data[\"Adj Close\"] / data[\"Adj Close\"].shift(1) - 1\n",
    "\n",
    "print(data[\"Resultado\"])"
   ],
   "outputs": [],
   "execution_count": null
  },
  {
   "metadata": {
    "trusted": true
   },
   "cell_type": "code",
   "source": [
    "data[\"Resultado\"].plot(figsize=(8, 5))\n",
    "plt.show()"
   ],
   "outputs": [],
   "execution_count": null
  },
  {
   "metadata": {
    "trusted": true
   },
   "cell_type": "code",
   "source": [
    "media_simples = data[\"Resultado\"].mean()\n",
    "print(media_simples)"
   ],
   "outputs": [],
   "execution_count": null
  },
  {
   "metadata": {
    "trusted": true
   },
   "cell_type": "code",
   "source": [
    "media_anual = data[\"Resultado\"].mean() * 250\n",
    "print(media_anual)\n",
    "print(str(round(media_anual, 5) * 100) + \"%\")"
   ],
   "outputs": [],
   "execution_count": null
  },
  {
   "metadata": {
    "trusted": true
   },
   "cell_type": "code",
   "source": [
    "data[\"RetLogaritmico\"] = np.log(data[\"Adj Close\"] / data[\"Adj Close\"].shift(1))\n",
    "print(data[\"RetLogaritmico\"])"
   ],
   "outputs": [],
   "execution_count": null
  },
  {
   "metadata": {
    "trusted": true
   },
   "cell_type": "code",
   "source": [
    "data[\"RetLogaritmico\"].plot(figsize=(8, 5))\n",
    "plt.show()"
   ],
   "outputs": [],
   "execution_count": null
  },
  {
   "metadata": {
    "trusted": true
   },
   "cell_type": "code",
   "source": [
    "media_log = data[\"RetLogaritmico\"].mean() * 250\n",
    "print(str(round(media_log, 5) * 100) + \"%\")"
   ],
   "outputs": [],
   "execution_count": null
  },
  {
   "metadata": {
    "trusted": true
   },
   "cell_type": "code",
   "source": [
    "carteiras = [\"^BVSP\", \"AAPL\", \"AAPL34.SA\", \"AMZO34.SA\", \"GOGL34.SA\", \"MSFT34.SA\"]\n",
    "\n",
    "database = pd.DataFrame()\n",
    "\n",
    "for i in carteiras:\n",
    "    database[i] = wb.get_data_yahoo(i, \"2020-01-01\")[\"Adj Close\"]    "
   ],
   "outputs": [],
   "execution_count": null
  },
  {
   "metadata": {
    "trusted": true
   },
   "cell_type": "code",
   "source": [
    "database.info()"
   ],
   "outputs": [],
   "execution_count": null
  },
  {
   "metadata": {
    "trusted": true
   },
   "cell_type": "code",
   "source": [
    "database.head()"
   ],
   "outputs": [],
   "execution_count": null
  },
  {
   "metadata": {
    "trusted": true
   },
   "cell_type": "code",
   "source": [
    "database.tail()"
   ],
   "outputs": [],
   "execution_count": null
  },
  {
   "metadata": {
    "trusted": true
   },
   "cell_type": "code",
   "source": [
    "database.iloc[0]"
   ],
   "outputs": [],
   "execution_count": null
  },
  {
   "metadata": {
    "trusted": true
   },
   "cell_type": "code",
   "source": [
    "(database / database.iloc[0] * 100).plot(figsize=(8, 5))\n",
    "plt.show()"
   ],
   "outputs": [],
   "execution_count": null
  },
  {
   "metadata": {
    "trusted": true
   },
   "cell_type": "code",
   "source": [
    "ret_carteiras = (database / database.shift(1)) - 1\n",
    "ret_carteiras.head()"
   ],
   "outputs": [],
   "execution_count": null
  },
  {
   "metadata": {
    "trusted": true
   },
   "cell_type": "code",
   "source": [
    "pesos = np.array([0.2, 0.2, 0.2, 0.2, 0.2])\n",
    "np.dot(ret_carteiras, pesos)"
   ],
   "outputs": [],
   "execution_count": null
  },
  {
   "metadata": {
    "trusted": true
   },
   "cell_type": "code",
   "source": [
    "mediacarteiras = ret_carteiras.mean() * 100\n",
    "print(mediacarteiras)"
   ],
   "outputs": [],
   "execution_count": null
  },
  {
   "metadata": {
    "trusted": true
   },
   "cell_type": "code",
   "source": [
    "mediaretornoanual = ret_carteiras.mean() * 250\n",
    "print(mediaretornoanual)"
   ],
   "outputs": [],
   "execution_count": null
  },
  {
   "metadata": {
    "trusted": true
   },
   "cell_type": "code",
   "source": [
    "np.dot(mediaretornoanual, pesos)"
   ],
   "outputs": [],
   "execution_count": null
  },
  {
   "metadata": {
    "trusted": true
   },
   "cell_type": "code",
   "source": [
    "portfolio = str(round(np.dot(mediaretornoanual, pesos), 5) * 100) + \"%\"\n",
    "print(portfolio)"
   ],
   "outputs": [],
   "execution_count": null
  },
  {
   "metadata": {
    "trusted": true
   },
   "cell_type": "code",
   "source": [
    "pesos2 = np.array([0.3, 0.3, 0.15, 0.05, 0.2])\n",
    "portfolio2 = str(round(np.dot(mediaretornoanual, pesos2), 5) * 100) + \"%\"\n",
    "print(portfolio2)"
   ],
   "outputs": [],
   "execution_count": null
  },
  {
   "metadata": {
    "trusted": true
   },
   "cell_type": "code",
   "source": [
    "ind_carteiras = [\"^GSPC\", \"^IXIC\", \"^GDAXI\"]\n",
    "indicadores = pd.DataFrame()\n",
    "\n",
    "for t in ind_carteiras:\n",
    "    indicadores[t] = wb.get_data_yahoo(t, \"2000-01-01\")[\"Adj Close\"]"
   ],
   "outputs": [],
   "execution_count": null
  },
  {
   "metadata": {
    "trusted": true
   },
   "cell_type": "code",
   "source": [
    "indicadores.head()"
   ],
   "outputs": [],
   "execution_count": null
  },
  {
   "metadata": {
    "trusted": true
   },
   "cell_type": "code",
   "source": [
    "indicadores.tail()"
   ],
   "outputs": [],
   "execution_count": null
  },
  {
   "metadata": {
    "trusted": true
   },
   "cell_type": "code",
   "source": [
    "(indicadores / indicadores.iloc[0] * 100).plot(figsize=(8, 5))\n",
    "plt.show()"
   ],
   "outputs": [],
   "execution_count": null
  },
  {
   "metadata": {
    "trusted": true
   },
   "cell_type": "code",
   "source": [
    "retindicadores = (indicadores / indicadores.shift(1)) -1\n",
    "retindicadores.tail()"
   ],
   "outputs": [],
   "execution_count": null
  },
  {
   "metadata": {
    "trusted": true
   },
   "cell_type": "code",
   "source": [
    "retindicadoresanuais = retindicadores.mean() * 250\n",
    "print(retindicadoresanuais)"
   ],
   "outputs": [],
   "execution_count": null
  },
  {
   "metadata": {
    "trusted": true
   },
   "cell_type": "code",
   "source": [
    "carteiras = [\"^BVSP\", \"AAPL\"]\n",
    "database = pd.DataFrame()\n",
    "\n",
    "for i in carteiras:\n",
    "    database[i] = wb.get_data_yahoo(i, \"2010-01-01\")[\"Adj Close\"]\n",
    "\n",
    "database.tail()"
   ],
   "outputs": [],
   "execution_count": null
  },
  {
   "metadata": {
    "trusted": true
   },
   "cell_type": "code",
   "source": [
    "retorno = np.log(database / database.shift(periods=1))\n",
    "print(retorno)"
   ],
   "outputs": [],
   "execution_count": null
  },
  {
   "metadata": {
    "trusted": true
   },
   "cell_type": "code",
   "source": [
    "retorno[\"^BVSP\"].mean()"
   ],
   "outputs": [],
   "execution_count": null
  },
  {
   "metadata": {
    "trusted": true
   },
   "cell_type": "code",
   "source": [
    "retorno[\"^BVSP\"].mean() * 250"
   ],
   "outputs": [],
   "execution_count": null
  },
  {
   "metadata": {
    "trusted": true
   },
   "cell_type": "code",
   "source": [
    "retorno[\"^BVSP\"].std()"
   ],
   "outputs": [],
   "execution_count": null
  },
  {
   "metadata": {
    "trusted": true
   },
   "cell_type": "code",
   "source": [
    "retorno[\"^BVSP\"].std() * 250 ** 0.5"
   ],
   "outputs": [],
   "execution_count": null
  },
  {
   "metadata": {
    "trusted": true
   },
   "cell_type": "code",
   "source": [
    "retorno[\"AAPL\"].mean()"
   ],
   "outputs": [],
   "execution_count": null
  },
  {
   "metadata": {
    "trusted": true
   },
   "cell_type": "code",
   "source": [
    "retorno[\"AAPL\"].mean() * 250"
   ],
   "outputs": [],
   "execution_count": null
  },
  {
   "metadata": {
    "trusted": true
   },
   "cell_type": "code",
   "source": [
    "retorno[\"AAPL\"].std()"
   ],
   "outputs": [],
   "execution_count": null
  },
  {
   "metadata": {
    "trusted": true
   },
   "cell_type": "code",
   "source": [
    "retorno[\"AAPL\"].std() * 250 ** 0.5"
   ],
   "outputs": [],
   "execution_count": null
  },
  {
   "metadata": {
    "trusted": true
   },
   "cell_type": "code",
   "source": [
    "f\"Média ^BVSP\", retorno[\"^BVSP\"].mean() * 250"
   ],
   "outputs": [],
   "execution_count": null
  },
  {
   "metadata": {
    "trusted": true
   },
   "cell_type": "code",
   "source": [
    "f\"Média AAPL\", retorno[\"AAPL\"].mean() * 250"
   ],
   "outputs": [],
   "execution_count": null
  },
  {
   "metadata": {
    "trusted": true
   },
   "cell_type": "code",
   "source": [
    "f\"Média entre ^BVSP e AAPL\", retorno[[\"^BVSP\", \"AAPL\"]].mean() * 250"
   ],
   "outputs": [],
   "execution_count": null
  },
  {
   "metadata": {
    "trusted": true
   },
   "cell_type": "code",
   "source": [
    "f\"Desvio Padrão entre ^BVSP e AAPL\", retorno[[\"^BVSP\", \"AAPL\"]].std() * 250 ** 0.5"
   ],
   "outputs": [],
   "execution_count": null
  },
  {
   "metadata": {},
   "cell_type": "markdown",
   "source": [
    "### Cotação de Ações"
   ]
  },
  {
   "metadata": {
    "trusted": true
   },
   "cell_type": "code",
   "source": [
    "import yfinance\n",
    "import pandas"
   ],
   "outputs": [],
   "execution_count": null
  },
  {
   "metadata": {
    "trusted": true
   },
   "cell_type": "code",
   "source": [
    "ticker = input(\"Digite o código da ação desejada: \")  # ^BVSP (IBOVESPA), BBAS3.SA (Banco do Brasil S.A), ...\n",
    "\n",
    "dados = yfinance.Ticker(ticker)\n",
    "\n",
    "print()\n",
    "\n",
    "for k, v in dados.info.items():\n",
    "    print(f\"{k.capitalize()}: {v}\")"
   ],
   "outputs": [],
   "execution_count": null
  },
  {
   "metadata": {
    "trusted": true
   },
   "cell_type": "code",
   "source": [
    "df = pandas.DataFrame(dados.history(period=\"max\"))\n",
    "\n",
    "# colunas: Date, Open, High, Low, Close, Volume, Dividends e Stock Splits\n",
    "display(df)"
   ],
   "outputs": [],
   "execution_count": null
  },
  {
   "metadata": {
    "trusted": true
   },
   "cell_type": "code",
   "source": [
    "# opções válidos para period: 1d, 5d, 1mo, 3mo, 6mo, 1y, 2y, 5y, 10y e ytd\n",
    "tabela = dados.history(period=\"6mo\")\n",
    "\n",
    "close = tabela.Close\n",
    "\n",
    "close.plot(figsize=(20, 4))\n",
    "plt.show()"
   ],
   "outputs": [],
   "execution_count": null
  },
  {
   "metadata": {
    "trusted": true
   },
   "cell_type": "code",
   "source": [
    "close"
   ],
   "outputs": [],
   "execution_count": null
  },
  {
   "metadata": {
    "trusted": true
   },
   "cell_type": "code",
   "source": [
    "# máximo e mínimo de cotação\n",
    "close.max(), close.min()"
   ],
   "outputs": [],
   "execution_count": null
  },
  {
   "metadata": {
    "trusted": true
   },
   "cell_type": "code",
   "source": [
    "# primeira e última linha do Close\n",
    "close[0], close[-1]"
   ],
   "outputs": [],
   "execution_count": null
  },
  {
   "metadata": {
    "trusted": true
   },
   "cell_type": "code",
   "source": [
    "from datetime import datetime\n",
    "import pandas as pd\n",
    "\n",
    "iniData = datetime(2007, 2, 27)\n",
    "fimData = datetime.now()\n",
    "\n",
    "display(pd.DataFrame(dados.history(start=iniData, end=fimData)))"
   ],
   "outputs": [],
   "execution_count": null
  },
  {
   "metadata": {
    "trusted": true
   },
   "cell_type": "code",
   "source": [
    "import pandas as pd\n",
    "\n",
    "df: dict[str: list[int | str | float]] = {\n",
    "    \"id\": [1, 2, 3],\n",
    "    \"nome\": [\"Rogério\", \"Carmem\", \"Giovana\"],\n",
    "    \"curso\": [\"Delphi;Python;SQL;SAS\", \"Microsoft Office\", \"Word;Excel\"],\n",
    "    \"salário\": [8000.0, 1000.0, 500.0]\n",
    "}\n",
    "\n",
    "df = pd.DataFrame(df)\n",
    "display(df)\n",
    "\n",
    "print(df[\"curso\"].str.len())\n",
    "\n",
    "display(df[df[\"curso\"].str.contains(\"Python\")])"
   ],
   "outputs": [],
   "execution_count": null
  },
  {
   "metadata": {},
   "cell_type": "markdown",
   "source": "### Teste sobre 'str'"
  },
  {
   "metadata": {},
   "cell_type": "code",
   "source": [
    "import numpy as np\n",
    "import pandas as pd\n",
    "\n",
    "data = {\n",
    "    \"id\": [1, 2],\n",
    "    \"nome\": [\"Rogério\", \"Carmem\"],\n",
    "    \"data\": [\"1972-01-30\", \"1977-10-19\"],\n",
    "    \"kyc\": [\"testar     áudio578afaMÉDIO   data:30/01/1972\", \"dfd   ALTO5678datação    data:19/10/1977\"],\n",
    "    \"trim\": [\" df~fm~trim~ ~trim xícara chá g12h   \", \"  dgf;trim~trim~g  ~gk gf s~trim~trim ~t34m    \"]\n",
    "}\n",
    "\n",
    "data = pd.DataFrame(data)"
   ],
   "outputs": [],
   "execution_count": null
  },
  {
   "metadata": {},
   "cell_type": "code",
   "source": [
    "data[\"data\"] = pd.to_datetime(data[\"data\"])\n",
    "data[\"idade\"] = data[\"data\"].apply(lambda x: pd.to_datetime(\"today\").year - x.year)\n",
    "data[\"idade\"]"
   ],
   "outputs": [],
   "execution_count": null
  },
  {
   "metadata": {},
   "cell_type": "code",
   "source": "data[data[\"idade\"].le(52)]",
   "outputs": [],
   "execution_count": null
  },
  {
   "metadata": {},
   "cell_type": "code",
   "source": "data[data[\"idade\"].lt(52)]",
   "outputs": [],
   "execution_count": null
  },
  {
   "metadata": {},
   "cell_type": "code",
   "source": "data[data[\"idade\"].le(50)]",
   "outputs": [],
   "execution_count": null
  },
  {
   "metadata": {},
   "cell_type": "code",
   "source": "pd.to_datetime(data[\"data\"].astype(str) + \" 11:59:59\")",
   "outputs": [],
   "execution_count": null
  },
  {
   "metadata": {},
   "cell_type": "code",
   "source": "pd.to_datetime(pd.to_datetime(data[\"data\"].astype(str) + \" 11:59:59\").astype(str).str[:10] + \" 23:59:59\")",
   "outputs": [],
   "execution_count": null
  },
  {
   "metadata": {},
   "cell_type": "code",
   "source": "data[\"kyc\"].str[16:20].isin([\"578a\", \"578y\"])",
   "outputs": [],
   "execution_count": null
  },
  {
   "metadata": {},
   "cell_type": "code",
   "source": "data[\"kyc\"].str.find(\"MÉDIO\")",
   "outputs": [],
   "execution_count": null
  },
  {
   "metadata": {},
   "cell_type": "code",
   "source": "data[data[\"kyc\"].str.find(\"MÉDIO\").ne(-1)]",
   "outputs": [],
   "execution_count": null
  },
  {
   "metadata": {},
   "cell_type": "code",
   "source": "data[\"kyc\"].str.len()",
   "outputs": [],
   "execution_count": null
  },
  {
   "metadata": {},
   "cell_type": "code",
   "source": "data[\"kyc\"].str.count(r\"\\d\")",
   "outputs": [],
   "execution_count": null
  },
  {
   "metadata": {},
   "cell_type": "code",
   "source": "data[\"kyc\"].str.count(r\"\\D\")",
   "outputs": [],
   "execution_count": null
  },
  {
   "metadata": {},
   "cell_type": "code",
   "source": "data[\"kyc\"].str.count(r\"\\w\")",
   "outputs": [],
   "execution_count": null
  },
  {
   "metadata": {},
   "cell_type": "code",
   "source": "data[\"kyc\"].str.count(r\"\\W\")",
   "outputs": [],
   "execution_count": null
  },
  {
   "metadata": {},
   "cell_type": "code",
   "source": "np.where(data[\"kyc\"].str.find(\"data:1\").eq(-1), False, True)",
   "outputs": [],
   "execution_count": null
  },
  {
   "metadata": {},
   "cell_type": "code",
   "source": "data[\"idade\"].astype(str).str.contains(r\"\\d\")",
   "outputs": [],
   "execution_count": null
  },
  {
   "metadata": {},
   "cell_type": "code",
   "source": [
    "data[\"data capturada 1\"] = data[\"kyc\"].str.extract(r\"(\\d{2}\\/\\d{2}\\/\\d{4})\")  # str.extract sempre precisa de parênteses\n",
    "data[\"data capturada 1\"] = pd.to_datetime(data[\"data capturada 1\"], format=\"%d/%m/%Y\")\n",
    "data[\"data capturada 1\"]"
   ],
   "outputs": [],
   "execution_count": null
  },
  {
   "metadata": {},
   "cell_type": "code",
   "source": "data[\"kyc\"].str.contains(r\"\\d{2}\\/\\d{2}\\/\\d{4}\", case=False)  # str.extract sempre precisa de parênteses",
   "outputs": [],
   "execution_count": null
  },
  {
   "metadata": {},
   "cell_type": "code",
   "source": "data[\"kyc\"].str.extract(r\"(\\d+)\").astype(float) / 100",
   "outputs": [],
   "execution_count": null
  },
  {
   "metadata": {},
   "cell_type": "code",
   "source": "data[\"trim\"].replace(r\"\\w\", \"\", regex=True)",
   "outputs": [],
   "execution_count": null
  },
  {
   "metadata": {},
   "cell_type": "code",
   "source": "data[\"trim\"].replace(r\"\\W\", \"\", regex=True)",
   "outputs": [],
   "execution_count": null
  },
  {
   "metadata": {},
   "cell_type": "code",
   "source": "data[\"trim\"].str.extract(r\"(\\d+)\")",
   "outputs": [],
   "execution_count": null
  },
  {
   "metadata": {},
   "cell_type": "code",
   "source": [
    "\"\"\"\n",
    "ore[\"REFERENCIA\"] = ore[\"X_FNLD_PGTO\"].str.extract(r\"0(.{,11})\")\n",
    "ore[\"REFERENCIA\"] = ore[\"REFERENCIA\"].str.extract(r\"0(\\d+)\")\n",
    "\n",
    "ore[\"CD_REF_DIGITOS\"] = ore.apply(lambda x: sum(c.isdigit() for c in x[\"CD_REF\"], axis=1)\n",
    "ou\n",
    "ore[\"CD_REF_DIGITOS\"] = ore[\"CD_REF\"].str.count(r\"\\d\")\n",
    "\n",
    "ore[\"VALA\"] = ore.apply(lambda x: 6 if not x[\"CD_REF\"].isdigit() or x[\"CD_REF_DIGITOS\"] > 11 else 9, axis=1)\n",
    "ou\n",
    "ore[\"VALA\"] = np.where(~ore[\"CD_REF\"].isdigit() | ore[\"CD_REF_DIGITOS\"].gt(11), 6, 9)\n",
    "\n",
    "ore[\"REFERENCIA\"] = ore.apply(lambda x: str(ore[\"REFERENCIA\"].zfill(11) if x[\"REF_DIGITOS\"] >= 10 else np.nan, axis=1)\n",
    "ou\n",
    "ore[\"REFERENCIA\"] = np.where(ore[\"REF_DIGITOS\"].ge(10), ore[\"REFERENCIA\"].astype(str).str.zfill(11), np.nan)\n",
    "\n",
    "lista_mci = tuple(ore[\"COD_MCI\"].drop_duplicates().astype(int))\n",
    "\n",
    "ore[\"CD_CCL_EXTO_BANQ\"] = ore[\"CD_CCL_EXTO_BANQ\"].astype(str).str.strip().str.zfill(11)\n",
    "\n",
    "ore[\"SMT_REF\"] = np.where(ore[\"DATA_REF\"].dt.quarter.gt(2), 2, 1).astype(str)\n",
    "\n",
    "ore[\"DT_ENTD\"] = pd.to_datetime(ore.fillna({\"DT_ENTD\": \"2099-12-31\"}))\n",
    "\n",
    "ore[\"tempo_atend\"] = round(((ore[\"tempo_atend\"] / np.timedelta64(1, 'h')) * 100), 0)\n",
    "\n",
    "ore[\"MES\"] = pd.to_datetime(ore[\"ts_abtr_ptl\"]).dt.to_period('M').dt.to_timestamp()\n",
    "\"\"\""
   ],
   "outputs": [],
   "execution_count": null
  }
 ],
 "metadata": {
  "kernelspec": {
   "name": "python3",
   "display_name": "Python 3",
   "language": "python"
  },
  "language_info": {
   "name": "python",
   "version": "3.10.4",
   "mimetype": "text/x-python",
   "codemirror_mode": {
    "name": "ipython",
    "version": 3
   },
   "pygments_lexer": "ipython3",
   "nbconvert_exporter": "python",
   "file_extension": ".py"
  }
 },
 "nbformat": 4,
 "nbformat_minor": 1
}
