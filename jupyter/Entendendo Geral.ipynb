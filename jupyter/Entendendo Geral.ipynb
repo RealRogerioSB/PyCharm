{
 "cells": [
  {
   "metadata": {},
   "cell_type": "markdown",
   "source": [
    "### Fusão do Mercado"
   ]
  },
  {
   "metadata": {
    "trusted": false
   },
   "cell_type": "code",
   "source": [
    "import json\n",
    "import csv"
   ],
   "outputs": [],
   "execution_count": null
  },
  {
   "metadata": {
    "trusted": false
   },
   "cell_type": "code",
   "source": [
    "class Dados:\n",
    "    def __init__(self, dados):\n",
    "        self.dados = dados\n",
    "        self.nome_colunas = self.__get_columns()\n",
    "        self.qtd_linhas = self.__size_data()\n",
    "\n",
    "    def __leitura_json(path):\n",
    "        dados_json = []\n",
    "        with open(path) as file:\n",
    "            dados_json = json.load(file)\n",
    "        return dados_json\n",
    "\n",
    "    def __leitura_csv(path):\n",
    "        dados_csv = []\n",
    "        with open(path) as file:\n",
    "            spamreader = csv.DictReader(file, delimiter=\",\")\n",
    "            for row in spamreader:\n",
    "                dados_csv.append(row)\n",
    "        return dados_csv\n",
    "\n",
    "    @classmethod\n",
    "    def leitura_dados(cls, path, tipo_dados):\n",
    "        dados = []\n",
    "        if tipo_dados == \"csv\":\n",
    "            dados = cls.__leitura_csv(path)\n",
    "        elif tipo_dados == \"json\":\n",
    "            dados = cls.__leitura_json(path)\n",
    "        return cls(dados)\n",
    "\n",
    "    def __get_columns(self):\n",
    "        return list(self.dados[-1].keys())\n",
    "\n",
    "    def rename_columns(self, key_mapping):\n",
    "        new_dados = []\n",
    "        for old_dict in self.dados:\n",
    "            dict_temp = {}\n",
    "            for old_key, value in old_dict.items():\n",
    "                dict_temp[key_mapping[old_key]] = value\n",
    "            new_dados.append(dict_temp)\n",
    "        self.dados = new_dados\n",
    "        self.nome_colunas = self.__get_columns()\n",
    "\n",
    "    def __size_data(self):\n",
    "        return len(self.dados)\n",
    "\n",
    "    def join(dadosA, dadosB):\n",
    "        combined_list = []\n",
    "        combined_list.extend(dadosA.dados)\n",
    "        combined_list.extend(dadosB.dados)\n",
    "        return Dados(combined_list)\n",
    "\n",
    "    def __transformando_dados_tabela(self):\n",
    "        dados_combinados_tabela = [self.nome_colunas]\n",
    "        for row in self.dados:\n",
    "            linha = [row.get(coluna, \"Indisponivel\") for coluna in self.nome_colunas]\n",
    "            dados_combinados_tabela.append(linha)\n",
    "        return dados_combinados_tabela\n",
    "\n",
    "    def salvando_dados(self, path):\n",
    "        dados_combinados_tabela = self.__transformando_dados_tabela()\n",
    "        with open(path, \"w\") as file:\n",
    "            writer = csv.writer(file)\n",
    "            writer.writerows(dados_combinados_tabela)"
   ],
   "outputs": [],
   "execution_count": null
  },
  {
   "metadata": {
    "trusted": false
   },
   "cell_type": "code",
   "source": [
    "path_json = \"./src/dados_empresaA.json\"\n",
    "path_csv = \"./src/dados_empresaB.csv\"\n",
    "\n",
    "# extrair\n",
    "dados_empresaA = Dados.leitura_dados(path_json, \"json\")\n",
    "print(dados_empresaA.nome_colunas)\n",
    "print(dados_empresaA.qtd_linhas)\n",
    "\n",
    "dados_empresaB = Dados.leitura_dados(path_csv, \"csv\")\n",
    "print(dados_empresaB.nome_colunas)\n",
    "print(dados_empresaB.qtd_linhas)\n",
    "\n",
    "# transformar\n",
    "key_mapping = {\"Nome do Item\": \"Nome do Produto\", \"Classificação do Produto\": \"Categoria do Produto\",\n",
    "               \"Valor em Reais (R$)\": \"Preço do Produto (R$)\",\n",
    "               \"Quantidade em Estoque\": \"Quantidade em Estoque\", \"Nome da Loja\": \"Filial\",\n",
    "               \"Data da Venda\": \"Data da Venda\"}\n",
    "\n",
    "dados_empresaB.rename_columns(key_mapping)\n",
    "print(dados_empresaB.nome_colunas)\n",
    "\n",
    "dados_fusao = Dados.join(dados_empresaA, dados_empresaB)\n",
    "print(dados_fusao.nome_colunas)\n",
    "print(dados_fusao.qtd_linhas)\n",
    "\n",
    "# carregar\n",
    "path_dados_combinados = \"./src/dados_combinados.csv\"\n",
    "dados_fusao.salvando_dados(path_dados_combinados)\n",
    "print(path_dados_combinados)\n",
    "\n",
    "# iniciando a leitura\n",
    "# dados_json = leitura_dados(path_json, \"json\")\n",
    "# nome_colunas_json = get_columns(dados_json)\n",
    "# tamanho_dados_json = size_data(dados_json)\n",
    "\n",
    "# print(f\"Nome colunas dados json: {nome_colunas_json}\")\n",
    "# print(f\"Tamanho dos dados json: {tamanho_dados_json}\")\n",
    "\n",
    "# dados_csv = leitura_dados(path_csv, \"csv\")\n",
    "# nome_colunas_csv = get_columns(dados_csv)\n",
    "# tamanho_dados_csv = size_data(dados_csv)\n",
    "# print(nome_colunas_csv)\n",
    "# print(tamanho_dados_csv)\n",
    "\n",
    "# transformação dos dados\n",
    "# key_mapping = {\"Nome do Item\": \"Nome do Produto\", \"Classificação do Produto\": \"Categoria do Produto\", \"Valor em Reais (R$)\": \"Preço do Produto (R$)\",\n",
    "#                \"Quantidade em Estoque\": \"Quantidade em Estoque\", \"Nome da Loja\": \"Filial\", \"Data da Venda\": \"Data da Venda\"}\n",
    "# dados_csv = rename_columns(dados_csv, key_mapping)\n",
    "# nome_colunas_csv = get_columns(dados_csv)\n",
    "# print(nome_colunas_csv)\n",
    "\n",
    "# dados_fusao = join(dados_json, dados_csv)\n",
    "# nome_colunas_fusao = get_columns(dados_fusao)\n",
    "# tamanho_dados_fusao = size_data(dados_fusao)\n",
    "# print(nome_colunas_fusao)\n",
    "# print(tamanho_dados_fusao)\n",
    "\n",
    "# salvando dados\n",
    "# dados_fusao_tabela = transformando_dados_tabela(dados_fusao, nome_colunas_fusao)\n",
    "# path_dados_combinados = \"./src/dados_combinados.csv\"\n",
    "# salvando_dados(dados_fusao_tabela, path_dados_combinados)\n",
    "# print(path_dados_combinados)"
   ],
   "outputs": [],
   "execution_count": null
  },
  {
   "metadata": {},
   "cell_type": "markdown",
   "source": [
    "### Checar a Validade de Endereço IP"
   ]
  },
  {
   "metadata": {
    "trusted": false
   },
   "cell_type": "code",
   "source": [
    "import requests\n",
    "\n",
    "# faz uma requisição GET ao site ipify\n",
    "response = requests.get(\"https://api.ipify.org\")\n",
    "\n",
    "# obtém o endereço de IP da resposta\n",
    "print(f\"O status do endereço de IP é {response.status_code}.\")"
   ],
   "outputs": [],
   "execution_count": null
  },
  {
   "metadata": {},
   "cell_type": "markdown",
   "source": [
    "### Pesquisa via CEP"
   ]
  },
  {
   "metadata": {
    "trusted": false
   },
   "cell_type": "code",
   "source": [
    "import requests\n",
    "\n",
    "cep = \"41098040\"\n",
    "url_cep = f\"https://viacep.com.br/ws/{cep}/json/\"\n",
    "requisicao_cep = requests.get(url_cep)\n",
    "dic_requisicao_cep = requisicao_cep.json()\n",
    "\n",
    "for k, v in dic_requisicao_cep.items():\n",
    "    print(k, v)\n",
    "\n",
    "print(\"-------------------------------------------------------------\")\n",
    "\n",
    "uf = \"BA\"\n",
    "cidade = \"Salvador\"\n",
    "logradouro = \"Rua Thomaz Gonzaga\"\n",
    "url_log = f\"https://viacep.com.br/ws/{uf}/{cidade}/{logradouro}/json/\"\n",
    "requisicao_log = requests.get(url_log)\n",
    "dic_requisicao_log = requisicao_log.json()\n",
    "\n",
    "for x in dic_requisicao_log:\n",
    "    for k, v in x.items():\n",
    "        print(k, v)\n",
    "    print(\"-------------------------------------------------------------\")"
   ],
   "outputs": [],
   "execution_count": null
  },
  {
   "metadata": {},
   "cell_type": "markdown",
   "source": [
    "### Excel no Python"
   ]
  },
  {
   "metadata": {
    "trusted": false
   },
   "cell_type": "code",
   "source": [
    "from openpyxl import Workbook\n",
    "from datetime import datetime\n",
    "\n",
    "wb = Workbook()\n",
    "\n",
    "# grab the active worksheet\n",
    "ws = wb.active\n",
    "\n",
    "# data can be assigned directly to cells\n",
    "ws[\"A1\"] = 42\n",
    "\n",
    "# rows can also be appended\n",
    "ws.append([1, 2, 3])\n",
    "\n",
    "# Python types automatically be converted\n",
    "ws[\"A2\"] = datetime.now()\n",
    "\n",
    "# save the file\n",
    "wb.save(\"./src/sample.xlsx\")"
   ],
   "outputs": [],
   "execution_count": null
  },
  {
   "metadata": {},
   "cell_type": "markdown",
   "source": [
    "### Valor por extenso"
   ]
  },
  {
   "metadata": {
    "trusted": false
   },
   "cell_type": "code",
   "source": [
    "def num_extenso(n):\n",
    "    unidade = (\"zero\", \"um\", \"dois\", \"três\", \"quatro\", \"cinco\", \"seis\", \"sete\", \"oito\", \"nove\")\n",
    "    dez_x = (\"dez\", \"onze\", \"doze\", \"treze\", \"quatorze\", \"quinze\", \"dezesseis\", \"dezessete\", \"dezoito\", \"dezenove\")\n",
    "    dezena = (\"\", \"\", \"vinte\", \"trinta\", \"quarenta\", \"cinquenta\", \"sessenta\", \"setenta\", \"oitenta\", \"noventa\", \"cem\")\n",
    "\n",
    "    return dezena[n // 10] + \" e \" + unidade[n % 10] \\\n",
    "        if n >= 20 and n % 10 != 0 else dezena[n // 10] \\\n",
    "        if n >= 20 and n % 10 == 0 else dez_x[n % 10] \\\n",
    "        if 10 <= n < 20 and n % 10 == 0 else dez_x[n - 10] \\\n",
    "        if 10 <= n < 20 and n % 10 != 0 else unidade[n] \\\n",
    "        if n < 10 and n % 10 != 0 else unidade[0]\n",
    "\n",
    "\n",
    "num = input(\"Digita o número entre 0 e 100 a converter por extenso: \")\n",
    "\n",
    "while not num.isdigit() or 0 <= int(num) <= 100:\n",
    "    num = input(\"Somente digita o número entre 0 e 100 a converter por extenso: \")\n",
    "\n",
    "print(f\"\\nO número por extenso é {num_extenso(int(num))}.\")"
   ],
   "outputs": [],
   "execution_count": null
  },
  {
   "metadata": {},
   "cell_type": "markdown",
   "source": [
    "### Código Morse"
   ]
  },
  {
   "metadata": {
    "trusted": false
   },
   "cell_type": "code",
   "source": [
    "def code_morse(txt_morse):\n",
    "    code = {\n",
    "        \"A\": \".-\", \"B\": \"-...\", \"C\": \"-.-.\", \"D\": \"-..\", \"E\": \".\", \"F\": \"..-.\", \"G\": \"--.\",\n",
    "        \"H\": \"....\", \"I\": \"..\", \"J\": \".---\", \"K\": \"-.-\", \"L\": \".-..\", \"M\": \"--\", \"N\": \"-.\",\n",
    "        \"O\": \"---\", \"P\": \".--.\", \"Q\": \"--.-\", \"R\": \".-.\", \"S\": \"...\", \"T\": \"-\", \"U\": \"..-\",\n",
    "        \"V\": \"...-\", \"W\": \".--\", \"X\": \"-..-\", \"Y\": \"-.--\", \"Z\": \"--..\", \"1\": \".----\",\n",
    "        \"2\": \"..---\", \"3\": \"...--\", \"4\": \"....-\", \"5\": \".....\", \"6\": \"-....\", \"7\": \"--...\",\n",
    "        \"8\": \"---..\", \"9\": \"----.\", \"0\": \"-----\", \",\": \"--..--\", \".\": \".-.-.-\", \"?\": \"..--..\",\n",
    "        \"/\": \"-..-.\", \"-\": \"-....-\", \"(\": \"-.--.\", \")\": \"-.--.-\", \"!\": \"-.-.--\", \" \": \" \",\n",
    "        \"'\": \".----.\", \":\": \"---...\"\n",
    "    }\n",
    "    return \" \".join(code[morse] for morse in txt_morse.upper())\n",
    "\n",
    "\n",
    "texto = input(\"Digite o texto a ser convertido para Código Morse: \")\n",
    "\n",
    "print(f\"{texto!r} convertido em código morse por: {code_morse(texto)}\")"
   ],
   "outputs": [],
   "execution_count": null
  },
  {
   "metadata": {},
   "cell_type": "markdown",
   "source": [
    "### Número Primo"
   ]
  },
  {
   "metadata": {
    "trusted": false
   },
   "cell_type": "code",
   "source": [
    "num = int(input(\"Digite um número: \"))\n",
    "divs = 0\n",
    "\n",
    "for i in range(1, num + 1):\n",
    "    if num % i == 0:\n",
    "        divs += 1\n",
    "\n",
    "print(f\"{num} {'é' if divs == 2 else 'não é'} primo!!!\")\n",
    "print(f\"{num} é divisível por 1 ou por si mesmo.\" if divs == 2 else f\"{num} é divisível por {divs} vez(es)...\")"
   ],
   "outputs": [],
   "execution_count": null
  },
  {
   "metadata": {},
   "cell_type": "markdown",
   "source": [
    "### Palíndromo"
   ]
  },
  {
   "metadata": {
    "trusted": false
   },
   "cell_type": "code",
   "source": [
    "pergunta = \"Digite uma palavra ou uma frase: \"\n",
    "\n",
    "frase = str(input(pergunta)).replace(\" \", \"\").upper()\n",
    "\n",
    "print(f\"{'É o palíndromo!!!' if frase == frase[::-1] else 'Não é palíndromo...'}\")"
   ],
   "outputs": [],
   "execution_count": null
  },
  {
   "metadata": {},
   "cell_type": "markdown",
   "source": [
    "### Número por Algarismo Romano"
   ]
  },
  {
   "metadata": {
    "trusted": false
   },
   "cell_type": "code",
   "source": [
    "def alg_romano(num_rom):\n",
    "    val_int = [1000, 900, 500, 400, 100, 90, 50, 40, 10, 9, 5, 4, 1]\n",
    "    val_rom = [\"M\", \"CM\", \"D\", \"CD\", \"C\", \"XC\", \"L\", \"XL\", \"X\", \"IX\", \"V\", \"IV\", \"I\"]\n",
    "    num_romano = \"\"\n",
    "    b = 0\n",
    "    while num_rom > 0:\n",
    "        for _ in range(num_rom // val_int[b]):\n",
    "            num_romano += val_rom[b]\n",
    "            num_rom -= val_int[b]\n",
    "        b += 1\n",
    "    return num_romano\n",
    "\n",
    "\n",
    "num = int(input(\"Digite um número a ser convertido: \"))\n",
    "\n",
    "print(\">>>\", alg_romano(num))"
   ],
   "outputs": [],
   "execution_count": null
  },
  {
   "metadata": {},
   "cell_type": "markdown",
   "source": [
    "### Fatorial, sem módulo math"
   ]
  },
  {
   "metadata": {
    "trusted": false
   },
   "cell_type": "code",
   "source": [
    "def fatorial(x1):\n",
    "    return 1 if x1 == 1 else x1 * fatorial(x1 - 1)\n",
    "\n",
    "\n",
    "y = int(input(\"Digite um número: \"))\n",
    "print(f\"O fatorial de {y} é {fatorial(y)}\")"
   ],
   "outputs": [],
   "execution_count": null
  },
  {
   "metadata": {},
   "cell_type": "markdown",
   "source": [
    "### Fatorial, com módulo math"
   ]
  },
  {
   "metadata": {
    "trusted": false
   },
   "cell_type": "code",
   "source": [
    "import math\n",
    "\n",
    "x2 = int(input(\"Digite um número: \"))\n",
    "\n",
    "print(f\"O fatorial de {x2} é {math.factorial(x2)}\")"
   ],
   "outputs": [],
   "execution_count": null
  },
  {
   "metadata": {},
   "cell_type": "markdown",
   "source": [
    "### Sequência de Fibonacci"
   ]
  },
  {
   "metadata": {
    "trusted": false
   },
   "cell_type": "code",
   "source": [
    "def fibonacci_of(n):\n",
    "    return n if n in [0, 1] else fibonacci_of(n - 1) + fibonacci_of(n - 2)\n",
    "\n",
    "\n",
    "num = int(input(\"Escolha um número para gerar série de Fibonacci: \"))\n",
    "\n",
    "print(f\"Série de Fibonacci >> {[fibonacci_of(n) for n in range(num)]}\")"
   ],
   "outputs": [],
   "execution_count": null
  },
  {
   "metadata": {},
   "cell_type": "markdown",
   "source": [
    "### Assistente Pessoal"
   ]
  },
  {
   "metadata": {
    "trusted": false
   },
   "cell_type": "code",
   "source": [
    "# from gtts import gTTS\n",
    "# import speech_recognition as sr\n",
    "# from playsound import playsound\n",
    "# from requests import get\n",
    "# from bs4 import BeautifulSoup\n",
    "# import webbrowser as browser\n",
    "# from paho.mqtt import publish\n",
    "\n",
    "# CONFIGURAÇÕES\n",
    "# hotword = \"rose\"\n",
    "\n",
    "# with open(\"./db/rosie-python-assistente-fe02a8d39c53.json\") as credenciais_google:\n",
    "#     credenciais_google = credenciais_google.read()\n",
    "\n",
    "# LISTAGEM DOS COMANDOS\n",
    "# NOTÍCIAS.................... Últimas notícias\n",
    "# TOCA <NOME DO ÁLBUM>........ Reproduz o álbum no spotify player web\n",
    "# TEMPO AGORA................. Informações sobre temperatura e condição Climática\n",
    "# TEMPERATURA HOJE............ Informações sobre mínima e máxima\n",
    "# LIGA/DESATIVA BUNKER........ Controla iluminação do escritório\n",
    "\n",
    "\n",
    "# FUNÇÕES PRINCIPAIS\n",
    "# def monitora_audio():\n",
    "#     microfone = sr.Recognizer()\n",
    "# \n",
    "#     with sr.Microphone() as source:\n",
    "#         while True:\n",
    "#             print(\"Aguardando o Comando:\")\n",
    "#             audio = microfone.listen(source)\n",
    "# \n",
    "#             try:\n",
    "#                 trigger = microfone.recognize_google_cloud(audio, credentials_json=credenciais_google, language=\"pt-BR\")\n",
    "#                 trigger = trigger.lower()\n",
    "# \n",
    "#                 if hotword in trigger:\n",
    "#                     print(\"COMANDO: \", trigger)\n",
    "#                     responde(\"feedback\")\n",
    "#                     executa_comandos(trigger)\n",
    "#                     break\n",
    "# \n",
    "#             except sr.UnknownValueError:\n",
    "#                 print(\"Google não entendeu o áudio.\")\n",
    "# \n",
    "#             except sr.RequestError as e:\n",
    "#                 print(\"Não podia requerer resultados do serviço do Google Cloud Speech; {0}\".format(e))\n",
    "# \n",
    "#     return trigger\n",
    "\n",
    "\n",
    "# def responde(arquivo):\n",
    "#     playsound(\"./src/\" + arquivo + \".mp3\")\n",
    "\n",
    "\n",
    "# def cria_audio(mensagem):\n",
    "#     tts = gTTS(mensagem, lang=\"pt-br\")\n",
    "#     tts.save(\"./src/mensagem.mp3\")\n",
    "#     print(\"ROSIE: \", mensagem)\n",
    "#     playsound(\"./src/mensagem.mp3\")\n",
    "\n",
    "\n",
    "# def executa_comandos(trigger):\n",
    "#     if \"notícias\" in trigger:\n",
    "#         ultimas_noticias()\n",
    "#     elif \"toca\" in trigger and \"bee gees\" in trigger:\n",
    "#         playlists(\"bee_gees\")\n",
    "#     elif \"toca\" in trigger and \"taylor davis\" in trigger:\n",
    "#         playlists(\"taylor_davis\")\n",
    "#     elif \"tempo agora\" in trigger:\n",
    "#         previsao_tempo(tempo=True)\n",
    "#     elif \"temperatura hoje\" in trigger:\n",
    "#         previsao_tempo(minmax=True)\n",
    "#     elif \"liga o bunker\" in trigger:\n",
    "#         publica_mqtt(\"office/iluminacao/status\", \"1\")\n",
    "#     elif \"desativa o bunker\" in trigger:\n",
    "#         publica_mqtt(\"office/iluminacao/status\", \"0\")\n",
    "#     else:\n",
    "#         mensagem = trigger.strip(hotword)\n",
    "#         cria_audio(mensagem)\n",
    "#         print(\"C. INVÁLIDO\", mensagem)\n",
    "#         responde(\"comando_invalido\")\n",
    "\n",
    "\n",
    "# FUNÇÕES COMANDOS\n",
    "# def ultimas_noticias():\n",
    "#     site = get(\"https://news.google.com/news/rss?ned=pt_br&gl=BR&hl=pt\")\n",
    "#     noticias = BeautifulSoup(site.text, \"html.parser\")\n",
    "#     for item in noticias.findAll(\"item\")[:2]:\n",
    "#         mensagem = item.title.text\n",
    "#         cria_audio(mensagem)\n",
    "\n",
    "\n",
    "# def playlists(album):\n",
    "#     if album == \"bee_gees\":\n",
    "#         browser.open(\"https://open.spotify.com/track/33ALuUDfftTs2NEszyvJRm\")\n",
    "#     elif album == \"taylor_davis\":\n",
    "#         browser.open(\"https://open.spotify.com/track/3MKep4BfEwSlAHuFJrA9aV\")\n",
    "\n",
    "\n",
    "# def previsao_tempo(tempo=False, minmax=False):\n",
    "#     site = get(\"http://api.openweathermap.org/data/2.5/weather?id=3451190&APPID=111111111111111&units=metric&lang=pt\")\n",
    "#     clima = site.json()\n",
    "#     \n",
    "#     temperatura = clima[\"main\"][\"temp\"]\n",
    "#     minima = clima[\"main\"][\"temp_min\"]\n",
    "#     maxima = clima[\"main\"][\"temp_max\"]\n",
    "#     descricao = clima[\"weather\"][0][\"description\"]\n",
    "#     \n",
    "#     if tempo:\n",
    "#         mensagem = f\"No momento fazem {temperatura} graus com: {descricao}.\"\n",
    "#     elif minmax:\n",
    "#         mensagem = f\"Mínima de {minima} e máxima de {maxima} graus.\"\n",
    "#     \n",
    "#     cria_audio(mensagem)\n",
    "\n",
    "\n",
    "# def publica_mqtt(topic, payload):\n",
    "#     publish.single(topic, payload=payload, qos=1, retain=True, hostname=\"m10.cloudmqtt.com\", port=12892,\n",
    "#                    client_id=\"rosie\", auth={\"username\": \"xxxxxxxx\", \"password\": \"xxxxxxxx\"})\n",
    "# \n",
    "#     mensagem = \"Bunker Ligado!\" if payload == \"1\" else \"Bunker Desligado!\"\n",
    "# \n",
    "#     cria_audio(mensagem)\n",
    "\n",
    "\n",
    "# def main():\n",
    "#     while True:\n",
    "#         monitora_audio()\n",
    "\n",
    "\n",
    "# if __name__ == \"__main__\":\n",
    "#     main()"
   ],
   "outputs": [],
   "execution_count": null
  },
  {
   "metadata": {},
   "cell_type": "markdown",
   "source": [
    "### Pirâmide com base de estrelas"
   ]
  },
  {
   "metadata": {
    "trusted": false
   },
   "cell_type": "code",
   "source": [
    "num = int(input(\"Entra o número de linhas: \"))\n",
    "\n",
    "row = 0\n",
    "\n",
    "while num > row:\n",
    "    space = num - row - 1\n",
    "    while space > 0:\n",
    "        print(end=\" \")\n",
    "        space -= 1\n",
    "    star = row + 1\n",
    "    while star > 0:\n",
    "        print(\"*\", end=\" \")\n",
    "        star -= 1\n",
    "    row += 1\n",
    "    print()"
   ],
   "outputs": [],
   "execution_count": null
  },
  {
   "metadata": {},
   "cell_type": "markdown",
   "source": [
    "### Pirâmide com base de números"
   ]
  },
  {
   "metadata": {
    "trusted": false
   },
   "cell_type": "code",
   "source": [
    "num = int(input(\"Entra o número de linhas: \"))\n",
    "\n",
    "for i in range(1, num + 1):\n",
    "    for j in range(1, num - i + 1):\n",
    "        print(end=\" \")\n",
    "    for j in range(i, 0, -1):\n",
    "        print(j, end=\"\")\n",
    "    for j in range(2, i + 1):\n",
    "        print(j, end=\"\")\n",
    "    print()"
   ],
   "outputs": [],
   "execution_count": null
  },
  {
   "metadata": {},
   "cell_type": "markdown",
   "source": [
    "### Downloader Youtube"
   ]
  },
  {
   "metadata": {
    "trusted": false
   },
   "cell_type": "code",
   "source": [
    "# from pytube import YouTube\n",
    "\n",
    "# video = YouTube(\"https://www.youtube.com/watch?v=D_25fG8ipi8\")\n",
    "# stream = video.streams.first()\n",
    "# stream = video.streams.get_highest_resolution()\n",
    "# stream.download(\"./img/\")"
   ],
   "outputs": [],
   "execution_count": null
  },
  {
   "metadata": {},
   "cell_type": "markdown",
   "source": [
    "### Imagem Pillow (converter colorido em preto e branco)"
   ]
  },
  {
   "metadata": {
    "trusted": false
   },
   "cell_type": "code",
   "source": [
    "from PIL import Image\n",
    "\n",
    "img = Image.open(\"./img/grafico.png\")\n",
    "black_white = img.convert(\"L\")\n",
    "black_white.save(\"./img/new_grafico.png\")\n",
    "black_white.show()"
   ],
   "outputs": [],
   "execution_count": null
  },
  {
   "metadata": {},
   "cell_type": "markdown",
   "source": [
    "### Gerador de Senha"
   ]
  },
  {
   "metadata": {
    "trusted": false
   },
   "cell_type": "code",
   "source": [
    "import random\n",
    "from string import digits\n",
    "from string import punctuation\n",
    "from string import ascii_letters\n",
    "\n",
    "symbols = ascii_letters + digits + punctuation\n",
    "secure_random = random.SystemRandom()\n",
    "password = \"\".join(secure_random.choice(symbols) for i in range(20))\n",
    "\n",
    "print(password)"
   ],
   "outputs": [],
   "execution_count": null
  },
  {
   "metadata": {},
   "cell_type": "markdown",
   "source": [
    "### Adivinhação e Forca"
   ]
  },
  {
   "metadata": {
    "trusted": false
   },
   "cell_type": "code",
   "source": [
    "import random\n",
    "\n",
    "\n",
    "def jogo1():\n",
    "    print(\"*************************************\")\n",
    "    print(\"* Bem vindo ao jogo de Adivinhação! *\")\n",
    "    print(\"*************************************\\n\")\n",
    "\n",
    "    print(\"Qual o nível de dificuldade?\")\n",
    "    print(\"(1) Fácil (2) Médio (3) Difícil\")\n",
    "\n",
    "    level = int(input(\"Defina o nível: \"))\n",
    "\n",
    "    total_de_tentativas = 20 if level == 1 else 10 if level == 2 else 5\n",
    "\n",
    "    pontos = 1000\n",
    "    secreto = random.randrange(1, 101)\n",
    "\n",
    "    for rodada in range(1, total_de_tentativas + 1):\n",
    "        print(f\"Tentativa {rodada} de {total_de_tentativas}.\")\n",
    "\n",
    "        chute = int(input(\"Digite um número entre 1 e 100: \"))\n",
    "        print(f\"Você escolheu o número {chute}.\")\n",
    "\n",
    "        if not 1 <= chute <= 100:\n",
    "            print(\"Você deve digitar um número entre 1 e 100!\")\n",
    "            continue\n",
    "\n",
    "        acertou = chute == secreto\n",
    "        maior = chute > secreto\n",
    "        menor = chute < secreto\n",
    "\n",
    "        if acertou:\n",
    "            print(f\"Você acertou e fez {pontos} pontos!\")\n",
    "            break\n",
    "        else:\n",
    "            pontos -= abs(secreto - chute)\n",
    "\n",
    "            if maior:\n",
    "                print(\"Seu chute foi maior que o número secreto.\")\n",
    "                if rodada == total_de_tentativas:\n",
    "                    print(f\"O número secreto era {secreto} e você fez {pontos} pontos.\")\n",
    "            elif menor:\n",
    "                print(\"Errou! Seu chute foi menor do que o número secreto.\")\n",
    "                if rodada == total_de_tentativas:\n",
    "                    print(f\"O número secreto era {secreto} e você fez {pontos} pontos.\")\n",
    "\n",
    "    print(\"\\nFim do jogo!\")\n",
    "\n",
    "\n",
    "def jogo2():\n",
    "    def imprime_mensagem_abertura():\n",
    "        print(\"*************************************\")\n",
    "        print(\"*    Bem vindo ao jogo da Forca!    *\")\n",
    "        print(\"*************************************\\n\")\n",
    "\n",
    "    def carrega_fruta_secreta():\n",
    "        with open(\"./src/frutas.txt\") as arq:\n",
    "            fruta = [linha.strip() for linha in arq]\n",
    "        return fruta[random.randrange(0, len(fruta))].upper()\n",
    "\n",
    "    def inicializa_letras_acertadas(palavra):\n",
    "        return [\"_\" for _ in palavra]\n",
    "\n",
    "    def pede_chute():\n",
    "        return input(\"Qual letra? \").strip().upper()\n",
    "\n",
    "    def marca_chute_correto(shoot, matches, secreta):\n",
    "        index = 0\n",
    "        for letra in secreta:\n",
    "            if shoot == letra:\n",
    "                matches[index] = letra\n",
    "            index += 1\n",
    "\n",
    "    def imprime_mensagem_vencedor(errors):\n",
    "        print(f\"\\nParabéns!! Você acertou e só teve {errors} erro(s).\")\n",
    "\n",
    "    def imprime_mensagem_perdedor(secreta):\n",
    "        print(f\"\\nPuxa, você foi enforcado! A palavra era {secreta}.\")\n",
    "\n",
    "    imprime_mensagem_abertura()\n",
    "    fruta_secreta = carrega_fruta_secreta()\n",
    "\n",
    "    letras_acertadas = inicializa_letras_acertadas(fruta_secreta)\n",
    "    print(letras_acertadas)\n",
    "\n",
    "    enforcou = acertou = False\n",
    "    erros = 0\n",
    "\n",
    "    while not enforcou and not acertou:\n",
    "        chute = pede_chute()\n",
    "\n",
    "        if chute in fruta_secreta:\n",
    "            marca_chute_correto(chute, letras_acertadas, fruta_secreta)\n",
    "        else:\n",
    "            erros += 1\n",
    "\n",
    "        enforcou = erros == len(fruta_secreta)\n",
    "        acertou = \"_\" not in letras_acertadas\n",
    "\n",
    "        print(letras_acertadas)\n",
    "\n",
    "    imprime_mensagem_vencedor(erros) if acertou else imprime_mensagem_perdedor(fruta_secreta)\n",
    "\n",
    "    print(\"\\nFim do jogo!\")\n",
    "\n",
    "\n",
    "def escolhe_jogo():\n",
    "    while True:\n",
    "        print(\"*\" * 37)\n",
    "        print(\" Escolha o seu jogo! \".center(37, \"*\"))\n",
    "        print(\"*\" * 37)\n",
    "        print(\" (1) Adivinhação (2) Forca (0) Sair \".center(37, \"*\"))\n",
    "        print(\"*\" * 37, \"\\n\")\n",
    "\n",
    "        jogo = input(\"Qual jogo? \")\n",
    "\n",
    "        if jogo in \"012\" and len(jogo) == 1:\n",
    "            if int(jogo) == 1:\n",
    "                print(\"\\nJogando Adivinhação\\n\")\n",
    "                jogo1()\n",
    "            elif int(jogo) == 2:\n",
    "                print(\"\\nJogando Forca\\n\")\n",
    "                jogo2()\n",
    "            elif int(jogo) == 0:\n",
    "                print(\"Tchau!!\")\n",
    "                break\n",
    "        else:\n",
    "            print(\"Seu burro estabanado! Escolha somente 1 ou 2, ou sair!\\n\")\n",
    "\n",
    "\n",
    "if __name__ == \"__main__\":\n",
    "    escolhe_jogo()"
   ],
   "outputs": [],
   "execution_count": null
  },
  {
   "metadata": {
    "trusted": false
   },
   "cell_type": "code",
   "source": [
    "print(\"\\n*** Jogo da Forca ***\\n\")\n",
    "\n",
    "palavra_secreta = list(\"BAHIA\")\n",
    "\n",
    "letras_descobertas = [\"_\" for _ in range(len(palavra_secreta))]\n",
    "\n",
    "acertou = False\n",
    "\n",
    "while not acertou:\n",
    "    letra = input(\"Digite uma letra: \").upper()\n",
    "\n",
    "    for i in range(0, len(palavra_secreta)):\n",
    "        if letra == palavra_secreta[i]:\n",
    "            letras_descobertas[i] = letra\n",
    "        print(letras_descobertas[i], end=\"\")\n",
    "\n",
    "    print()\n",
    "\n",
    "    acertou = \"_\" not in letras_descobertas\n",
    "\n",
    "print(\"Parabéns!\")"
   ],
   "outputs": [],
   "execution_count": null
  },
  {
   "metadata": {},
   "cell_type": "markdown",
   "source": [
    "### Hash256"
   ]
  },
  {
   "metadata": {
    "trusted": false
   },
   "cell_type": "code",
   "source": [
    "from hashlib import sha256\n",
    "\n",
    "senha = \"12345\"\n",
    "hash_senha = sha256(senha.encode())\n",
    "print(hash_senha)\n",
    "\n",
    "senha_armazenar = hash_senha.digest()\n",
    "print(senha_armazenar)\n",
    "print(len(senha_armazenar))\n",
    "\n",
    "senha_armazenar = hash_senha.hexdigest()\n",
    "print(senha_armazenar)\n",
    "print(len(senha_armazenar))"
   ],
   "outputs": [],
   "execution_count": null
  },
  {
   "metadata": {
    "trusted": false
   },
   "cell_type": "code",
   "source": [
    "login = input(\"Entre o seu login: \")\n",
    "\n",
    "hash_login = sha256(login.encode()).hexdigest()\n",
    "print(hash_login)"
   ],
   "outputs": [],
   "execution_count": null
  },
  {
   "metadata": {
    "trusted": false
   },
   "cell_type": "code",
   "source": [
    "senha_login = input(\"Senha login: \")\n",
    "\n",
    "if sha256(senha_login.encode()).hexdigest() == senha_armazenar:\n",
    "    print(\"Senha login confirmado.\")\n",
    "else:\n",
    "    print(\"senha inválida.\")"
   ],
   "outputs": [],
   "execution_count": null
  },
  {
   "metadata": {},
   "cell_type": "markdown",
   "source": [
    "### Tradutor de Texto"
   ]
  },
  {
   "metadata": {
    "trusted": false
   },
   "cell_type": "code",
   "source": [
    "# !pip install translate\n",
    "# from translate import Translator\n",
    "\n",
    "# entra no site https://en.wikipedia.org/wiki/List_of_ISO_639-1_codes e pega o código da coluna \"639-1\"\n",
    "# s = Translator(from_lang=\"en\", to_lang=\"pt\")\n",
    "# pode ser assim: s = Translator(to_lang=\"portuguese\"),\n",
    "# pois ao omitir o parâmetro \"from_lang\" passa a ser autodetect\n",
    "# res = s.translate(\"Hello, Guys!\")\n",
    "# print(res)"
   ],
   "outputs": [],
   "execution_count": null
  },
  {
   "metadata": {},
   "cell_type": "markdown",
   "source": [
    "### QRCode"
   ]
  },
  {
   "metadata": {
    "trusted": false
   },
   "cell_type": "code",
   "source": [
    "# !pip install qrcode\n",
    "# import qrcode\n",
    "\n",
    "# qr = qr_code.QRCode(\n",
    "#     version=1,\n",
    "#     error_correction=qr_code.constants.ERROR_CORRECT_L,\n",
    "#     box_size=10,\n",
    "#     border=4\n",
    "# )\n",
    "\n",
    "# adiciona o texto ao QR Code\n",
    "# qr.add_data(\"Texto que você quer adicionar ao QR Code\")\n",
    "\n",
    "# gera o QR Code\n",
    "# qr.make(fit=True)\n",
    "\n",
    "# cria um objeto de imagem a partir do QR Code\n",
    "# img = qr.make_image(fill_color=\"black\", back_color=\"white\")\n",
    "\n",
    "# salva a imagem em um arquivo PNG\n",
    "# img.save(\"./img/qr_code.png\")"
   ],
   "outputs": [],
   "execution_count": null
  },
  {
   "metadata": {},
   "cell_type": "markdown",
   "source": [
    "### Barra de progresso"
   ]
  },
  {
   "metadata": {
    "trusted": false
   },
   "cell_type": "code",
   "source": [
    "from tqdm import tqdm\n",
    "from time import sleep\n",
    "\n",
    "for _ in tqdm(range(20)):\n",
    "    sleep(1)"
   ],
   "outputs": [],
   "execution_count": null
  },
  {
   "metadata": {},
   "cell_type": "markdown",
   "source": [
    "### Enviar e-mail"
   ]
  },
  {
   "metadata": {
    "trusted": false
   },
   "cell_type": "code",
   "source": [
    "# mais informações: https://mailtrap.io/blog/python-send-email-gmail/\n",
    "import smtplib\n",
    "from email.mime.text import MIMEText\n",
    "\n",
    "subject = \"Teste de envio de E-mail\"\n",
    "body = \"Esse é o corpo de mensagem de texto.\"\n",
    "sender = \"rogerioballoussier@gmail.com\"\n",
    "recipients = [\"rogerioballoussier@icloud.com\", \"eusourogeriosb@outlook.com\"]\n",
    "password = \"mgkh ddew apfi qvox\"\n",
    "\n",
    "\n",
    "def send_email(sub, bod, sen, rec, pas):\n",
    "    msg = MIMEText(bod)\n",
    "    msg[\"Subject\"] = sub\n",
    "    msg[\"From\"] = sen\n",
    "    msg[\"To\"] = \", \".join(rec)\n",
    "    with smtplib.SMTP_SSL(\"smtp.gmail.com\", 465) as smtp_server:\n",
    "        smtp_server.login(sen, pas)\n",
    "        smtp_server.sendmail(sen, rec, msg.as_string())\n",
    "    print(\"Mensagem enviada!\")\n",
    "\n",
    "\n",
    "send_email(subject, body, sender, recipients, password)"
   ],
   "outputs": [],
   "execution_count": null
  },
  {
   "metadata": {},
   "cell_type": "markdown",
   "source": [
    "### SpeedTest"
   ]
  },
  {
   "metadata": {
    "trusted": false
   },
   "cell_type": "code",
   "source": [
    "# import speedtest\n",
    "\n",
    "# teste = speedtest.Speedtest()\n",
    "# down_ = teste.download()\n",
    "# up_ = teste.upload()\n",
    "# ping_ = speedtest.results.ping()\n",
    "# print(f\"Download: {down_ / 10**6:,.2f}MB.\")\n",
    "# print(f\"Upload: {up_ / 10**6:,.2f}MB.\")\n",
    "# print(f\"Ping: {ping_:,.2f}ms.\")"
   ],
   "outputs": [],
   "execution_count": null
  },
  {
   "metadata": {},
   "cell_type": "markdown",
   "source": [
    "### PDF merger"
   ]
  },
  {
   "metadata": {
    "trusted": false
   },
   "cell_type": "code",
   "source": [
    "import PyPDF2\n",
    "import os\n",
    "\n",
    "merger = PyPDF2.PdfMerger(strict=False)\n",
    "\n",
    "arquivos = os.listdir(\"doc\")\n",
    "\n",
    "for arquivo in arquivos:\n",
    "    if arquivo.endswith(\".pdf\"):\n",
    "        merger.append(f\"doc/{arquivo}\")\n",
    "\n",
    "merger.write(\"./doc/hashProgramação.pdf\")"
   ],
   "outputs": [],
   "execution_count": null
  },
  {
   "metadata": {},
   "cell_type": "markdown",
   "source": [
    "### Captura de Tela"
   ]
  },
  {
   "metadata": {
    "trusted": false
   },
   "cell_type": "code",
   "source": [
    "# import pyautogui\n",
    "\n",
    "# captura a tela inteira\n",
    "# screenshot = pyautogui.screenshot()\n",
    "# screenshot.save(\"./img/screenshot.png\")\n",
    "\n",
    "# captura a tela específica\n",
    "# screenshot = pyautogui.screenshot(region=(0, 0, 500, 300))\n",
    "# screenshot.save(\"./img/screenshot_2.png\")"
   ],
   "outputs": [],
   "execution_count": null
  },
  {
   "metadata": {},
   "cell_type": "markdown",
   "source": [
    "### Conversão de áudio em texto"
   ]
  },
  {
   "metadata": {
    "trusted": false
   },
   "cell_type": "code",
   "source": [
    "# !pip install SpeechRecognition\n",
    "# import speech_recognition as sr\n",
    "\n",
    "# r = sr.Recognizer()\n",
    "\n",
    "# # inicializa o microfone\n",
    "# with r.Microfone() as source:\n",
    "#     print(\"Diga alguma coisa:\")\n",
    "#     audio = r.listen(source)\n",
    "\n",
    "# try:\n",
    "#     text = r.recognize_google(audio, language=\"pt-BR\")\n",
    "#     print(f\"Você disse: {text}\")\n",
    "# except sr.UnknownValueError:\n",
    "#     print(\"Não entendi o que você disse.\")\n",
    "# except sr.RequestError as e:\n",
    "#     print(f\"Erro de requisição: {e}\")"
   ],
   "outputs": [],
   "execution_count": null
  },
  {
   "metadata": {},
   "cell_type": "markdown",
   "source": [
    "### Tocador de Música"
   ]
  },
  {
   "metadata": {
    "trusted": false
   },
   "cell_type": "code",
   "source": [
    "# import pygame\n",
    "\n",
    "# # inicializa o pygame\n",
    "# pygame.init()\n",
    "\n",
    "# # carrega a música\n",
    "# pygame.mixer.music.load(\"./src/minhamusica.mp3\")\n",
    "\n",
    "# # toca a música\n",
    "# pygame.mixer.music.play()\n",
    "\n",
    "# # espera até a música termine\n",
    "# while pygame.mixer.music.get_busy():\n",
    "#     pygame.time.Clock().tick(10)\n",
    "\n",
    "# # encerra a música\n",
    "# pygame.quit()"
   ],
   "outputs": [],
   "execution_count": null
  },
  {
   "metadata": {},
   "cell_type": "markdown",
   "source": [
    "### Atualizações sobre o Clima"
   ]
  },
  {
   "metadata": {
    "trusted": false
   },
   "cell_type": "code",
   "source": [
    "# !pip install pyowm\n",
    "# import pyowm\n",
    "\n",
    "# inicializa o OWM (OpenWeatherMap) com a sua chave de API\n",
    "# owm = pyowm.OWM(\"Sua_Chave_De_API_Aqui\")\n",
    "\n",
    "# define a cidade que você quer obter o clima\n",
    "# city = \"São Paulo, BR\"\n",
    "\n",
    "# obtém as informações sobre o clima\n",
    "# weather = owm.weather_at_place(city).get_weather()\n",
    "\n",
    "# imprime a temperatura atual em graus celsius\n",
    "# temperature = weather.get_temperature(\"celsius\")[\"temp\"]\n",
    "# print(f\"A temperatura atual em {city} é de {temperature:.1f} ºC.\")"
   ],
   "outputs": [],
   "execution_count": null
  },
  {
   "metadata": {},
   "cell_type": "markdown",
   "source": "### REGEX"
  },
  {
   "metadata": {},
   "cell_type": "code",
   "source": [
    "import re\n",
    "\n",
    "# ? → caractere alfanumérico facultativo\n",
    "# * → ou zero, ou vários caracteres alfanumérico\n",
    "# + →, ou um, ou vários caracteres alfanumérico obrigatório\n",
    "# {n} → corresponde 'n' vezes o caractere alfanumérico\n",
    "# {n,m} → corresponde 'n' vezes o caractere alfanumérico com m como máximo\n",
    "# ^spam → corresponde a string exato inicial\n",
    "# spam$ → corresponde a string exato final\n",
    "# . → corresponde qualquer caractere exceto quebra de linha (para quaisquer basta re.DOTALL)\n",
    "# \\d → corresponde a um caractere numérico\n",
    "# \\D → corresponde a um caractere não numérico\n",
    "# \\w → corresponde a um caractere alfa\n",
    "# \\W → corresponde a um caractere não alfa\n",
    "# \\s → corresponde a um caractere de espaço\n",
    "# \\S → corresponde a um caractere que não seja espaço\n",
    "# [abc] → corresponde a qualquer caractere que estiver dentro dos colchetes\n",
    "# [^abc] → corresponde a qualquer caractere que não estiver dentro dos colchetes\n",
    "\n",
    "phone_re = re.compile(r\"((\\d{3}|\\(\\d{3}\\))?(\\s|-|\\.)?(\\d{3})(\\s|-|\\.)(\\d{4})(\\s*(ext|x|ext.)\\s*(\\d{2,5}))?)\",\n",
    "                      re.VERBOSE)\n",
    "email_re = re.compile(r\"([a-zA-Z0-9._%+-]+@[a-zA-Z0-9.-]+(\\.[a-zA-Z]{2,4}))\", re.VERBOSE)"
   ],
   "outputs": [],
   "execution_count": null
  },
  {
   "metadata": {},
   "cell_type": "code",
   "source": [
    "# phone = re.compile(r\"\\d\\d-\\d\\d\\d\\d\\d-\\d\\d\\d\\d\")\n",
    "phone = re.compile(r\"\\d{2}-\\d{5}-\\d{4}\")\n",
    "mo = phone.search(\"Meu número é 61-98358-1972\")\n",
    "print(f\"Número de celular localizado → {mo.group(0)}\")"
   ],
   "outputs": [],
   "execution_count": null
  },
  {
   "metadata": {},
   "cell_type": "code",
   "source": [
    "phone = re.compile(r\"(\\d{2})-(\\d{5}-\\d{4})\")\n",
    "mo = phone.search(\"Meu número é 61-98358-1972\")\n",
    "print(f\"Número de celular: groups() → {mo.groups()}\")\n",
    "print(f\"Número de celular: group(0) → {mo.group(0)}\")\n",
    "print(f\"Número de celular: group(1) → {mo.group(1)}\")\n",
    "print(f\"Número de celular: group(2) → {mo.group(2)}\")"
   ],
   "outputs": [],
   "execution_count": null
  },
  {
   "metadata": {},
   "cell_type": "code",
   "source": [
    "phone = re.compile(r\"(\\(\\d{2}\\))?(\\d{5}-\\d{4})\")\n",
    "mo = phone.search(\"Meu número é (61)98358-1972\")\n",
    "print(f\"Número de celular: group(0) → {mo.group(0)}\")\n",
    "print(f\"Número de celular: group(1) → {mo.group(1)}\")\n",
    "print(f\"Número de celular: group(2) → {mo.group(2)}\")\n",
    "area, code = mo.groups()\n",
    "print(f\"Área do telefone   → {area}.\")\n",
    "print(f\"Código do telefone → {code}.\")"
   ],
   "outputs": [],
   "execution_count": null
  },
  {
   "metadata": {},
   "cell_type": "code",
   "source": [
    "phone = re.compile(r\"(\\d{3}-)?\\d{3}-\\d{4}\")\n",
    "mo = phone.search(\"Meu número é 415-555-4242\")\n",
    "print(mo.group())\n",
    "mo = phone.search(\"Meu número é 555-4242\")\n",
    "print(mo.group())"
   ],
   "outputs": [],
   "execution_count": null
  },
  {
   "metadata": {},
   "cell_type": "code",
   "source": [
    "phone = re.compile(r\"\\(\\d{2}\\)\\d{4,5}-\\d{4}\")\n",
    "mo = phone.findall(\"Pessoal: (61)98358-1972 Trabalho: 3341-2214\")\n",
    "print(f\"Localizados os números → {mo}\")"
   ],
   "outputs": [],
   "execution_count": null
  },
  {
   "metadata": {},
   "cell_type": "code",
   "source": [
    "word = re.findall(r\"\\bf[a-z]*\", \"which foot or hand fell fastest\")\n",
    "print(word)"
   ],
   "outputs": [],
   "execution_count": null
  },
  {
   "metadata": {},
   "cell_type": "code",
   "source": [
    "peso = re.findall(r\"(\\w+)=(\\d+)\", \"set width=20 and height=10\")\n",
    "print(peso)"
   ],
   "outputs": [],
   "execution_count": null
  },
  {
   "metadata": {},
   "cell_type": "code",
   "source": [
    "hero = re.compile(r\"Batman|Tina Fey\")\n",
    "mo = hero.search(\"Batman and Tina Fey\")\n",
    "print(f\"Personagem: group() → {mo.group()}\")\n",
    "mo = hero.search(\"Tina Fey and Batman\")\n",
    "print(f\"Personagem: group() → {mo.group()}\")"
   ],
   "outputs": [],
   "execution_count": null
  },
  {
   "metadata": {},
   "cell_type": "code",
   "source": [
    "batman = re.compile(r\"Bat(man|mobile|copter|bat)\")\n",
    "mo = batman.search(\"Batmobile lost a wheel\")\n",
    "print(mo.group())\n",
    "print(mo.group(1))"
   ],
   "outputs": [],
   "execution_count": null
  },
  {
   "metadata": {},
   "cell_type": "code",
   "source": [
    "batman = re.compile(r\"Bat(wo)?man\")\n",
    "mo = batman.search(\"The Adventures of Batman\")\n",
    "print(mo.group())\n",
    "mo = batman.search(\"The Adventures of Batwoman\")\n",
    "print(mo.group())"
   ],
   "outputs": [],
   "execution_count": null
  },
  {
   "metadata": {},
   "cell_type": "code",
   "source": [
    "batman = re.compile(r\"Bat(wo)*man\")\n",
    "mo = batman.search(\"The Adventures of Batman\")\n",
    "print(mo.group())\n",
    "mo = batman.search(\"The Adventures of Batwoman\")\n",
    "print(mo.group())\n",
    "mo = batman.search(\"The Adventures of Batwowowowowoman\")\n",
    "print(mo.group())"
   ],
   "outputs": [],
   "execution_count": null
  },
  {
   "metadata": {},
   "cell_type": "code",
   "source": [
    "batman = re.compile(r\"Bat(wo)+man\")\n",
    "mo = batman.search(\"The Adventures of Batwoman\")\n",
    "print(mo.group())\n",
    "mo = batman.search(\"The Adventures of Batwowowowowoman\")\n",
    "print(mo.group())\n",
    "mo = batman.search(\"The Adventures of Batman\")\n",
    "print(mo.group()) if mo else print(\"Não aparece...\")"
   ],
   "outputs": [],
   "execution_count": null
  },
  {
   "metadata": {},
   "cell_type": "code",
   "source": [
    "ha = re.compile(r\"(ha){3}\")\n",
    "mo = ha.search(\"hahaha\")\n",
    "print(mo.group())\n",
    "mo = ha.search(\"haha\")\n",
    "print(mo.group(), \"\\n\") if mo else print(\"Não aparece...\")"
   ],
   "outputs": [],
   "execution_count": null
  },
  {
   "metadata": {},
   "cell_type": "code",
   "source": [
    "ha = re.compile(r\"(ha){3,5}\")\n",
    "mo = ha.search(\"hahaha\")\n",
    "print(mo.group())\n",
    "mo = ha.search(\"hahahaha\")\n",
    "print(mo.group())\n",
    "mo = ha.search(\"hahahahaha\")\n",
    "print(mo.group())\n",
    "mo = ha.search(\"haha\")\n",
    "print(mo.group(), \"\\n\") if mo else print(\"Não aparece...\")"
   ],
   "outputs": [],
   "execution_count": null
  },
  {
   "metadata": {},
   "cell_type": "code",
   "source": [
    "xmas = re.compile(r\"\\d+\\s\\w+\")\n",
    "mo = xmas.findall(\"12 drummers, 11 pipers, 10 lords, 9 ladies, 8 maids, ceroulas 8, 7 swans, 5 rings, 4 birds, 3 hens\")\n",
    "print(mo)"
   ],
   "outputs": [],
   "execution_count": null
  },
  {
   "metadata": {},
   "cell_type": "code",
   "source": [
    "vogais = re.compile(r\"[aeiouAEIOU]\")\n",
    "mo = vogais.findall(\"Robocop esats baby food. BABY FOOD.\")\n",
    "print(mo)\n",
    "\n",
    "no_vogais = re.compile(r\"[^aeiouAEIOU]\")\n",
    "mo = no_vogais.findall(\"Robocop esats baby food. BABY FOOD.\")\n",
    "print(mo)"
   ],
   "outputs": [],
   "execution_count": null
  },
  {
   "metadata": {},
   "cell_type": "code",
   "source": [
    "begins = re.compile(r\"^Hello\")\n",
    "mo = begins.search(\"Hello, World!\")\n",
    "print(mo) if mo else print(\"Não localizado...\")\n",
    "mo = begins.search(\"He said hello\")\n",
    "print(mo) if mo else print(\"Não localizado...\")\n",
    "\n",
    "ends = re.compile(r\"\\d{2}$\")\n",
    "mo = ends.search(\"Your number is 42\")\n",
    "print(mo) if mo else print(\"Não localizado...\")\n",
    "mo = ends.search(\"Your number is forty two\")\n",
    "print(mo) if mo else print(\"Não localizado...\")"
   ],
   "outputs": [],
   "execution_count": null
  },
  {
   "metadata": {},
   "cell_type": "code",
   "source": [
    "wholes = re.compile(r\"^\\d+$\")\n",
    "mo = wholes.search(\"1234567890\")\n",
    "print(mo) if mo else print(\"Não localizado...\")\n",
    "mo = wholes.search(\"12345xyw67890\")\n",
    "print(mo) if mo else print(\"Não localizado...\")\n",
    "\n",
    "ats = re.compile(r\".at\")\n",
    "mo = ats.findall(\"The cat in the hat sat on the flat mat.\")\n",
    "print(mo)"
   ],
   "outputs": [],
   "execution_count": null
  },
  {
   "metadata": {},
   "cell_type": "code",
   "source": [
    "names = re.compile(r\"First Name: (.*) Last Name: (.*)\")\n",
    "mo = names.search(\"First Name: Al Last Name: Sweigart\")\n",
    "print(mo.group(), \" - \", mo.group(1), \" - \", mo.group(2))\n",
    "\n",
    "non = re.compile(r\"<.*?>\")\n",
    "mo = non.search(\"<To serve man> for dinner.>\")\n",
    "print(mo.group())\n",
    "\n",
    "non = re.compile(r\"<.*>\")\n",
    "mo = non.search(\"<To serve man> for dinner.>\")\n",
    "print(mo.group())"
   ],
   "outputs": [],
   "execution_count": null
  },
  {
   "metadata": {},
   "cell_type": "code",
   "source": [
    "no_newline = re.compile(\".*\")\n",
    "mo = no_newline.search(\"Serve the public trust.\\nProtect the innocent.\\nUphold the law.\")\n",
    "print(mo.group())\n",
    "\n",
    "yes_newline = re.compile(\".*\", re.DOTALL)\n",
    "mo = yes_newline.search(\"Serve the public trust.\\nProtect the innocent.\\nUphold the law.\")\n",
    "print(mo.group())"
   ],
   "outputs": [],
   "execution_count": null
  },
  {
   "metadata": {},
   "cell_type": "code",
   "source": [
    "robocop = re.compile(r\"robocop\", re.I)\n",
    "mo = robocop.search(\"RoboCop is part man, part machine, all cop.\")\n",
    "print(mo.group())\n",
    "mo = robocop.search(\"ROBOCOP protects the innocent.\")\n",
    "print(mo.group())\n",
    "mo = robocop.search(\"Al, why does your programming book talk about robocop so much?.\")\n",
    "print(mo.group())"
   ],
   "outputs": [],
   "execution_count": null
  },
  {
   "metadata": {},
   "cell_type": "code",
   "source": [
    "names = re.compile(r\"Agent \\w+\")\n",
    "mo = names.sub(\"'CENSURADO'\", \"Agent Alice gave the secret documents to Bob.\")\n",
    "print(mo)\n",
    "\n",
    "names = re.compile(r\"Agent (\\w)\\w+\")\n",
    "mo = names.sub(r\"\\1***\", \"Agent Alice told Agent Carol that Agent Eve knew Agent Bob was a double agent.\")\n",
    "print(mo)"
   ],
   "outputs": [],
   "execution_count": null
  },
  {
   "metadata": {},
   "cell_type": "code",
   "source": [
    "conj = \"purple alice@google.com, blah monkey bob@abc.com blah dishwasher\"\n",
    "print(conj)\n",
    "\n",
    "# re.sub(pat, replacement, str) -- returns new string with all replacements,\n",
    "# \\1 is group(1), \\2 group(2) in the replacement\n",
    "print(\"→\", re.sub(r\"([\\w.-]+)@([\\w.-]+)\", r\"\\1@yo-yo-dyne.com\", conj))"
   ],
   "outputs": [],
   "execution_count": null
  },
  {
   "metadata": {},
   "cell_type": "code",
   "source": [
    "yeah = re.search(r\"word:\\w\\w\\w\", \"an example word:cat!!\")\n",
    "print(f\"{'localizado' if yeah else 'não localizado'} -→ {yeah.group()}\")"
   ],
   "outputs": [],
   "execution_count": null
  },
  {
   "metadata": {},
   "cell_type": "code",
   "source": [
    "yeah = re.search(r\"pi+\", \"piiig\")\n",
    "print(r\"'piiig' com 'pi+' →\", yeah.group(0))\n",
    "yeah = re.search(r\"i+\", \"piigiiii\")\n",
    "print(r\"'piigiiii' com 'i+' →\", yeah.group(0))\n",
    "yeah = re.search(r\"..g\", \"piiig\")\n",
    "print(r\"'piiig' com '..g' →\", yeah.group())\n",
    "yeah = re.search(r\"\\d\\s*\\d\\s*\\d\", \"xx1 2   3xx\")\n",
    "print(r\"'xx1 2   3xx' com '\\d\\s*\\d\\s*\\d' →\", yeah.group(0))\n",
    "yeah = re.search(r\"\\d\\s*\\d\\s*\\d\", \"xx12  3xx\")\n",
    "print(r\"'xx12  3xx' com '\\d\\s*\\d\\s*\\d' →\", yeah.group(0))\n",
    "yeah = re.search(r\"\\d\\s*\\d\\s*\\d\", \"xx123xx\")\n",
    "print(r\"'xx123xx' com '\\d\\s*\\d\\s*\\d' →\", yeah.group(0))\n",
    "yeah = re.search(r\"^b\\w+\", \"foobar\")\n",
    "print(r\"'foobar' com '^b\\w+' →\", yeah.group(0)) if yeah else print(r\"'foobar' com '^b\\w+' → not match\")\n",
    "yeah = re.search(r\"b\\w+\", \"foobar\")\n",
    "print(r\"'foobar' com 'b\\w+' →\", yeah.group(0))"
   ],
   "outputs": [],
   "execution_count": null
  },
  {
   "metadata": {},
   "cell_type": "code",
   "source": [
    "texto = \"\"\"Prezados,\n",
    "\n",
    "Segue a lista de produtos à venda.\n",
    "1) pão francês → R$1,35\n",
    "2) leite integral líquido 1 l → R$7,49\n",
    "Estou à disposição para negociar.\n",
    "\n",
    "At.te,\n",
    "\"\"\"\n",
    "\n",
    "valores = re.findall(r\"R\\$\\d+,\\d+\", texto)\n",
    "print(valores)"
   ],
   "outputs": [],
   "execution_count": null
  },
  {
   "metadata": {},
   "cell_type": "markdown",
   "source": [
    "### Encurtador URL"
   ]
  },
  {
   "metadata": {
    "trusted": false
   },
   "cell_type": "code",
   "source": [
    "# !pip install pyshorteners\n",
    "# import pyshorteners\n",
    "\n",
    "# s = pyshorteners.ShortEner()\n",
    "\n",
    "# define o URL que você quer encurtar\n",
    "# url = \"https://www.meu_url.com.br\"\n",
    "\n",
    "# encurta o URL usando o serviço TinyURL\n",
    "# short_url = s.tinyurl.short(url)\n",
    "\n",
    "# print(short_url)"
   ],
   "outputs": [],
   "execution_count": null
  },
  {
   "metadata": {},
   "cell_type": "markdown",
   "source": [
    "### URLOPEN"
   ]
  },
  {
   "metadata": {
    "trusted": false
   },
   "cell_type": "code",
   "source": [
    "# Versão que usa tentativa/exceção para imprimir\n",
    "# uma mensagem de erro se o urlopen falhar.\n",
    "def wget2(url_):\n",
    "    from urllib.request import urlopen\n",
    "\n",
    "    try:\n",
    "        ufile = urlopen(url_)\n",
    "        if ufile.info().get_content_type() == \"text/html\":\n",
    "            print(ufile.read())\n",
    "    except IOError:\n",
    "        print(f\"Problema de leitura URL: {url_}\")\n",
    "\n",
    "\n",
    "wget2(\"https://www.youtube.com/watch?v=eguv8wv3jN0\")"
   ],
   "outputs": [],
   "execution_count": null
  },
  {
   "metadata": {},
   "cell_type": "markdown",
   "source": [
    "### Cotações de Moedas Estrangeiras"
   ]
  },
  {
   "metadata": {
    "trusted": false
   },
   "cell_type": "code",
   "source": [
    "import requests\n",
    "\n",
    "get_cota_us = requests.get(\"https://economia.awesomeapi.com.br/last/USD-BRL\").json()\n",
    "get_cota_eu = requests.get(\"https://economia.awesomeapi.com.br/last/EUR-BRL\").json()\n",
    "get_cota_gb = requests.get(\"https://economia.awesomeapi.com.br/last/GBP-BRL\").json()\n",
    "\n",
    "print(\" Cotação do Dólar \".center(43, \"#\"))\n",
    "print(\"Moeda $   :\", get_cota_us[\"USDBRL\"][\"name\"])\n",
    "print(\"Data/Hora :\", get_cota_us[\"USDBRL\"][\"create_date\"])\n",
    "print(\"Valor (R$):\", get_cota_us[\"USDBRL\"][\"bid\"].replace(\".\", \",\"))\n",
    "\n",
    "print(\" Cotação do Euro \".center(43, \"#\"))\n",
    "print(\"Moeda $   :\", get_cota_eu[\"EURBRL\"][\"name\"])\n",
    "print(\"Data/Hora :\", get_cota_eu[\"EURBRL\"][\"create_date\"])\n",
    "print(\"Valor (BR):\", get_cota_eu[\"EURBRL\"][\"bid\"].replace(\".\", \",\"))\n",
    "\n",
    "print(\" Cotação do Libras \".center(43, \"#\"))\n",
    "print(\"Moeda $   :\", get_cota_gb[\"GBPBRL\"][\"name\"])\n",
    "print(\"Data/Hora :\", get_cota_gb[\"GBPBRL\"][\"create_date\"])\n",
    "print(\"Valor (R$):\", get_cota_gb[\"GBPBRL\"][\"bid\"].replace(\".\", \",\"))"
   ],
   "outputs": [],
   "execution_count": null
  },
  {
   "metadata": {},
   "cell_type": "markdown",
   "source": [
    "### Outros..."
   ]
  },
  {
   "metadata": {
    "trusted": false
   },
   "cell_type": "code",
   "source": [
    "a = 0b1010  # Binary Literals\n",
    "b = 100  # Decimal Literal\n",
    "c = 0o310  # Octal Literal\n",
    "d = 0x12c  # Hexadecimal Literal\n",
    "\n",
    "# Float Literal\n",
    "float_1 = 10.5\n",
    "float_2 = 1.5e2\n",
    "\n",
    "# Complex Literal\n",
    "x = 3.14j\n",
    "\n",
    "print(a, b, c, d)\n",
    "print(float_1, float_2)\n",
    "print(x, x.imag, x.real)"
   ],
   "outputs": [],
   "execution_count": null
  },
  {
   "metadata": {
    "trusted": false
   },
   "cell_type": "code",
   "source": [
    "strings = \"Este é Python\"\n",
    "char = \"C\"\n",
    "multiline_str = \"\"\"Isto é um string\n",
    " multilinha com mais\n",
    "  do que uma linha.\"\"\"\n",
    "unicod = u\"\\u00dcnic\\u00f6de\"\n",
    "raw_str = r\"raw \\n string\"\n",
    "cifrao = \"\\u0024\"\n",
    "aMaiusculo = \"\\u0041\"\n",
    "tique = \"\\u2705\"\n",
    "quatro = \"\\u0034\"\n",
    "heart = \"\\u1F499\"\n",
    "covid = \"\\u1F9A0\"\n",
    "hiragana = \"\\u3041\"\n",
    "\n",
    "print(strings)\n",
    "print(char)\n",
    "print(multiline_str)\n",
    "print(unicod)\n",
    "print(raw_str)\n",
    "print(cifrao)\n",
    "print(aMaiusculo)\n",
    "print(tique)\n",
    "print(quatro)\n",
    "print(heart)\n",
    "print(covid)\n",
    "print(hiragana)"
   ],
   "outputs": [],
   "execution_count": null
  },
  {
   "metadata": {
    "trusted": false
   },
   "cell_type": "code",
   "source": [
    "# comparando desempenho com listas (array e list)\n",
    "import numpy as np\n",
    "\n",
    "np_array = np.arange(int(1e6))\n",
    "\n",
    "py_list = list(range(int(1e6)))\n",
    "\n",
    "%time for _ in np.arange(100): np_array *= 2\n",
    "\n",
    "%time for _ in range(100): py_list = [x * 2 for x in py_list]"
   ],
   "outputs": [],
   "execution_count": null
  },
  {
   "metadata": {
    "trusted": false
   },
   "cell_type": "code",
   "source": [
    "from time import sleep\n",
    "\n",
    "print(\"Contagem Regressiva Iniciada.\")\n",
    "\n",
    "for i in range(10, -1, -1):\n",
    "    print(f\"{i:2d}\", end=\"\\r\")\n",
    "    sleep(1)\n",
    "else:\n",
    "    print(\"Contagem Regressiva Terminada.\")"
   ],
   "outputs": [],
   "execution_count": null
  },
  {
   "metadata": {
    "trusted": false
   },
   "cell_type": "code",
   "source": [
    "x = int(input(\"Digite o 1º número: \"))\n",
    "y = int(input(\"Digite o 2º número: \"))\n",
    "z = int(input(\"Digite o 3º número: \"))\n",
    "\n",
    "\n",
    "def maior_de_dois(a_, b_):\n",
    "    return a_ if a_ > b_ else b_\n",
    "\n",
    "\n",
    "def maior_de_tres(r_, s_, z_):\n",
    "    return maior_de_dois(maior_de_dois(r_, s_), z_)\n",
    "\n",
    "\n",
    "print(f\"O maior número de ({x}, {y} e {z}) é: {maior_de_tres(x, y, z)}\")"
   ],
   "outputs": [],
   "execution_count": null
  },
  {
   "metadata": {
    "trusted": false
   },
   "cell_type": "code",
   "source": [
    "drink = \"Disponível\"\n",
    "food = None\n",
    "\n",
    "\n",
    "def menu(x_):\n",
    "    if x_ == drink:\n",
    "        print(drink)\n",
    "    else:\n",
    "        print(food)\n",
    "\n",
    "\n",
    "menu(drink)\n",
    "menu(food)"
   ],
   "outputs": [],
   "execution_count": null
  },
  {
   "metadata": {
    "trusted": false
   },
   "cell_type": "code",
   "source": [
    "def outer_function():\n",
    "    a = 20\n",
    "\n",
    "    def inner_function():\n",
    "        a = 30\n",
    "        print(\"a =\", a)\n",
    "\n",
    "    inner_function()\n",
    "    print(\"a =\", a)\n",
    "\n",
    "\n",
    "a = 10\n",
    "outer_function()\n",
    "print(\"a =\", a)"
   ],
   "outputs": [],
   "execution_count": null
  },
  {
   "metadata": {
    "trusted": false
   },
   "cell_type": "code",
   "source": [
    "def outer_function():\n",
    "    global a\n",
    "    a = 20\n",
    "\n",
    "    def inner_function():\n",
    "        global a\n",
    "        a = 30\n",
    "        print(\"a =\", a)\n",
    "\n",
    "    inner_function()\n",
    "    print(\"a =\", a)\n",
    "\n",
    "\n",
    "a = 10\n",
    "outer_function()\n",
    "print(\"a =\", a)"
   ],
   "outputs": [],
   "execution_count": null
  },
  {
   "metadata": {
    "trusted": false
   },
   "cell_type": "code",
   "source": [
    "def outer():\n",
    "    x = \"local\"\n",
    "\n",
    "    def inner():\n",
    "        nonlocal x\n",
    "        x = \"nonlocal\"\n",
    "        print(\"Dentro:\", x)\n",
    "\n",
    "    inner()\n",
    "    print(\"Fora:\", x)\n",
    "\n",
    "\n",
    "outer()"
   ],
   "outputs": [],
   "execution_count": null
  },
  {
   "metadata": {
    "trusted": false
   },
   "cell_type": "code",
   "source": [
    "c = 0\n",
    "\n",
    "\n",
    "def add():\n",
    "    global c\n",
    "    c += 2\n",
    "    print(\"Dentro add():\", c)\n",
    "\n",
    "\n",
    "add()\n",
    "print(\"Em principal:\", c)"
   ],
   "outputs": [],
   "execution_count": null
  },
  {
   "metadata": {
    "trusted": false
   },
   "cell_type": "code",
   "source": [
    "print(\"Dê-me 2 números, e os dividirei.\")\n",
    "print(\"Toque a tecla 'q' para sair.\")\n",
    "\n",
    "while True:\n",
    "    first_number = input(\"\\nEscolha o 1º número: \")\n",
    "    if first_number == \"q\":\n",
    "        break\n",
    "    second_number = input(\"Escolha o 2º número: \")\n",
    "    if second_number == \"q\":\n",
    "        break\n",
    "    try:\n",
    "        answer = int(first_number) / int(second_number)\n",
    "    except ZeroDivisionError:\n",
    "        print(\"Você não pode dividir por zero!\")\n",
    "    except ValueError:\n",
    "        print(\"Só deve colocar caracteres numéricos.\")\n",
    "    else:\n",
    "        print(\"A divisão dos 2 números é\", answer)"
   ],
   "outputs": [],
   "execution_count": null
  },
  {
   "metadata": {
    "trusted": false
   },
   "cell_type": "code",
   "source": [
    "quit_flag = 0\n",
    "\n",
    "match quit_flag:\n",
    "    case True:\n",
    "        print(\"Desistindo...\")\n",
    "    case False:\n",
    "        print(\"O sistema está on.\")\n",
    "    case _:\n",
    "        print(\"Valor booleano não foi passado.\")"
   ],
   "outputs": [],
   "execution_count": null
  },
  {
   "metadata": {
    "trusted": false
   },
   "cell_type": "code",
   "source": [
    "# Permutações com ‘string’\n",
    "import itertools\n",
    "\n",
    "for p in itertools.permutations(\"ABCD\"):\n",
    "    print(p)"
   ],
   "outputs": [],
   "execution_count": null
  },
  {
   "metadata": {
    "trusted": false
   },
   "cell_type": "code",
   "source": [
    "def media(listagem):\n",
    "    assert len(listagem) != 0, \"A lista está vazia...\"\n",
    "    return sum(listagem) / len(listagem)\n",
    "\n",
    "\n",
    "a = [55, 88, 78, 90, 79]\n",
    "b = []\n",
    "\n",
    "print(f\"A média da lista A é {media(a)}.\")\n",
    "\n",
    "try:\n",
    "    print(f\"A média da lista B é {media(b)}.\")\n",
    "except AssertionError as err:\n",
    "    print(err)"
   ],
   "outputs": [],
   "execution_count": null
  },
  {
   "metadata": {
    "trusted": false
   },
   "cell_type": "code",
   "source": [
    "help(len)"
   ],
   "outputs": [],
   "execution_count": null
  },
  {
   "metadata": {
    "trusted": false
   },
   "cell_type": "code",
   "source": [
    "lista = [\"ccc\", \"aaaa\", \"d\", \"bb\"]\n",
    "sorted(lista, key=len)"
   ],
   "outputs": [],
   "execution_count": null
  },
  {
   "metadata": {
    "trusted": false
   },
   "cell_type": "code",
   "source": [
    "lista = [\"aa\", \"BB\", \"zz\", \"CC\"]\n",
    "sorted(lista, key=str.lower)"
   ],
   "outputs": [],
   "execution_count": null
  },
  {
   "metadata": {
    "trusted": false
   },
   "cell_type": "code",
   "source": [
    "# def my_fn(t):\n",
    "#    return t[-1]\n",
    "\n",
    "\n",
    "lista = [\"xc\", \"zb\", \"yd\", \"wa\"]\n",
    "# sorted(lista, key=my_fn)\n",
    "sorted(lista, key=lambda t: t[-1])"
   ],
   "outputs": [],
   "execution_count": null
  },
  {
   "metadata": {
    "trusted": false
   },
   "cell_type": "code",
   "source": [
    "texto: str = input(\"Escreva algo: \")\n",
    "print()\n",
    "print(texto or \"Vazio...\")\n",
    "print(f\"{texto} -> {type(texto)}\")\n",
    "print()\n",
    "print(texto or None or False or 0 or \"Você não escreveu nada.\")\n",
    "print()\n",
    "texto = texto or None\n",
    "print(f\"{texto} -> {type(texto)}\")\n",
    "print()\n",
    "if texto:\n",
    "    print(\"Escreveu algo.\")\n",
    "else:\n",
    "    print(\"Não escreveu nada.\")\n",
    "print(f\"{texto} -> {type(texto)}\")\n",
    "print()\n",
    "\n",
    "a, b, c, d, e, f, g = \"\", None, False, [], {}, 22, \"Giovana\"\n",
    "\n",
    "var = a or b or c or d or e or f or g\n",
    "print(var)"
   ],
   "outputs": [],
   "execution_count": null
  },
  {
   "metadata": {
    "trusted": false
   },
   "cell_type": "code",
   "source": [
    "# determina saber qual encode configura o arquivo binário\n",
    "# import chardet\n",
    "\n",
    "# with open(\"./src/aluguel.csv\", \"rb\") as filename:\n",
    "#     print(chardet.detect(filename.read()))"
   ],
   "outputs": [],
   "execution_count": null
  },
  {
   "metadata": {
    "trusted": false
   },
   "cell_type": "code",
   "source": [
    "from string import Template\n",
    "\n",
    "nomes = [\"Ana\", \"Paulo\", \"Maria\", \"Rafael\", \"Patrícia\"]\n",
    "\n",
    "email = \"\"\"\n",
    "Olá, $nome!\n",
    "\n",
    "Seja muito bem_vindo(a) ao curso Python!!\n",
    "\n",
    "Abraço,\n",
    "Rogério Balloussier\n",
    "\"\"\"\n",
    "\n",
    "template = Template(template=email)\n",
    "\n",
    "for i in nomes:\n",
    "    print(template.substitute(nome=i))\n",
    "    print(\"-\" * 42)"
   ],
   "outputs": [],
   "execution_count": null
  },
  {
   "metadata": {
    "trusted": false
   },
   "cell_type": "code",
   "source": [
    "def conv_bytes(bytes_):\n",
    "    for cb in [\"\", \"K\", \"M\", \"G\", \"T\", \"P\", \"E\", \"Z\"]:\n",
    "        if abs(bytes_) < 1024.0:\n",
    "            return f\"{bytes_:3.1f}{cb}{\"Bytes\"}\"\n",
    "        bytes_ /= 1024.0\n",
    "    return f\"{bytes_:.1f}{'Y'}{'Bytes'}\"\n",
    "\n",
    "\n",
    "print(conv_bytes(int(input(\"Digite um número: \"))))"
   ],
   "outputs": [],
   "execution_count": null
  },
  {
   "metadata": {
    "trusted": false
   },
   "cell_type": "code",
   "source": [
    "import numpy as np\n",
    "\n",
    "\n",
    "def acumulador():\n",
    "    for yy in np.arange(100):\n",
    "        yield yy\n",
    "\n",
    "\n",
    "print(list(acumulador()))"
   ],
   "outputs": [],
   "execution_count": null
  },
  {
   "metadata": {
    "trusted": false
   },
   "cell_type": "code",
   "source": [
    "import time\n",
    "\n",
    "\n",
    "def timer(fun):\n",
    "    def decor(*args, **kwargs):\n",
    "        start = time.perf_counter()\n",
    "        fun(*args, **kwargs)\n",
    "        end = time.perf_counter()\n",
    "        return f\"Esta função demorou {end - start:.9f} segundos...\"\n",
    "\n",
    "    return decor\n",
    "\n",
    "\n",
    "@timer\n",
    "def fun1():\n",
    "    soma = 0\n",
    "    for xx in range(1000):\n",
    "        soma += xx * 4\n",
    "    print(soma)\n",
    "\n",
    "\n",
    "fun1()"
   ],
   "outputs": [],
   "execution_count": null
  },
  {
   "metadata": {
    "trusted": false
   },
   "cell_type": "code",
   "source": [
    "# import wget\n",
    "\n",
    "# link = \"\"\n",
    "# wget.download(link, \"busca_pdf.pdf\")"
   ],
   "outputs": [],
   "execution_count": null
  },
  {
   "metadata": {},
   "cell_type": "markdown",
   "source": [
    "### Feriados e Dias Úteis"
   ]
  },
  {
   "metadata": {
    "trusted": false
   },
   "cell_type": "code",
   "source": [
    "# import holidays\n",
    "# import pandas_market_calendars as pdmc\n",
    "\n",
    "# feriados_br = holidays.country_holidays(\"BR\")\n",
    "# feriados_2024 = feriados_br[\"2024-01-01\":\"2024-12-31\"]\n",
    "\n",
    "# for feriado in feriados_2024:\n",
    "#     print(feriado)\n",
    "\n",
    "# feriados_bahia = holidays.country_holidays(\"BR\", \"BA\")\n",
    "# for feriado in feriados_bahia[\"2024-01-01\":\"2024-12-31\"]:\n",
    "#     print(feriado)\n",
    "\n",
    "# feriados_df = holidays.country_holidays(\"BR\", \"DF\")\n",
    "# for feriado in feriados_df[\"2024-01-01\":\"2024-12-31\"]:\n",
    "#     print(feriado)\n",
    "\n",
    "# calendario = pdmc.get_calendar(\"BMF\")\n",
    "# dias_2024 = calendario.schedule(start_date=\"2024-01-01\", end_date=\"2024-12-31\")\n",
    "# display(dias_2024)"
   ],
   "outputs": [],
   "execution_count": null
  },
  {
   "metadata": {
    "trusted": false
   },
   "cell_type": "code",
   "source": [
    "# import cv2\n",
    "# import numpy as np\n",
    "# import pyautogui\n",
    "\n",
    "# fourcc = cv2.VideoWriter_fourcc(*\"XVID\")\n",
    "# tela_larg, tela_altu = pyautogui.size()\n",
    "# saida = cv32.VideoWriter_fourcc(\"screencast.avi\", fourcc, 20.0, (tela_larg, tela_altu))\n",
    "\n",
    "# while True:\n",
    "#     captura = pyautogui.screenshot()\n",
    "#     frame = cv2.cvtColor(np.array(captura), cv2.COLOR_RGB2BGR)\n",
    "#     saida.write(frame)\n",
    "\n",
    "# if cv2.waitKey(1) == ord(\"q\"):\n",
    "#     break\n",
    "\n",
    "# saida.release()\n",
    "# cv2.destroyAllWindows()"
   ],
   "outputs": [],
   "execution_count": null
  },
  {
   "metadata": {
    "trusted": false
   },
   "cell_type": "code",
   "source": [
    "# Feliz Natal\n",
    "from turtle import *\n",
    "from random import randint\n",
    "\n",
    "\n",
    "def create_rectangle(turtle, color, x, y, width, height):\n",
    "    turtle.penup()\n",
    "    turtle.color(color)\n",
    "    turtle.fillcolor(color)\n",
    "    turtle.goto(x, y)\n",
    "    turtle.pendown()\n",
    "    turtle.begin_fill()\n",
    "    turtle.forward(width)\n",
    "    turtle.left(90)\n",
    "    turtle.forward(height)\n",
    "    turtle.left(90)\n",
    "    turtle.forward(width)\n",
    "    turtle.left(90)\n",
    "    turtle.forward(height)\n",
    "    turtle.left(90)\n",
    "    turtle.end_fill()\n",
    "    turtle.setheading(0)\n",
    "\n",
    "\n",
    "def create_circle(turtle, x, y, radius, color):\n",
    "    turtle2.penup()\n",
    "    turtle2.color(color)\n",
    "    turtle2.fillcolor(color)\n",
    "    turtle2.goto(x, y)\n",
    "    turtle2.pendown()\n",
    "    turtle2.begin_fill()\n",
    "    turtle2.circle(radius)\n",
    "    turtle2.end_fill()\n",
    "\n",
    "\n",
    "BG_COLOR = \"#0080ff\"\n",
    "\n",
    "turtle2 = Turtle()\n",
    "turtle2.speed(2)\n",
    "screen = turtle2.getscreen()\n",
    "screen.bgcolor(BG_COLOR)\n",
    "screen.title(\"Feliz Natal\")\n",
    "y = -100\n",
    "create_rectangle(turtle2, \"red\", -15, y - 60, 30, 60)\n",
    "width = 240\n",
    "turtle2.speed(10)\n",
    "\n",
    "while width > 10:\n",
    "    width = width - 10\n",
    "    height = 10\n",
    "    x = 0 - width / 2\n",
    "    create_rectangle(turtle2, \"green\", x, y, width, height)\n",
    "    y = y + height\n",
    "\n",
    "turtle2.speed(1)\n",
    "turtle2.penup()\n",
    "turtle2.color(\"yellow\")\n",
    "turtle2.goto(-20, y + 10)\n",
    "turtle2.begin_fill()\n",
    "turtle2.pendown()\n",
    "\n",
    "for i in range(5):\n",
    "    turtle2.forward(40)\n",
    "    turtle2.right(144)\n",
    "\n",
    "turtle2.end_fill()\n",
    "tree_height = y + 40\n",
    "\n",
    "create_circle(turtle2, 230, 180, 60, \"white\")\n",
    "create_circle(turtle2, 220, 180, 60, BG_COLOR)\n",
    "\n",
    "turtle2.speed(10)\n",
    "number_of_stars = randint(20, 30)\n",
    "\n",
    "for _ in range(0, number_of_stars):\n",
    "    x_star = randint(-(screen.window_width() // 2), screen.window_width() // 2)\n",
    "    y_star = randint(tree_height, screen.window_height() // 2)\n",
    "    size = randint(5, 20)\n",
    "    turtle2.penup()\n",
    "    turtle2.color(\"white\")\n",
    "    turtle2.goto(x_star, y_star)\n",
    "    turtle2.begin_fill()\n",
    "    turtle2.pendown()\n",
    "    for i in range(5):\n",
    "        turtle2.forward(size)\n",
    "        turtle2.right(144)\n",
    "    turtle2.end_fill()\n",
    "\n",
    "turtle2.speed(1)\n",
    "turtle2.penup()\n",
    "msg = \"Feliz Natal!\"\n",
    "turtle2.goto(0, -200)\n",
    "turtle2.color(\"white\")\n",
    "turtle2.pendown()\n",
    "turtle2.write(msg, move=False, align=\"center\", font=(\"Arial\", 15, \"bold\"))\n",
    "turtle2.penup()\n",
    "msg2 = \"Abraços da equipe da Asimov!\"\n",
    "turtle2.goto(0, -230)\n",
    "turtle2.color(\"white\")\n",
    "turtle2.pendown()\n",
    "turtle2.write(msg2, move=False, align=\"center\", font=(\"Arial\", 15))\n",
    "\n",
    "turtle2.hideturtle()\n",
    "screen.mainloop()"
   ],
   "outputs": [],
   "execution_count": null
  },
  {
   "metadata": {},
   "cell_type": "markdown",
   "source": "## Collections"
  },
  {
   "metadata": {},
   "cell_type": "code",
   "source": "import collections as col",
   "outputs": [],
   "execution_count": null
  },
  {
   "metadata": {},
   "cell_type": "code",
   "source": [
    "estoque = [\"iphone\", \"iphone\", \"ipad\", \"airpod\", \"ipad\", \"iphone\", \"iphone\"]\n",
    "dict_counter = col.Counter(estoque)\n",
    "print(dict_counter)\n",
    "print(dict_counter[\"iphone\"])"
   ],
   "outputs": [],
   "execution_count": null
  },
  {
   "metadata": {},
   "cell_type": "code",
   "source": [
    "vendas = {\"André\": 1000, \"João\": 2000, \"Lira\": 500, \"Amanda\": 1500, \"Carol\": 3000, \"Marcus\": 200, \"Camila\": 400,\n",
    "          \"Andréia\": 8000}\n",
    "meta1 = 1000\n",
    "meta2 = 2000\n",
    "\n",
    "dic_bonus = col.defaultdict(list)\n",
    "for vendedor in vendas:\n",
    "    if vendas[vendedor] > meta2:\n",
    "        dic_bonus[\"meta2\"].append(vendedor)\n",
    "    elif vendas[vendedor] > meta1:\n",
    "        dic_bonus[\"meta1\"].append(vendedor)\n",
    "    else:\n",
    "        dic_bonus[\"sem meta\"].append(vendedor)\n",
    "\n",
    "print(dic_bonus)"
   ],
   "outputs": [],
   "execution_count": null
  },
  {
   "metadata": {},
   "cell_type": "code",
   "source": [
    "brinquedos = {\"Lego\": 30, \"Banco Imobiliário\": 10}\n",
    "hardwares = {\"Tablet\": 5, \"Mouse\": 5, \"Iphone\": 15}\n",
    "roupas = {\"Jeans\": 150, \"Camisa\": 100}\n",
    "\n",
    "estoque = col.ChainMap(brinquedos, hardwares, roupas)\n",
    "print(estoque)\n",
    "print(estoque[\"Jeans\"])\n",
    "print(list(estoque.keys()))"
   ],
   "outputs": [],
   "execution_count": null
  },
  {
   "metadata": {},
   "cell_type": "code",
   "source": [
    "fila = col.deque([\"item1\", \"item2\", \"item3\"])\n",
    "print(fila)\n",
    "fila.append(\"item4\")\n",
    "print(fila)\n",
    "fila.appendleft(\"item5\")\n",
    "print(fila)\n",
    "fila.pop()\n",
    "print(fila)\n",
    "fila.popleft()\n",
    "print(fila)"
   ],
   "outputs": [],
   "execution_count": null
  },
  {
   "metadata": {},
   "cell_type": "code",
   "source": [
    "Produto = col.namedtuple(\"Produto\", [\"nome\", \"preco\", \"tamanho\"])\n",
    "\n",
    "produto1 = Produto(\"camisa\", 150, \"M\")\n",
    "print(produto1.nome)\n",
    "print(produto1[0])\n",
    "print(produto1.preco)"
   ],
   "outputs": [],
   "execution_count": null
  }
 ],
 "metadata": {
  "kernelspec": {
   "name": "python3",
   "display_name": "Python 3",
   "language": "python"
  },
  "language_info": {
   "name": "python",
   "version": "3.10.4",
   "mimetype": "text/x-python",
   "codemirror_mode": {
    "name": "ipython",
    "version": 3
   },
   "pygments_lexer": "ipython3",
   "nbconvert_exporter": "python",
   "file_extension": ".py"
  }
 },
 "nbformat": 4,
 "nbformat_minor": 1
}
