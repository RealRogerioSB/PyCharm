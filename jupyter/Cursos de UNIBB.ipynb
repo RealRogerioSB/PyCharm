{
 "cells": [
  {
   "cell_type": "code",
   "source": [
    "from dotenv import load_dotenv\n",
    "import os\n",
    "import pandas as pd\n",
    "import sqlalchemy as sa\n",
    "\n",
    "load_dotenv()\n",
    "\n",
    "engine: sa.Engine = sa.create_engine(os.getenv(\"URL_MYSQL\"))"
   ],
   "metadata": {
    "collapsed": false
   },
   "id": "c0786218ec6f583b",
   "outputs": [],
   "execution_count": null
  },
  {
   "cell_type": "code",
   "source": [
    "try:\n",
    "    row_inserted: int = pd.read_csv(\"../src/unibb.csv\", encoding=\"utf-8-sig\").to_sql(name=\"unibb\", con=engine, if_exists=\"append\", index=False)\n",
    "    print(f\"Foi(ram) {row_inserted} registro(s) inserido(s) com sucesso!\")\n",
    "except FileNotFoundError:\n",
    "    print(\"Erro ao localizar um arquivo .CSV...\")\n",
    "except UnicodeEncodeError:\n",
    "    print(\"Erro ao decodificar um arquivo .CSV...\")"
   ],
   "metadata": {
    "collapsed": false
   },
   "id": "2f0079b6714dca4d",
   "outputs": [],
   "execution_count": null
  },
  {
   "cell_type": "code",
   "source": [
    "stmt: str = \"SELECT id_curso AS Código, nm_curso AS Curso, hr_curso AS Horas FROM unibb ORDER BY id_curso\"\n",
    "pd.read_sql(sql=sa.text(stmt), con=engine)"
   ],
   "metadata": {
    "collapsed": false
   },
   "id": "e8dc9b2b6f48e0c3",
   "outputs": [],
   "execution_count": null
  },
  {
   "metadata": {},
   "cell_type": "code",
   "source": [
    "stmt: str = \"SELECT id_curso AS Código, nm_curso AS Curso, hr_curso AS Horas FROM unibb ORDER BY id\"\n",
    "pd.read_sql(sql=sa.text(stmt), con=engine)"
   ],
   "id": "694e58162ae1bc19",
   "outputs": [],
   "execution_count": null
  },
  {
   "metadata": {},
   "cell_type": "code",
   "source": [
    "stmt: str = \"\"\"\n",
    "    SELECT id_curso AS Código, nm_curso AS Curso, hr_curso AS Horas FROM unibb WHERE nm_curso IN (\n",
    "        SELECT nm_curso FROM unibb GROUP BY nm_curso HAVING COUNT(nm_curso) > 1\n",
    "    ) ORDER BY nm_curso, id_curso\n",
    "\"\"\"\n",
    "pd.read_sql(sql=sa.text(stmt), con=engine)"
   ],
   "id": "1ae431f48f56068b",
   "outputs": [],
   "execution_count": null
  }
 ],
 "metadata": {
  "kernelspec": {
   "display_name": "Python 3",
   "language": "python",
   "name": "python3"
  },
  "language_info": {
   "codemirror_mode": {
    "name": "ipython",
    "version": 2
   },
   "file_extension": ".py",
   "mimetype": "text/x-python",
   "name": "python",
   "nbconvert_exporter": "python",
   "pygments_lexer": "ipython2",
   "version": "2.7.6"
  }
 },
 "nbformat": 4,
 "nbformat_minor": 5
}
