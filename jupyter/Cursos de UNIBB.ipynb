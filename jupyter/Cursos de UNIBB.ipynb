{
 "cells": [
  {
   "cell_type": "code",
   "source": [
    "from dotenv import load_dotenv\n",
    "import os\n",
    "import pandas as pd\n",
    "import sqlalchemy as sa\n",
    "\n",
    "load_dotenv()\n",
    "\n",
    "engine = sa.create_engine(os.getenv(\"URL_MYSQL\"))"
   ],
   "metadata": {
    "collapsed": false
   },
   "id": "c0786218ec6f583b",
   "outputs": [],
   "execution_count": null
  },
  {
   "cell_type": "code",
   "source": [
    "new_curses = [\n",
    "    {\"id_curso\": 202692, \"nm_curso\": \"Cultura e Métodos Ágeis: pilares para uma imersão avançada\", \"hr_curso\": 8},\n",
    "]\n",
    "\n",
    "df_inserted = pd.DataFrame(new_curses)\n",
    "\n",
    "rows_inserted = df_inserted.to_sql(name=\"unibb\", con=engine, if_exists=\"append\", index=False)\n",
    "print(f\"Foram {rows_inserted} registros inseridos com sucesso!\")"
   ],
   "metadata": {
    "collapsed": false
   },
   "id": "2f0079b6714dca4d",
   "outputs": [],
   "execution_count": null
  },
  {
   "cell_type": "code",
   "source": [
    "df_sorted = pd.read_sql(sql=sa.text(\"SELECT id_curso, nm_curso, hr_curso FROM unibb ORDER BY id_curso\"), con=engine)\n",
    "\n",
    "df_sorted.columns = [\"Código\", \"Curso\", \"Horas\"]\n",
    "df_sorted"
   ],
   "metadata": {
    "collapsed": false
   },
   "id": "e8dc9b2b6f48e0c3",
   "outputs": [],
   "execution_count": null
  },
  {
   "metadata": {},
   "cell_type": "code",
   "source": [
    "stmt = \"\"\"\n",
    "    SELECT id_curso, nm_curso, hr_curso FROM unibb WHERE nm_curso IN (\n",
    "        SELECT nm_curso FROM unibb GROUP BY nm_curso HAVING COUNT(nm_curso) > 1\n",
    "    ) ORDER BY nm_curso, id_curso\n",
    "\"\"\"\n",
    "df_duplicate = pd.read_sql(sql=sa.text(stmt), con=engine)\n",
    "\n",
    "df_duplicate.columns = [\"Código\", \"Curso\", \"Horas\"]\n",
    "df_duplicate"
   ],
   "id": "1ae431f48f56068b",
   "outputs": [],
   "execution_count": null
  }
 ],
 "metadata": {
  "kernelspec": {
   "display_name": "Python 3",
   "language": "python",
   "name": "python3"
  },
  "language_info": {
   "codemirror_mode": {
    "name": "ipython",
    "version": 2
   },
   "file_extension": ".py",
   "mimetype": "text/x-python",
   "name": "python",
   "nbconvert_exporter": "python",
   "pygments_lexer": "ipython2",
   "version": "2.7.6"
  }
 },
 "nbformat": 4,
 "nbformat_minor": 5
}
