{
 "cells": [
  {
   "cell_type": "code",
   "source": [
    "from dotenv import load_dotenv\n",
    "import os\n",
    "import pandas as pd\n",
    "import sqlalchemy as sa\n",
    "\n",
    "load_dotenv()\n",
    "\n",
    "engine: sa.Engine = sa.create_engine(os.getenv(\"URL_MYSQL\"))"
   ],
   "metadata": {
    "collapsed": false
   },
   "id": "c0786218ec6f583b",
   "outputs": [],
   "execution_count": null
  },
  {
   "cell_type": "code",
   "source": [
    "new_curses: list[dict[str: int | str]] = [\n",
    "    # {\"id_curso\": 11119, \"nm_curso\": \"Playbook de Vendas: Capitalização\", \"hr_curso\": 1},\n",
    "    # {\"id_curso\": 11120, \"nm_curso\": \"Playbook de Vendas: Consórcio\", \"hr_curso\": 1},\n",
    "    # {\"id_curso\": 11121, \"nm_curso\": \"Playbook de Vendas: Previdência\", \"hr_curso\": 1},\n",
    "    # {\"id_curso\": 11122, \"nm_curso\": \"Playbook de Vendas: Seguro pra Vida\", \"hr_curso\": 1},\n",
    "    # {\"id_curso\": 11123, \"nm_curso\": \"Playbook de Vendas: Seguro Prestamista\", \"hr_curso\": 1},\n",
    "    # {\"id_curso\": 201421, \"nm_curso\": \"Gestão de produtos digitais: Product Discovery\", \"hr_curso\": 6},\n",
    "    # {\"id_curso\": 201629, \"nm_curso\": \"Integração Contínua: mais qualidade e menos risco no desenvolvimento\", \"hr_curso\": 6},\n",
    "    # {\"id_curso\": 201718, \"nm_curso\": \"UX: metodologias práticas para designers\", \"hr_curso\": 10},\n",
    "    # {\"id_curso\": 201799, \"nm_curso\": \"Árvores de Decisão: aprofundando em modelos de Machine Learning\", \"hr_curso\": 8},\n",
    "    # {\"id_curso\": 202191, \"nm_curso\": \"TypeScript parte 2: avançando na linguagem\", \"hr_curso\": 10},\n",
    "    # {\"id_curso\": 202192, \"nm_curso\": \"TypeScript parte 3: mais técnicas e boas práticas\", \"hr_curso\": 10},\n",
    "    # {\"id_curso\": 202384, \"nm_curso\": \"UX Writing: escrevendo textos para usuários\", \"hr_curso\": 8},\n",
    "    # {\"id_curso\": 202392, \"nm_curso\": \"React: integrando seu projeto React com APIs\", \"hr_curso\": 8},\n",
    "    # {\"id_curso\": 202423, \"nm_curso\": \"Modelos preditivos em dados: detecção de fraude\", \"hr_curso\": 8},\n",
    "    # {\"id_curso\": 202477, \"nm_curso\": \"RoadMap: como criar e manter o mapa de produto\", \"hr_curso\": 8},\n",
    "    # {\"id_curso\": 202479, \"nm_curso\": \"React: otimizando a performance\", \"hr_curso\": 8},\n",
    "    # {\"id_curso\": 202525, \"nm_curso\": \"Estratégia Omnichannel: aumentando suas vendas\", \"hr_curso\": 8},\n",
    "    # {\"id_curso\": 202608, \"nm_curso\": \"Value Stream Mapping (VSM): conheça o mapeamento de Fluxo de Valor\", \"hr_curso\": 8},\n",
    "    # {\"id_curso\": 202692, \"nm_curso\": \"Cultura e Métodos Ágeis: pilares para uma imersão avançada\", \"hr_curso\": 8},\n",
    "    # {\"id_curso\": 202698, \"nm_curso\": \"Segurança de rede: firewall, WAF e SIEM\", \"hr_curso\": 10},\n",
    "    # {\"id_curso\": 202704, \"nm_curso\": \"Design da proposta de valor: transformando produtos e serviços\", \"hr_curso\": 8},\n",
    "    # {\"id_curso\": 202716, \"nm_curso\": \"User interface: conceitos de UI para product Designers\", \"hr_curso\": 8},\n",
    "    # {\"id_curso\": 202745, \"nm_curso\": \"Ágil Escalado: conheça frameworks para grandes desenvolvimentos\", \"hr_curso\": 6},\n",
    "    # {\"id_curso\": 202782, \"nm_curso\": \"Lean-Ágil: expanda horizontes para a organização toda\", \"hr_curso\": 8},\n",
    "    # {\"id_curso\": 202858, \"nm_curso\": \"JAVA: criando a sua primeira aplicação\", \"hr_curso\": 8},\n",
    "    # {\"id_curso\": 202859, \"nm_curso\": \"UX Design: entenda a área da User Experience\", \"hr_curso\": 8},\n",
    "    # {\"id_curso\": 203078, \"nm_curso\": \"UX Writing: projetando um chatbot\", \"hr_curso\": 8},\n",
    "    # {\"id_curso\": 203167, \"nm_curso\": \"Inteligência Artificial e UX: otimize a construção de um produto digital\", \"hr_curso\": 8},\n",
    "    # {\"id_curso\": 203844, \"nm_curso\": \"dicas práticas de acessibilidade em ambientes de aprendizagem\", \"hr_curso\": 4},\n",
    "]\n",
    "\n",
    "rows_inserted: int = pd.DataFrame(new_curses).to_sql(name=\"unibb\", con=engine, if_exists=\"append\", index=False)\n",
    "print(f\"Foi(ram) {rows_inserted} registro(s) inserido(s) com sucesso!\")"
   ],
   "metadata": {
    "collapsed": false
   },
   "id": "2f0079b6714dca4d",
   "outputs": [],
   "execution_count": null
  },
  {
   "cell_type": "code",
   "source": "pd.read_sql(sql=sa.text(\"SELECT id_curso AS Código, nm_curso AS Curso, hr_curso AS Horas FROM unibb ORDER BY id_curso\"), con=engine)",
   "metadata": {
    "collapsed": false
   },
   "id": "e8dc9b2b6f48e0c3",
   "outputs": [],
   "execution_count": null
  },
  {
   "metadata": {},
   "cell_type": "code",
   "source": [
    "stmt: str = \"\"\"\n",
    "    SELECT id_curso AS Código, nm_curso AS Curso, hr_curso AS Horas FROM unibb WHERE nm_curso IN (\n",
    "        SELECT nm_curso FROM unibb GROUP BY nm_curso HAVING COUNT(nm_curso) > 1\n",
    "    ) ORDER BY nm_curso, id_curso\n",
    "\"\"\"\n",
    "pd.read_sql(sql=sa.text(stmt), con=engine)"
   ],
   "id": "1ae431f48f56068b",
   "outputs": [],
   "execution_count": null
  }
 ],
 "metadata": {
  "kernelspec": {
   "display_name": "Python 3",
   "language": "python",
   "name": "python3"
  },
  "language_info": {
   "codemirror_mode": {
    "name": "ipython",
    "version": 2
   },
   "file_extension": ".py",
   "mimetype": "text/x-python",
   "name": "python",
   "nbconvert_exporter": "python",
   "pygments_lexer": "ipython2",
   "version": "2.7.6"
  }
 },
 "nbformat": 4,
 "nbformat_minor": 5
}
