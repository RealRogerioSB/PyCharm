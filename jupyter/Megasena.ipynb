{
 "cells": [
  {
   "cell_type": "code",
   "source": [
    "from dotenv import load_dotenv\n",
    "import locale\n",
    "import numpy as np\n",
    "import os\n",
    "import pandas as pd\n",
    "import sqlalchemy as sa\n",
    "\n",
    "load_dotenv()\n",
    "\n",
    "locale.setlocale(locale.LC_ALL, \"pt_BR.UTF-8\")\n",
    "\n",
    "engine = sa.create_engine(os.getenv(\"URL_MYSQL\"))"
   ],
   "metadata": {
    "collapsed": false
   },
   "id": "42085721c978a5a9",
   "outputs": [],
   "execution_count": null
  },
  {
   "metadata": {},
   "cell_type": "code",
   "outputs": [],
   "execution_count": null,
   "source": [
    "minhas_apostas = [\n",
    "    [ 5, 15, 26, 27, 46, 53],  # aposta n.° 1\n",
    "    [ 3, 12, 19, 20, 45, 47],  # aposta n.° 2\n",
    "    [ 1, 10, 17, 41, 42, 56],  # aposta n.° 3\n",
    "    [ 2, 10, 13, 27, 53, 55],  # aposta n.° 4\n",
    "    [ 6,  7,  8, 11, 43, 56],  # aposta n.° 5\n",
    "    [ 8, 10, 14, 25, 33, 34],  # aposta n.° 6\n",
    "    [ 5, 11, 16, 40, 43, 57],  # aposta n.° 7\n",
    "    [ 4,  5,  8, 13, 17, 38],  # aposta n.° 8\n",
    "    [13, 24, 32, 49, 51, 60],  # aposta n.° 9\n",
    "    [11, 16, 19, 43, 58, 60],  # aposta n.° 10\n",
    "    [ 3,  5, 10, 20, 35, 46],  # aposta n.° 11\n",
    "    [ 2,  9, 10, 19, 31, 57],  # aposta n.° 12\n",
    "    [ 4, 18, 20, 21, 39, 57],  # aposta n.° 13\n",
    "    [ 2, 11, 22, 36, 49, 60],  # aposta n.° 14\n",
    "    [ 2, 21, 39, 48, 52, 57],  # aposta n.° 15\n",
    "    [14, 41, 45, 50, 54, 59],  # aposta n.° 16\n",
    "    [13, 20, 22, 25, 28, 39],  # aposta n.° 17\n",
    "    [ 1, 16, 21, 34, 49, 54],  # aposta n.° 18\n",
    "]"
   ],
   "id": "480881ece30398a5"
  },
  {
   "metadata": {},
   "cell_type": "code",
   "source": [
    "new_games = [\n",
    "    {\"concurso\": 2747, \"data\": \"2024-07-10\", \"bola1\": 14, \"bola2\": 17, \"bola3\": 24, \"bola4\": 28, \"bola5\": 36, \"bola6\": 45, \"ganhou\": False},\n",
    "]\n",
    "\n",
    "df_games = pd.DataFrame(new_games)\n",
    "\n",
    "rows_games = df_games.to_sql(name=\"megasena\", con=engine, if_exists=\"append\", index=False)\n",
    "print(f\"Foram {rows_games} jogo(s) inserido(s) com sucesso!\")"
   ],
   "id": "d5c824bcb6c8517d",
   "outputs": [],
   "execution_count": null
  },
  {
   "cell_type": "code",
   "source": [
    "df_last = pd.read_sql(sql=sa.text(\"SELECT * FROM megasena\"), con=engine)\n",
    "\n",
    "df_last[\"concurso\"] = df_last[\"concurso\"].astype(str).str.zfill(4)\n",
    "df_last[\"data\"] = pd.to_datetime(df_last[\"data\"]).dt.strftime(\"%x (%a)\")\n",
    "df_last[df_last.columns[2:-1]] = df_last[df_last.columns[2:-1]].map(lambda x: f\"{x:02}\")\n",
    "df_last[\"ganhou\"] = np.where(df_last[\"ganhou\"], \"Sim\", \"Não\")\n",
    "df_last.columns = [\"Concurso\", \"Data\", \"Bola 1\", \"Bola 2\", \"Bola 3\", \"Bola 4\", \"Bola 5\", \"Bola 6\", \"Ganhou?\"]\n",
    "\n",
    "df_last.tail(15)"
   ],
   "metadata": {
    "collapsed": false
   },
   "id": "f60d41ef17bce170",
   "outputs": [],
   "execution_count": null
  },
  {
   "metadata": {},
   "cell_type": "code",
   "source": [
    "stmt = \"SELECT * FROM megasena WHERE data IN (SELECT MAX(data) FROM megasena GROUP BY YEAR(data) HAVING YEAR(data) <> YEAR(CURRENT_DATE))\"\n",
    "df_mega_da_virada = pd.read_sql(sql=sa.text(stmt), con=engine)\n",
    "\n",
    "df_mega_da_virada[\"concurso\"] = df_mega_da_virada[\"concurso\"].astype(str).str.zfill(4)\n",
    "df_mega_da_virada[\"data\"] = pd.to_datetime(df_mega_da_virada[\"data\"]).dt.strftime(\"%x (%a)\")\n",
    "df_mega_da_virada[df_mega_da_virada.columns[2:-1]] = df_mega_da_virada[df_mega_da_virada.columns[2:-1]].map(lambda x: f\"{x:02}\")\n",
    "df_mega_da_virada[\"ganhou\"] = np.where(df_mega_da_virada[\"ganhou\"], \"Sim\", \"Não\")\n",
    "df_mega_da_virada.columns = [\"Concurso\", \"Data\", \"Bola 1\", \"Bola 2\", \"Bola 3\", \"Bola 4\", \"Bola 5\", \"Bola 6\", \"Ganhou?\"]\n",
    "\n",
    "df_mega_da_virada"
   ],
   "id": "3b429bb621446a6e",
   "outputs": [],
   "execution_count": null
  }
 ],
 "metadata": {
  "kernelspec": {
   "display_name": "Python 3",
   "language": "python",
   "name": "python3"
  },
  "language_info": {
   "codemirror_mode": {
    "name": "ipython",
    "version": 2
   },
   "file_extension": ".py",
   "mimetype": "text/x-python",
   "name": "python",
   "nbconvert_exporter": "python",
   "pygments_lexer": "ipython2",
   "version": "2.7.6"
  }
 },
 "nbformat": 4,
 "nbformat_minor": 5
}
