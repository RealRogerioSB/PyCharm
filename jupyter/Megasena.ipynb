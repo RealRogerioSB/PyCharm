{
 "cells": [
  {
   "cell_type": "code",
   "source": [
    "from dotenv import load_dotenv\n",
    "import locale\n",
    "import numpy as np\n",
    "import os\n",
    "import pandas as pd\n",
    "import sqlalchemy as sa\n",
    "\n",
    "load_dotenv()\n",
    "\n",
    "locale.setlocale(locale.LC_ALL, \"pt_BR.UTF-8\")\n",
    "\n",
    "engine = sa.create_engine(os.getenv(\"URL_MYSQL\"))"
   ],
   "metadata": {
    "collapsed": false
   },
   "id": "42085721c978a5a9",
   "outputs": [],
   "execution_count": null
  },
  {
   "metadata": {},
   "cell_type": "code",
   "source": [
    "new_games = [\n",
    "    {\"concurso\": 2745, \"data\": \"2024-07-04\", \"bola1\": 2, \"bola2\": 5, \"bola3\": 7, \"bola4\": 11, \"bola5\": 52, \"bola6\": 57, \"ganhou\": True},\n",
    "]\n",
    "\n",
    "df_games = pd.DataFrame(new_games)\n",
    "rows_games = df_games.to_sql(name=\"megasena\", con=engine, if_exists=\"append\", index=False)\n",
    "print(f\"Foram {rows_games} jogo(s) inserido(s) com sucesso!\")"
   ],
   "id": "d5c824bcb6c8517d",
   "outputs": [],
   "execution_count": null
  },
  {
   "cell_type": "code",
   "source": [
    "df_last = pd.read_sql(sql=\"SELECT * FROM megasena\", con=engine)\n",
    "\n",
    "df_last[\"concurso\"] = df_last[\"concurso\"].astype(str).str.zfill(4)\n",
    "df_last[\"data\"] = pd.to_datetime(df_last[\"data\"]).dt.strftime(\"%x (%a)\")\n",
    "df_last[df_last.columns[2:-1]] = df_last[df_last.columns[2:-1]].map(lambda x: f\"{x:02}\")\n",
    "df_last[\"ganhou\"] = np.where(df_last[\"ganhou\"], \"Sim\", \"Não\")\n",
    "df_last.columns = [\"Concurso\", \"Data\", \"Bola 1\", \"Bola 2\", \"Bola 3\", \"Bola 4\", \"Bola 5\", \"Bola 6\", \"Ganhou?\"]\n",
    "\n",
    "df_last.tail(15)"
   ],
   "metadata": {
    "collapsed": false
   },
   "id": "f60d41ef17bce170",
   "outputs": [],
   "execution_count": null
  },
  {
   "metadata": {},
   "cell_type": "code",
   "source": [
    "stmt = \"SELECT * FROM megasena WHERE data IN (SELECT MAX(data) FROM megasena GROUP BY YEAR(data) HAVING YEAR(data) <> YEAR(CURRENT_DATE))\"\n",
    "df_mega_da_virada = pd.read_sql(stmt, con=engine)\n",
    "\n",
    "df_mega_da_virada[\"concurso\"] = df_mega_da_virada[\"concurso\"].astype(str).str.zfill(4)\n",
    "df_mega_da_virada[\"data\"] = pd.to_datetime(df_mega_da_virada[\"data\"]).dt.strftime(\"%x (%a)\")\n",
    "df_mega_da_virada[df_mega_da_virada.columns[2:-1]] = df_mega_da_virada[df_mega_da_virada.columns[2:-1]].map(lambda x: f\"{x:02}\")\n",
    "df_mega_da_virada[\"ganhou\"] = np.where(df_mega_da_virada[\"ganhou\"], \"Sim\", \"Não\")\n",
    "df_mega_da_virada.columns = [\"Concurso\", \"Data\", \"Bola 1\", \"Bola 2\", \"Bola 3\", \"Bola 4\", \"Bola 5\", \"Bola 6\", \"Ganhou?\"]\n",
    "\n",
    "df_mega_da_virada"
   ],
   "id": "3b429bb621446a6e",
   "outputs": [],
   "execution_count": null
  }
 ],
 "metadata": {
  "kernelspec": {
   "display_name": "Python 3",
   "language": "python",
   "name": "python3"
  },
  "language_info": {
   "codemirror_mode": {
    "name": "ipython",
    "version": 2
   },
   "file_extension": ".py",
   "mimetype": "text/x-python",
   "name": "python",
   "nbconvert_exporter": "python",
   "pygments_lexer": "ipython2",
   "version": "2.7.6"
  }
 },
 "nbformat": 4,
 "nbformat_minor": 5
}
