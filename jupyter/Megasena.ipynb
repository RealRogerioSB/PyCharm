{
 "cells": [
  {
   "cell_type": "code",
   "source": [
    "from dotenv import load_dotenv\n",
    "import locale\n",
    "import numpy as np\n",
    "import os\n",
    "import pandas as pd\n",
    "import sqlalchemy as sa\n",
    "\n",
    "load_dotenv()\n",
    "\n",
    "locale.setlocale(locale.LC_ALL, \"pt_BR.UTF-8\")\n",
    "\n",
    "engine: sa.Engine = sa.create_engine(os.getenv(\"URL_MYSQL\"))"
   ],
   "metadata": {
    "collapsed": false
   },
   "id": "42085721c978a5a9",
   "outputs": [],
   "execution_count": null
  },
  {
   "metadata": {},
   "cell_type": "code",
   "source": [
    "new: list[dict[str: int | str | bool]] = [\n",
    "    # {\"concurso\": 2747, \"data\": \"2024-07-10\", \"bolas\": \"14 17 24 28 36 45\", \"ganhou\": False},\n",
    "]\n",
    "\n",
    "rows_inserted: int = pd.DataFrame(new).to_sql(name=\"megasena\", con=engine, if_exists=\"append\", index=False)\n",
    "print(f\"Foram {rows_inserted} jogo(s) inserido(s) com sucesso!\")"
   ],
   "id": "d5c824bcb6c8517d",
   "outputs": [],
   "execution_count": null
  },
  {
   "metadata": {},
   "cell_type": "code",
   "source": [
    "df_last: pd.DataFrame = pd.read_sql(sql=sa.text(\"SELECT * FROM megasena\"), con=engine)\n",
    "\n",
    "df_last[\"concurso\"] = df_last[\"concurso\"].astype(str).str.zfill(4)\n",
    "df_last[\"data\"] = pd.to_datetime(df_last[\"data\"]).dt.strftime(\"%x (%a)\")\n",
    "df_last[\"ganhou\"] = np.where(df_last[\"ganhou\"], \"Alguém ganhou\", \"Ninguém ganhou\")\n",
    "df_last.columns = [\"Concurso\", \"Data\", \"Bolas\", \"Ganhou?\"]\n",
    "\n",
    "df_last.tail(15)"
   ],
   "id": "f60d41ef17bce170",
   "outputs": [],
   "execution_count": null
  },
  {
   "metadata": {},
   "cell_type": "code",
   "source": [
    "minhas_apostas: tuple = (\n",
    "    \"05 15 26 27 46 53\",  # aposta n.° 1\n",
    "    \"03 12 19 20 45 47\",  # aposta n.° 2\n",
    "    \"01 10 17 41 42 56\",  # aposta n.° 3\n",
    "    \"02 10 13 27 53 55\",  # aposta n.° 4\n",
    "    \"06 07 08 11 43 56\",  # aposta n.° 5\n",
    "    \"08 10 14 25 33 34\",  # aposta n.° 6\n",
    "    \"05 11 16 40 43 57\",  # aposta n.° 7\n",
    "    \"04 05 08 13 17 38\",  # aposta n.° 8\n",
    "    \"13 24 32 49 51 60\",  # aposta n.° 9\n",
    "    \"11 16 19 43 58 60\",  # aposta n.° 10\n",
    "    \"03 05 10 20 35 46\",  # aposta n.° 11\n",
    "    \"02 09 10 19 31 57\",  # aposta n.° 12\n",
    "    \"04 18 20 21 39 57\",  # aposta n.° 13\n",
    "    \"02 11 22 36 49 60\",  # aposta n.° 14\n",
    "    \"02 21 39 48 52 57\",  # aposta n.° 15\n",
    "    \"14 41 45 50 54 59\",  # aposta n.° 16\n",
    "    \"13 20 22 25 28 39\",  # aposta n.° 17\n",
    "    \"01 16 21 34 49 54\",  # aposta n.° 18\n",
    ")"
   ],
   "id": "3b0f4f6ada8097cc",
   "outputs": [],
   "execution_count": null
  },
  {
   "metadata": {},
   "cell_type": "code",
   "source": "pd.read_sql(sql=sa.text(f\"SELECT * FROM megasena WHERE bolas IN {minhas_apostas}\"), con=engine)",
   "id": "1c57c7504792fe13",
   "outputs": [],
   "execution_count": null
  },
  {
   "metadata": {},
   "cell_type": "code",
   "source": [
    "mega: dict[str: list] = {\"Concurso\": [], \"Data\": [], \"Bolas\": [], \"Aposta n.°\": [], \"Acertos\": []}\n",
    "\n",
    "for row in pd.read_sql(sql=sa.text(\"SELECT * FROM megasena\"), con=engine).itertuples(index=False, name=None):\n",
    "    for aposta in minhas_apostas:\n",
    "        bolas: list[str] = aposta.split()\n",
    "        match: list[str] = []\n",
    "        for x in range(6):\n",
    "            if bolas[x] in row[2]:\n",
    "                match.append(bolas[x])\n",
    "        if len(match) >= 4:\n",
    "            mega[\"Concurso\"].append(str(row[0]).zfill(4))\n",
    "            mega[\"Data\"].append(pd.to_datetime(row[1]).strftime(\"%x (%a)\"))\n",
    "            mega[\"Bolas\"].append(\" \".join(match))\n",
    "            mega[\"Aposta n.°\"].append(minhas_apostas.index(aposta) + 1)\n",
    "            mega[\"Acertos\"].append(len(match))\n",
    "\n",
    "pd.DataFrame(mega)"
   ],
   "id": "bad2018beb39e238",
   "outputs": [],
   "execution_count": null
  },
  {
   "metadata": {},
   "cell_type": "code",
   "source": [
    "sua_aposta: str = \"12 14 31 45 50 60\"\n",
    "\n",
    "mega: dict[str: list] = {\"Concurso\": [], \"Data\": [], \"Bolas\": [], \"Acertos\": []}\n",
    "\n",
    "for row in pd.read_sql(sql=sa.text(\"SELECT * FROM megasena\"), con=engine).itertuples(index=False, name=None):\n",
    "    match: list[str] = []\n",
    "    for aposta in sua_aposta.split():\n",
    "        if aposta in row[2]:\n",
    "            match.append(aposta)\n",
    "    if len(match) >= 4:\n",
    "        mega[\"Concurso\"].append(str(row[0]).zfill(4))\n",
    "        mega[\"Data\"].append(pd.to_datetime(row[1]).strftime(\"%x (%a)\"))\n",
    "        mega[\"Bolas\"].append(row[2])\n",
    "        mega[\"Acertos\"].append(len(match))\n",
    "\n",
    "pd.DataFrame(mega)"
   ],
   "id": "1f1db8022e4e2edb",
   "outputs": [],
   "execution_count": null
  },
  {
   "metadata": {},
   "cell_type": "code",
   "source": [
    "stmt:str = \"SELECT * FROM megasena WHERE data IN (SELECT MAX(data) FROM megasena GROUP BY YEAR(data) HAVING YEAR(data) <> YEAR(CURRENT_DATE))\"\n",
    "\n",
    "df_mega_da_virada: pd.DataFrame = pd.read_sql(sql=sa.text(stmt), con=engine)\n",
    "df_mega_da_virada[\"concurso\"] = df_mega_da_virada[\"concurso\"].astype(str).str.zfill(4)\n",
    "df_mega_da_virada[\"data\"] = pd.to_datetime(df_mega_da_virada[\"data\"]).dt.strftime(\"%x (%a)\")\n",
    "df_mega_da_virada[\"ganhou\"] = np.where(df_mega_da_virada[\"ganhou\"], \"Alguém ganhou\", \"Ninguém ganhou\")\n",
    "df_mega_da_virada.columns = [\"Concurso\", \"Data\", \"Bolas\", \"Ganhou?\"]\n",
    "df_mega_da_virada"
   ],
   "id": "3b429bb621446a6e",
   "outputs": [],
   "execution_count": null
  },
  {
   "metadata": {},
   "cell_type": "code",
   "source": [
    "apostas: dict[int: int] = {}\n",
    "\n",
    "for x in minhas_apostas:\n",
    "    y: list[str] = x.split()\n",
    "    for z in range(len(y)):\n",
    "        try:\n",
    "            apostas[int(y[z])] += 1\n",
    "        except KeyError:\n",
    "            apostas[int(y[z])] = 1\n",
    "\n",
    "apostas_ordenadas: dict[int: int] = {k: v for k, v in sorted(apostas.items(), key=lambda r: r[0])}\n",
    "\n",
    "acertos: pd.DataFrame = pd.DataFrame(data=apostas_ordenadas, index=[\"acertos\"], columns=apostas_ordenadas.keys())\n",
    "acertos.index.name = \"bolas\"\n",
    "acertos"
   ],
   "id": "af6dd213e65fe3f3",
   "outputs": [],
   "execution_count": null
  }
 ],
 "metadata": {
  "kernelspec": {
   "display_name": "Python 3",
   "language": "python",
   "name": "python3"
  },
  "language_info": {
   "codemirror_mode": {
    "name": "ipython",
    "version": 2
   },
   "file_extension": ".py",
   "mimetype": "text/x-python",
   "name": "python",
   "nbconvert_exporter": "python",
   "pygments_lexer": "ipython2",
   "version": "2.7.6"
  }
 },
 "nbformat": 4,
 "nbformat_minor": 5
}
