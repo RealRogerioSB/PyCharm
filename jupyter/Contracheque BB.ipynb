{
 "cells": [
  {
   "cell_type": "code",
   "id": "initial_id",
   "metadata": {},
   "source": [
    "from dotenv import load_dotenv\n",
    "import locale\n",
    "import os\n",
    "import pandas as pd\n",
    "import sqlalchemy as sa\n",
    "\n",
    "load_dotenv()\n",
    "\n",
    "locale.setlocale(locale.LC_ALL, \"pt_BR.UTF-8\")\n",
    "locale.setlocale(locale.LC_MONETARY, \"pt_BR.UTF-8\")\n",
    "\n",
    "pd.set_option(\"display.float_format\", lambda x: locale.currency(x, symbol=False, grouping=True))\n",
    "\n",
    "engine = sa.engine.create_engine(os.getenv(\"URL_MYSQL\"))"
   ],
   "outputs": [],
   "execution_count": null
  },
  {
   "cell_type": "code",
   "id": "95cf26a6d2f155e5",
   "metadata": {
    "collapsed": false,
    "jupyter": {
     "outputs_hidden": false
    }
   },
   "source": [
    "releases = [\n",
    "    {\"nm_curso\": \"...\"},\n",
    "]\n",
    "\n",
    "df_releases = pd.DataFrame(releases)\n",
    "rows_inserted = df_releases.to_sql(name=\"lançamentos\", con=engine, if_exists=\"append\", index=False)\n",
    "print(f\"Foram {rows_inserted} registros inseridos com sucesso.\")"
   ],
   "outputs": [],
   "execution_count": null
  },
  {
   "cell_type": "code",
   "id": "f0eea38d422d58ae",
   "metadata": {
    "collapsed": false,
    "jupyter": {
     "outputs_hidden": false
    }
   },
   "source": [
    "df_releases = pd.read_sql(sql=sa.text(\"SELECT * FROM lançamento\"), con=engine)\n",
    "df_releases.columns = [\"Código\", \"Lançamento\"]\n",
    "df_releases"
   ],
   "outputs": [],
   "execution_count": null
  },
  {
   "cell_type": "code",
   "id": "22e4d78a31b58e76",
   "metadata": {
    "collapsed": false,
    "jupyter": {
     "outputs_hidden": false
    }
   },
   "source": [
    "paychecks = [\n",
    "    {\"id_lançamento\": 36, \"período\": 202406, \"acerto\": True, \"valor\": -84.31},\n",
    "]\n",
    "\n",
    "df_paychecks = pd.DataFrame(paychecks)\n",
    "row_paychecks = df_paychecks.to_sql(name=\"espelho\", con=engine, if_exists=\"append\", index=False)\n",
    "print(f\"Foram {row_paychecks} registros inseridos com sucesso.\")"
   ],
   "outputs": [],
   "execution_count": null
  },
  {
   "cell_type": "code",
   "id": "2210f2a0ed271163",
   "metadata": {
    "collapsed": false,
    "jupyter": {
     "outputs_hidden": false
    }
   },
   "source": [
    "period = 202406\n",
    "\n",
    "stmt = f\"\"\"\n",
    "    SELECT\n",
    "        l.lançamento,\n",
    "        e.período,\n",
    "        IF(e.acerto, 'acerto', 'mês') AS espelho,\n",
    "        e.valor\n",
    "    FROM\n",
    "        espelho e\n",
    "        INNER JOIN lançamento l ON e.id_lançamento = l.id_lançamento\n",
    "    WHERE\n",
    "        e.período = {period}\n",
    "    ORDER BY\n",
    "        e.acerto DESC\n",
    "\"\"\"\n",
    "\n",
    "df_mes = pd.read_sql(sql=sa.text(stmt), con=engine)\n",
    "df_mes[\"período\"] = pd.to_datetime(df_mes[\"período\"], format=\"%Y%m\").dt.strftime(\"%B de %Y\")\n",
    "df_mes"
   ],
   "outputs": [],
   "execution_count": null
  },
  {
   "cell_type": "code",
   "id": "726e83d28aec70b6",
   "metadata": {},
   "source": [
    "ano = 2023\n",
    "\n",
    "stmt = f\"\"\"\n",
    "    SELECT\n",
    "        l.lançamento,\n",
    "        e.período,\n",
    "        IF(e.acerto = 1, 'acerto', 'mês') AS acerto,\n",
    "        e.valor\n",
    "    FROM\n",
    "        espelho e\n",
    "        INNER JOIN lançamento l ON e.id_lançamento = l.id_lançamento\n",
    "    WHERE\n",
    "        e.período LIKE '{ano}%'\n",
    "\"\"\"\n",
    "\n",
    "df_ano = pd.read_sql(sql=sa.text(stmt), con=engine)\n",
    "\n",
    "df_ano = df_ano.pivot(values=[\"valor\"], index=[\"lançamento\", \"acerto\"], columns=[\"período\"])\n",
    "df_ano.columns = df_ano.columns.droplevel(level=0)\n",
    "df_ano.reset_index(inplace=True)\n",
    "df_ano.fillna(value=0, inplace=True)\n",
    "df_ano.sort_values([\"acerto\"], inplace=True, ignore_index=True)\n",
    "df_ano.columns.rename(\"\", inplace=True)\n",
    "df_ano[\"média\"] = df_ano.mean(axis=1, numeric_only=True)\n",
    "df_ano[\"total\"] = df_ano[df_ano.columns[1:]].sum(axis=1, numeric_only=True)\n",
    "df_ano.loc[\"sumário\"] = df_ano.sum(numeric_only=True)\n",
    "df_ano.fillna(value=\"\", inplace=True)\n",
    "df_ano.iloc[-1, 0] = \"Sumário\"\n",
    "df_ano.set_index([\"lançamento\"], inplace=True)\n",
    "df_ano.rename(columns={int(f\"{ano}01\"): \"jan\", int(f\"{ano}02\"): \"fev\", int(f\"{ano}03\"): \"mar\", int(f\"{ano}04\"): \"abr\",\n",
    "                       int(f\"{ano}05\"): \"mai\", int(f\"{ano}06\"): \"jun\", int(f\"{ano}07\"): \"jul\", int(f\"{ano}08\"): \"ago\",\n",
    "                       int(f\"{ano}09\"): \"set\", int(f\"{ano}10\"): \"out\", int(f\"{ano}11\"): \"nov\", int(f\"{ano}12\"): \"dez\", }, inplace=True)\n",
    "df_ano"
   ],
   "outputs": [],
   "execution_count": null
  },
  {
   "metadata": {},
   "cell_type": "code",
   "source": [
    "stmt = \"\"\"\n",
    "    SELECT\n",
    "        SUBSTR(período, 1, 4) AS ano,\n",
    "        CONCAT('mês ', SUBSTR(período, 5)) AS mes,\n",
    "        SUM(valor) AS valor\n",
    "    FROM\n",
    "        espelho\n",
    "    GROUP BY\n",
    "        ano,\n",
    "        mes\n",
    "\"\"\"\n",
    "\n",
    "df_anuais = pd.read_sql(sql=stmt, con=engine)\n",
    "\n",
    "df_anuais = df_anuais.pivot(columns=[\"mes\"], index=[\"ano\"], values=[\"valor\"])\n",
    "df_anuais.columns = df_anuais.columns.droplevel(level=0)\n",
    "df_anuais.reset_index(inplace=True)\n",
    "df_anuais[\"ano\"] = df_anuais[\"ano\"].astype(int)\n",
    "df_anuais.set_index([\"ano\"], inplace=True)\n",
    "df_anuais.fillna(0, inplace=True)\n",
    "df_anuais[\"média\"] = df_anuais.mean(axis=1)\n",
    "df_anuais[\"total\"] = df_anuais[df_anuais.columns[:-1]].sum(axis=1)\n",
    "df_anuais.columns = [\"jan\", \"fev\", \"mar\", \"abr\", \"mai\", \"jun\", \"jul\", \"ago\", \"set\", \"out\", \"nov\", \"dez\", \"média\", \"total\"]\n",
    "\n",
    "df_anuais"
   ],
   "id": "147d0960b697ba7",
   "outputs": [],
   "execution_count": null
  },
  {
   "metadata": {},
   "cell_type": "code",
   "source": [
    "import matplotlib.pyplot as plt\n",
    "import seaborn as sns\n",
    "\n",
    "ano = 2024\n",
    "\n",
    "plt.figure(figsize=(16, 6))\n",
    "plt.style.use(\"ggplot\")\n",
    "\n",
    "ax = sns.barplot(data=df_anuais.loc[[ano], df_anuais.columns[:-2]])\n",
    "ax.set_title(f\"Espelho {ano}\", loc=\"center\", fontweight=\"bold\", fontsize=12)\n",
    "ax.set(xlabel=\"\", ylabel=\"\", yticks=[])\n",
    "\n",
    "for mes in range(12):\n",
    "    ax.bar_label(ax.containers[mes], fmt=lambda i: locale.currency(i, symbol=False, grouping=True), fontsize=10)\n",
    "\n",
    "plt.show()"
   ],
   "id": "2ac05ede5ffec6d3",
   "outputs": [],
   "execution_count": null
  }
 ],
 "metadata": {
  "kernelspec": {
   "display_name": "Python 3 (ipykernel)",
   "language": "python",
   "name": "python3"
  },
  "language_info": {
   "codemirror_mode": {
    "name": "ipython",
    "version": 3
   },
   "file_extension": ".py",
   "mimetype": "text/x-python",
   "name": "python",
   "nbconvert_exporter": "python",
   "pygments_lexer": "ipython3",
   "version": "3.12.0"
  }
 },
 "nbformat": 4,
 "nbformat_minor": 5
}
