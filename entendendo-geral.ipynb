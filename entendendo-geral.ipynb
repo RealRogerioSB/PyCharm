{
 "cells": [
  {
   "metadata": {},
   "cell_type": "markdown",
   "source": "### ASYNCIO"
  },
  {
   "metadata": {},
   "cell_type": "code",
   "source": [
    "# sem asyncio\n",
    "import time\n",
    "\n",
    "\n",
    "def brew_coffee():\n",
    "    print(\"Start brew_coffee()\")\n",
    "    time.sleep(3)\n",
    "    print(\"End brew_coffee()\")\n",
    "    return \"Coffee ready\"\n",
    "\n",
    "\n",
    "def toast_bagel():\n",
    "    print(\"Start toast_bagel()\")\n",
    "    time.sleep(3)\n",
    "    print(\"End toast_bagel()\")\n",
    "    return \"Bagel toasted\"\n",
    "\n",
    "\n",
    "def main():\n",
    "    start_time = time.time()\n",
    "    \n",
    "    result_coffee = brew_coffee()\n",
    "    result_bagel = toast_bagel()\n",
    "    \n",
    "    end_time = time.time()\n",
    "    elapsed_time = end_time - start_time\n",
    "    \n",
    "    print(f\"\\nResult of brewCoffee: {result_coffee}\")\n",
    "    print(f\"Result of toastBagel: {result_bagel}\")\n",
    "    print(f\"Total execution time: {elapsed_time:.2f} seconds\")\n",
    "\n",
    "\n",
    "if __name__ == \"__main__\":\n",
    "    main()"
   ],
   "outputs": [],
   "execution_count": null
  },
  {
   "metadata": {},
   "cell_type": "code",
   "source": [
    "# com asyncio\n",
    "import asyncio\n",
    "\n",
    "\n",
    "async def brew_coffee():\n",
    "    print(\"Start brew_coffee()\")\n",
    "    await asyncio.sleep(3)\n",
    "    print(\"End brewCoffee()\")\n",
    "    return \"Coffee ready!\"\n",
    "\n",
    "\n",
    "async def toast_bagel():\n",
    "    print(\"Start toastBagel()\")\n",
    "    await asyncio.sleep(3)\n",
    "    print(\"End toastBagel()\")\n",
    "    return \"Bagel toasted!\"\n",
    "\n",
    "\n",
    "async def main():\n",
    "    start_time = time.time()\n",
    "    \n",
    "    batch = asyncio.gather(brew_coffee(), toast_bagel())  # coroutine object\n",
    "    result_coffee, result_bagel = await batch\n",
    "    \n",
    "    end_time = time.time()\n",
    "    elapsed_time = end_time - start_time\n",
    "    \n",
    "    print(f\"\\nResult of brew_coffee: {result_coffee}\")\n",
    "    print(f\"Result of toast_bagel: {result_bagel}\")\n",
    "    print(f\"Total execution time: {elapsed_time:.2f} seconds\")\n",
    "\n",
    "\n",
    "if __name__ == \"__main__\":\n",
    "    asyncio.run(main())"
   ],
   "outputs": [],
   "execution_count": null
  },
  {
   "metadata": {},
   "cell_type": "markdown",
   "source": [
    "### Assistente Pessoal"
   ]
  },
  {
   "metadata": {
    "trusted": false
   },
   "cell_type": "code",
   "source": [
    "# from gtts import gTTS\n",
    "# import speech_recognition as sr\n",
    "# from playsound import playsound\n",
    "# from requests import get\n",
    "# from bs4 import BeautifulSoup\n",
    "# import webbrowser as browser\n",
    "# from paho.mqtt import publish\n",
    "\n",
    "# CONFIGURAÇÕES\n",
    "# hotword = \"rose\"\n",
    "\n",
    "# with open(\"./db/rosie-python-assistente-fe02a8d39c53.json\") as credenciais_google:\n",
    "#     credenciais_google = credenciais_google.read()\n",
    "\n",
    "# LISTAGEM DOS COMANDOS\n",
    "# NOTÍCIAS.................... Últimas notícias\n",
    "# TOCA <NOME DO ÁLBUM>........ Reproduz o álbum no spotify player web\n",
    "# TEMPO AGORA................. Informações sobre temperatura e condição Climática\n",
    "# TEMPERATURA HOJE............ Informações sobre mínima e máxima\n",
    "# LIGA/DESATIVA BUNKER........ Controla iluminação do escritório\n",
    "\n",
    "\n",
    "# FUNÇÕES PRINCIPAIS\n",
    "# def monitora_audio():\n",
    "#     microfone = sr.Recognizer()\n",
    "# \n",
    "#     with sr.Microphone() as source:\n",
    "#         while True:\n",
    "#             print(\"Aguardando o Comando:\")\n",
    "#             audio = microfone.listen(source)\n",
    "# \n",
    "#             try:\n",
    "#                 trigger = microfone.recognize_google_cloud(audio, credentials_json=credenciais_google, language=\"pt-BR\")\n",
    "#                 trigger = trigger.lower()\n",
    "# \n",
    "#                 if hotword in trigger:\n",
    "#                     print(\"COMANDO: \", trigger)\n",
    "#                     responde(\"feedback\")\n",
    "#                     executa_comandos(trigger)\n",
    "#                     break\n",
    "# \n",
    "#             except sr.UnknownValueError:\n",
    "#                 print(\"Google não entendeu o áudio.\")\n",
    "# \n",
    "#             except sr.RequestError as e:\n",
    "#                 print(\"Não podia requerer resultados do serviço do Google Cloud Speech; {0}\".format(e))\n",
    "# \n",
    "#     return trigger\n",
    "\n",
    "\n",
    "# def responde(arquivo):\n",
    "#     playsound(\"./src/\" + arquivo + \".mp3\")\n",
    "\n",
    "\n",
    "# def cria_audio(mensagem):\n",
    "#     tts = gTTS(mensagem, lang=\"pt-br\")\n",
    "#     tts.save(\"./src/mensagem.mp3\")\n",
    "#     print(\"ROSIE: \", mensagem)\n",
    "#     playsound(\"./src/mensagem.mp3\")\n",
    "\n",
    "\n",
    "# def executa_comandos(trigger):\n",
    "#     if \"notícias\" in trigger:\n",
    "#         ultimas_noticias()\n",
    "#     elif \"toca\" in trigger and \"bee gees\" in trigger:\n",
    "#         playlists(\"bee_gees\")\n",
    "#     elif \"toca\" in trigger and \"taylor davis\" in trigger:\n",
    "#         playlists(\"taylor_davis\")\n",
    "#     elif \"tempo agora\" in trigger:\n",
    "#         previsao_tempo(tempo=True)\n",
    "#     elif \"temperatura hoje\" in trigger:\n",
    "#         previsao_tempo(minmax=True)\n",
    "#     elif \"liga o bunker\" in trigger:\n",
    "#         publica_mqtt(\"office/iluminacao/status\", \"1\")\n",
    "#     elif \"desativa o bunker\" in trigger:\n",
    "#         publica_mqtt(\"office/iluminacao/status\", \"0\")\n",
    "#     else:\n",
    "#         mensagem = trigger.strip(hotword)\n",
    "#         cria_audio(mensagem)\n",
    "#         print(\"C. INVÁLIDO\", mensagem)\n",
    "#         responde(\"comando_invalido\")\n",
    "\n",
    "\n",
    "# FUNÇÕES COMANDOS\n",
    "# def ultimas_noticias():\n",
    "#     site = get(\"https://news.google.com/news/rss?ned=pt_br&gl=BR&hl=pt\")\n",
    "#     noticias = BeautifulSoup(site.text, \"html.parser\")\n",
    "#     for item in noticias.findAll(\"item\")[:2]:\n",
    "#         mensagem = item.title.text\n",
    "#         cria_audio(mensagem)\n",
    "\n",
    "\n",
    "# def playlists(album):\n",
    "#     if album == \"bee_gees\":\n",
    "#         browser.open(\"https://open.spotify.com/track/33ALuUDfftTs2NEszyvJRm\")\n",
    "#     elif album == \"taylor_davis\":\n",
    "#         browser.open(\"https://open.spotify.com/track/3MKep4BfEwSlAHuFJrA9aV\")\n",
    "\n",
    "\n",
    "# def previsao_tempo(tempo=False, minmax=False):\n",
    "#     site = get(\"http://api.openweathermap.org/data/2.5/weather?id=3451190&APPID=111111111111111&units=metric&lang=pt\")\n",
    "#     clima = site.json()\n",
    "#     \n",
    "#     temperatura = clima[\"main\"][\"temp\"]\n",
    "#     minima = clima[\"main\"][\"temp_min\"]\n",
    "#     maxima = clima[\"main\"][\"temp_max\"]\n",
    "#     descricao = clima[\"weather\"][0][\"description\"]\n",
    "#     \n",
    "#     if tempo:\n",
    "#         mensagem = f\"No momento fazem {temperatura} graus com: {descricao}.\"\n",
    "#     elif minmax:\n",
    "#         mensagem = f\"Mínima de {minima} e máxima de {maxima} graus.\"\n",
    "#     \n",
    "#     cria_audio(mensagem)\n",
    "\n",
    "\n",
    "# def publica_mqtt(topic, payload):\n",
    "#     publish.single(topic, payload=payload, qos=1, retain=True, hostname=\"m10.cloudmqtt.com\", port=12892,\n",
    "#                    client_id=\"rosie\", auth={\"username\": \"xxxxxxxx\", \"password\": \"xxxxxxxx\"})\n",
    "# \n",
    "#     mensagem = \"Bunker Ligado!\" if payload == \"1\" else \"Bunker Desligado!\"\n",
    "# \n",
    "#     cria_audio(mensagem)\n",
    "\n",
    "\n",
    "# def main():\n",
    "#     while True:\n",
    "#         monitora_audio()\n",
    "\n",
    "\n",
    "# if __name__ == \"__main__\":\n",
    "#     main()"
   ],
   "outputs": [],
   "execution_count": null
  },
  {
   "metadata": {},
   "cell_type": "markdown",
   "source": [
    "### Pirâmide com base de estrelas"
   ]
  },
  {
   "metadata": {
    "trusted": false
   },
   "cell_type": "code",
   "source": [
    "num = int(input(\"Entra o número de linhas: \"))\n",
    "\n",
    "row = 0\n",
    "\n",
    "while num > row:\n",
    "    space = num - row - 1\n",
    "    while space > 0:\n",
    "        print(end=\" \")\n",
    "        space -= 1\n",
    "    star = row + 1\n",
    "    while star > 0:\n",
    "        print(\"*\", end=\" \")\n",
    "        star -= 1\n",
    "    row += 1\n",
    "    print()"
   ],
   "outputs": [],
   "execution_count": null
  },
  {
   "metadata": {},
   "cell_type": "markdown",
   "source": [
    "### Pirâmide com base de números"
   ]
  },
  {
   "metadata": {
    "trusted": false
   },
   "cell_type": "code",
   "source": [
    "num = int(input(\"Entra o número de linhas: \"))\n",
    "\n",
    "for i in range(1, num + 1):\n",
    "    for j in range(1, num - i + 1):\n",
    "        print(end=\" \")\n",
    "    for j in range(i, 0, -1):\n",
    "        print(j, end=\"\")\n",
    "    for j in range(2, i + 1):\n",
    "        print(j, end=\"\")\n",
    "    print()"
   ],
   "outputs": [],
   "execution_count": null
  },
  {
   "metadata": {},
   "cell_type": "markdown",
   "source": [
    "### Downloader Youtube"
   ]
  },
  {
   "metadata": {
    "trusted": false
   },
   "cell_type": "code",
   "source": [
    "# from pytube import YouTube\n",
    "\n",
    "# video = YouTube(\"https://www.youtube.com/watch?v=D_25fG8ipi8\")\n",
    "# stream = video.streams.first()\n",
    "# stream = video.streams.get_highest_resolution()\n",
    "# stream.download(\"./img/\")"
   ],
   "outputs": [],
   "execution_count": null
  },
  {
   "metadata": {},
   "cell_type": "markdown",
   "source": [
    "### Imagem Pillow (converter colorido em preto e branco)"
   ]
  },
  {
   "metadata": {
    "trusted": false
   },
   "cell_type": "code",
   "source": [
    "from PIL import Image\n",
    "\n",
    "img = Image.open(\"./img/grafico.png\")\n",
    "black_white = img.convert(\"L\")\n",
    "black_white.save(\"./img/new_grafico.png\")\n",
    "black_white.show()"
   ],
   "outputs": [],
   "execution_count": null
  },
  {
   "metadata": {},
   "cell_type": "markdown",
   "source": [
    "### Tradutor de Texto"
   ]
  },
  {
   "metadata": {
    "trusted": false
   },
   "cell_type": "code",
   "source": [
    "# !pip install translate\n",
    "# from translate import Translator\n",
    "\n",
    "# entra no site https://en.wikipedia.org/wiki/List_of_ISO_639-1_codes e pega o código da coluna \"639-1\"\n",
    "# s = Translator(from_lang=\"en\", to_lang=\"pt\")\n",
    "# pode ser assim: s = Translator(to_lang=\"portuguese\"),\n",
    "# pois ao omitir o parâmetro \"from_lang\" passa a ser autodetect\n",
    "# res = s.translate(\"Hello, Guys!\")\n",
    "# print(res)"
   ],
   "outputs": [],
   "execution_count": null
  },
  {
   "metadata": {},
   "cell_type": "markdown",
   "source": [
    "### QRCode"
   ]
  },
  {
   "metadata": {
    "trusted": false
   },
   "cell_type": "code",
   "source": [
    "# !pip install qrcode\n",
    "# import qrcode\n",
    "\n",
    "# qr = qr_code.QRCode(\n",
    "#     version=1,\n",
    "#     error_correction=qr_code.constants.ERROR_CORRECT_L,\n",
    "#     box_size=10,\n",
    "#     border=4\n",
    "# )\n",
    "\n",
    "# adiciona o texto ao QR Code\n",
    "# qr.add_data(\"Texto que você quer adicionar ao QR Code\")\n",
    "\n",
    "# gera o QR Code\n",
    "# qr.make(fit=True)\n",
    "\n",
    "# cria um objeto de imagem a partir do QR Code\n",
    "# img = qr.make_image(fill_color=\"black\", back_color=\"white\")\n",
    "\n",
    "# salva a imagem em um arquivo PNG\n",
    "# img.save(\"./img/qr_code.png\")"
   ],
   "outputs": [],
   "execution_count": null
  },
  {
   "metadata": {},
   "cell_type": "markdown",
   "source": [
    "### SpeedTest"
   ]
  },
  {
   "metadata": {
    "trusted": false
   },
   "cell_type": "code",
   "source": [
    "# import speedtest\n",
    "\n",
    "# teste = speedtest.Speedtest()\n",
    "# down_ = teste.download()\n",
    "# up_ = teste.upload()\n",
    "# ping_ = speedtest.results.ping()\n",
    "# print(f\"Download: {down_ / 10**6:,.2f}MB.\")\n",
    "# print(f\"Upload: {up_ / 10**6:,.2f}MB.\")\n",
    "# print(f\"Ping: {ping_:,.2f}ms.\")"
   ],
   "outputs": [],
   "execution_count": null
  },
  {
   "metadata": {},
   "cell_type": "markdown",
   "source": [
    "### PDF merger"
   ]
  },
  {
   "metadata": {
    "trusted": false
   },
   "cell_type": "code",
   "source": [
    "import PyPDF2\n",
    "import os\n",
    "\n",
    "merger = PyPDF2.PdfMerger(strict=False)\n",
    "\n",
    "arquivos = os.listdir(\"doc\")\n",
    "\n",
    "for arquivo in arquivos:\n",
    "    if arquivo.endswith(\".pdf\"):\n",
    "        merger.append(f\"doc/{arquivo}\")\n",
    "\n",
    "merger.write(\"./doc/hashProgramação.pdf\")"
   ],
   "outputs": [],
   "execution_count": null
  },
  {
   "metadata": {},
   "cell_type": "markdown",
   "source": [
    "### Captura de Tela"
   ]
  },
  {
   "metadata": {
    "trusted": false
   },
   "cell_type": "code",
   "source": [
    "# import pyautogui\n",
    "\n",
    "# captura a tela inteira\n",
    "# screenshot = pyautogui.screenshot()\n",
    "# screenshot.save(\"./img/screenshot.png\")\n",
    "\n",
    "# captura a tela específica\n",
    "# screenshot = pyautogui.screenshot(region=(0, 0, 500, 300))\n",
    "# screenshot.save(\"./img/screenshot_2.png\")"
   ],
   "outputs": [],
   "execution_count": null
  },
  {
   "metadata": {},
   "cell_type": "markdown",
   "source": [
    "### Conversão de áudio em texto"
   ]
  },
  {
   "metadata": {
    "trusted": false
   },
   "cell_type": "code",
   "source": [
    "# !pip install SpeechRecognition\n",
    "# import speech_recognition as sr\n",
    "\n",
    "# r = sr.Recognizer()\n",
    "\n",
    "# # inicializa o microfone\n",
    "# with r.Microfone() as source:\n",
    "#     print(\"Diga alguma coisa:\")\n",
    "#     audio = r.listen(source)\n",
    "\n",
    "# try:\n",
    "#     text = r.recognize_google(audio, language=\"pt-BR\")\n",
    "#     print(f\"Você disse: {text}\")\n",
    "# except sr.UnknownValueError:\n",
    "#     print(\"Não entendi o que você disse.\")\n",
    "# except sr.RequestError as e:\n",
    "#     print(f\"Erro de requisição: {e}\")"
   ],
   "outputs": [],
   "execution_count": null
  },
  {
   "metadata": {},
   "cell_type": "markdown",
   "source": [
    "### Tocador de Música"
   ]
  },
  {
   "metadata": {
    "trusted": false
   },
   "cell_type": "code",
   "source": [
    "# import pygame\n",
    "\n",
    "# # inicializa o pygame\n",
    "# pygame.init()\n",
    "\n",
    "# # carrega a música\n",
    "# pygame.mixer.music.load(\"./src/minhamusica.mp3\")\n",
    "\n",
    "# # toca a música\n",
    "# pygame.mixer.music.play()\n",
    "\n",
    "# # espera até a música termine\n",
    "# while pygame.mixer.music.get_busy():\n",
    "#     pygame.time.Clock().tick(10)\n",
    "\n",
    "# # encerra a música\n",
    "# pygame.quit()"
   ],
   "outputs": [],
   "execution_count": null
  },
  {
   "metadata": {},
   "cell_type": "markdown",
   "source": [
    "### Atualizações sobre o Clima"
   ]
  },
  {
   "metadata": {
    "trusted": false
   },
   "cell_type": "code",
   "source": [
    "# !pip install pyowm\n",
    "# import pyowm\n",
    "\n",
    "# inicializa o OWM (OpenWeatherMap) com a sua chave de API\n",
    "# owm = pyowm.OWM(\"Sua_Chave_De_API_Aqui\")\n",
    "\n",
    "# define a cidade que você quer obter o clima\n",
    "# city = \"São Paulo, BR\"\n",
    "\n",
    "# obtém as informações sobre o clima\n",
    "# weather = owm.weather_at_place(city).get_weather()\n",
    "\n",
    "# imprime a temperatura atual em graus celsius\n",
    "# temperature = weather.get_temperature(\"celsius\")[\"temp\"]\n",
    "# print(f\"A temperatura atual em {city} é de {temperature:.1f} ºC.\")"
   ],
   "outputs": [],
   "execution_count": null
  },
  {
   "metadata": {},
   "cell_type": "markdown",
   "source": [
    "### Encurtador URL"
   ]
  },
  {
   "metadata": {
    "trusted": false
   },
   "cell_type": "code",
   "source": [
    "# !pip install pyshorteners\n",
    "# import pyshorteners\n",
    "\n",
    "# s = pyshorteners.ShortEner()\n",
    "\n",
    "# define o URL que você quer encurtar\n",
    "# url = \"https://www.meu_url.com.br\"\n",
    "\n",
    "# encurta o URL usando o serviço TinyURL\n",
    "# short_url = s.tinyurl.short(url)\n",
    "\n",
    "# print(short_url)"
   ],
   "outputs": [],
   "execution_count": null
  },
  {
   "metadata": {},
   "cell_type": "markdown",
   "source": [
    "### URLOPEN"
   ]
  },
  {
   "metadata": {
    "trusted": false
   },
   "cell_type": "code",
   "source": [
    "# Versão que usa tentativa/exceção para imprimir\n",
    "# uma mensagem de erro se o urlopen falhar.\n",
    "def wget2(url_):\n",
    "    from urllib.request import urlopen\n",
    "\n",
    "    try:\n",
    "        ufile = urlopen(url_)\n",
    "        if ufile.info().get_content_type() == \"text/html\":\n",
    "            print(ufile.read())\n",
    "    except IOError:\n",
    "        print(f\"Problema de leitura URL: {url_}\")\n",
    "\n",
    "\n",
    "wget2(\"https://www.youtube.com/watch?v=eguv8wv3jN0\")"
   ],
   "outputs": [],
   "execution_count": null
  },
  {
   "metadata": {},
   "cell_type": "markdown",
   "source": [
    "### Outros..."
   ]
  },
  {
   "metadata": {
    "trusted": false
   },
   "cell_type": "code",
   "source": [
    "a = 0b1010  # Binary Literals\n",
    "b = 100  # Decimal Literal\n",
    "c = 0o310  # Octal Literal\n",
    "d = 0x12c  # Hexadecimal Literal\n",
    "\n",
    "# Float Literal\n",
    "float_1 = 10.5\n",
    "float_2 = 1.5e2\n",
    "\n",
    "# Complex Literal\n",
    "x = 3.14j\n",
    "\n",
    "print(a, b, c, d)\n",
    "print(float_1, float_2)\n",
    "print(x, x.imag, x.real)"
   ],
   "outputs": [],
   "execution_count": null
  },
  {
   "metadata": {
    "trusted": false
   },
   "cell_type": "code",
   "source": [
    "strings = \"Este é Python\"\n",
    "char = \"C\"\n",
    "multiline_str = \"\"\"Isto é um string\n",
    " multilinha com mais\n",
    "  do que uma linha.\"\"\"\n",
    "unicod = u\"\\u00dcnic\\u00f6de\"\n",
    "raw_str = r\"raw \\n string\"\n",
    "cifrao = \"\\u0024\"\n",
    "aMaiusculo = \"\\u0041\"\n",
    "tique = \"\\u2705\"\n",
    "quatro = \"\\u0034\"\n",
    "heart = \"\\u1F499\"\n",
    "covid = \"\\u1F9A0\"\n",
    "hiragana = \"\\u3041\"\n",
    "\n",
    "print(strings)\n",
    "print(char)\n",
    "print(multiline_str)\n",
    "print(unicod)\n",
    "print(raw_str)\n",
    "print(cifrao)\n",
    "print(aMaiusculo)\n",
    "print(tique)\n",
    "print(quatro)\n",
    "print(heart)\n",
    "print(covid)\n",
    "print(hiragana)"
   ],
   "outputs": [],
   "execution_count": null
  },
  {
   "metadata": {
    "trusted": false
   },
   "cell_type": "code",
   "source": [
    "# comparando desempenho com listas (array e list)\n",
    "import numpy as np\n",
    "\n",
    "np_array = np.arange(int(1e6))\n",
    "\n",
    "py_list = list(range(int(1e6)))\n",
    "\n",
    "%time for _ in np.arange(100): np_array *= 2\n",
    "\n",
    "%time for _ in range(100): py_list = [x * 2 for x in py_list]"
   ],
   "outputs": [],
   "execution_count": null
  },
  {
   "metadata": {
    "trusted": false
   },
   "cell_type": "code",
   "source": [
    "# só serve para Notebook Jupyter\n",
    "from time import sleep\n",
    "\n",
    "print(\"Contagem Regressiva Iniciada.\")\n",
    "\n",
    "for i in range(10, -1, -1):\n",
    "    print(f\"{i:2d}\", end=\"\\r\")\n",
    "    sleep(1)\n",
    "else:\n",
    "    print(\"Contagem Regressiva Terminada.\")"
   ],
   "outputs": [],
   "execution_count": null
  },
  {
   "metadata": {
    "trusted": false
   },
   "cell_type": "code",
   "source": [
    "drink = \"Disponível\"\n",
    "food = None\n",
    "\n",
    "\n",
    "def menu(x_):\n",
    "    if x_ == drink:\n",
    "        print(drink)\n",
    "    else:\n",
    "        print(food)\n",
    "\n",
    "\n",
    "menu(drink)\n",
    "menu(food)"
   ],
   "outputs": [],
   "execution_count": null
  },
  {
   "metadata": {
    "trusted": false
   },
   "cell_type": "code",
   "source": [
    "def outer_function():\n",
    "    a = 20\n",
    "\n",
    "    def inner_function():\n",
    "        a = 30\n",
    "        print(\"a =\", a)\n",
    "\n",
    "    inner_function()\n",
    "    print(\"a =\", a)\n",
    "\n",
    "\n",
    "a = 10\n",
    "outer_function()\n",
    "print(\"a =\", a)"
   ],
   "outputs": [],
   "execution_count": null
  },
  {
   "metadata": {
    "trusted": false
   },
   "cell_type": "code",
   "source": [
    "def outer_function():\n",
    "    global a\n",
    "    a = 20\n",
    "\n",
    "    def inner_function():\n",
    "        global a\n",
    "        a = 30\n",
    "        print(\"a =\", a)\n",
    "\n",
    "    inner_function()\n",
    "    print(\"a =\", a)\n",
    "\n",
    "\n",
    "a = 10\n",
    "outer_function()\n",
    "print(\"a =\", a)"
   ],
   "outputs": [],
   "execution_count": null
  },
  {
   "metadata": {
    "trusted": false
   },
   "cell_type": "code",
   "source": [
    "def outer():\n",
    "    x = \"local\"\n",
    "\n",
    "    def inner():\n",
    "        nonlocal x\n",
    "        x = \"nonlocal\"\n",
    "        print(\"Dentro:\", x)\n",
    "\n",
    "    inner()\n",
    "    print(\"Fora:\", x)\n",
    "\n",
    "\n",
    "outer()"
   ],
   "outputs": [],
   "execution_count": null
  },
  {
   "metadata": {
    "trusted": false
   },
   "cell_type": "code",
   "source": [
    "c = 0\n",
    "\n",
    "\n",
    "def add():\n",
    "    global c\n",
    "    c += 2\n",
    "    print(\"Dentro add():\", c)\n",
    "\n",
    "\n",
    "add()\n",
    "print(\"Em principal:\", c)"
   ],
   "outputs": [],
   "execution_count": null
  },
  {
   "metadata": {
    "trusted": false
   },
   "cell_type": "code",
   "source": [
    "print(\"Dê-me 2 números, e os dividirei.\")\n",
    "print(\"Toque a tecla 'q' para sair.\")\n",
    "\n",
    "while True:\n",
    "    first_number = input(\"\\nEscolha o 1º número: \")\n",
    "    if first_number == \"q\":\n",
    "        break\n",
    "    second_number = input(\"Escolha o 2º número: \")\n",
    "    if second_number == \"q\":\n",
    "        break\n",
    "    try:\n",
    "        answer = int(first_number) / int(second_number)\n",
    "    except ZeroDivisionError:\n",
    "        print(\"Você não pode dividir por zero!\")\n",
    "    except ValueError:\n",
    "        print(\"Só deve colocar caracteres numéricos.\")\n",
    "    else:\n",
    "        print(\"A divisão dos 2 números é\", answer)"
   ],
   "outputs": [],
   "execution_count": null
  },
  {
   "metadata": {
    "trusted": false,
    "ExecuteTime": {
     "end_time": "2024-10-01T23:51:44.698077Z",
     "start_time": "2024-10-01T23:51:44.695543Z"
    }
   },
   "cell_type": "code",
   "source": [
    "quit_flag = 0\n",
    "\n",
    "match quit_flag:\n",
    "    case True:\n",
    "        print(\"Desistindo...\")\n",
    "    case False:\n",
    "        print(\"O sistema está on.\")\n",
    "    case _:\n",
    "        print(\"Valor booleano não foi passado.\")"
   ],
   "outputs": [
    {
     "name": "stdout",
     "output_type": "stream",
     "text": [
      "Valor booleano não foi passado.\n"
     ]
    }
   ],
   "execution_count": 2
  },
  {
   "metadata": {
    "trusted": false
   },
   "cell_type": "code",
   "source": [
    "# Permutações com ‘string’\n",
    "import itertools\n",
    "\n",
    "for p in itertools.permutations(\"ABCD\"):\n",
    "    print(p)"
   ],
   "outputs": [],
   "execution_count": null
  },
  {
   "metadata": {
    "trusted": false
   },
   "cell_type": "code",
   "source": [
    "def media(listagem):\n",
    "    assert len(listagem) != 0, \"A lista está vazia...\"\n",
    "    return sum(listagem) / len(listagem)\n",
    "\n",
    "\n",
    "a = [55, 88, 78, 90, 79]\n",
    "b = []\n",
    "\n",
    "print(f\"A média da lista A é {media(a)}.\")\n",
    "\n",
    "try:\n",
    "    print(f\"A média da lista B é {media(b)}.\")\n",
    "except AssertionError as err:\n",
    "    print(err)"
   ],
   "outputs": [],
   "execution_count": null
  },
  {
   "metadata": {
    "trusted": false
   },
   "cell_type": "code",
   "source": [
    "help(len)"
   ],
   "outputs": [],
   "execution_count": null
  },
  {
   "metadata": {
    "trusted": false
   },
   "cell_type": "code",
   "source": [
    "texto: str = input(\"Escreva algo: \")\n",
    "print()\n",
    "print(texto or \"Vazio...\")\n",
    "print(f\"{texto} -> {type(texto)}\")\n",
    "print()\n",
    "print(texto or None or False or 0 or \"Você não escreveu nada.\")\n",
    "print()\n",
    "texto = texto or None\n",
    "print(f\"{texto} -> {type(texto)}\")\n",
    "print()\n",
    "if texto:\n",
    "    print(\"Escreveu algo.\")\n",
    "else:\n",
    "    print(\"Não escreveu nada.\")\n",
    "print(f\"{texto} -> {type(texto)}\")\n",
    "print()\n",
    "\n",
    "a, b, c, d, e, f, g = \"\", None, False, [], {}, 22, \"Giovana\"\n",
    "\n",
    "var = a or b or c or d or e or f or g\n",
    "print(var)"
   ],
   "outputs": [],
   "execution_count": null
  },
  {
   "metadata": {
    "trusted": false
   },
   "cell_type": "code",
   "source": [
    "# determina saber qual encode configura o arquivo binário\n",
    "# import chardet\n",
    "\n",
    "# with open(\"./src/aluguel.csv\", \"rb\") as filename:\n",
    "#     print(chardet.detect(filename.read()))"
   ],
   "outputs": [],
   "execution_count": null
  },
  {
   "metadata": {
    "trusted": false
   },
   "cell_type": "code",
   "source": [
    "import numpy as np\n",
    "\n",
    "\n",
    "def acumulador():\n",
    "    for yy in np.arange(100):\n",
    "        yield yy\n",
    "\n",
    "\n",
    "print(list(acumulador()))"
   ],
   "outputs": [],
   "execution_count": null
  },
  {
   "metadata": {
    "trusted": false
   },
   "cell_type": "code",
   "source": [
    "import time\n",
    "\n",
    "\n",
    "def timer(fun):\n",
    "    def decor(*args, **kwargs):\n",
    "        start = time.perf_counter()\n",
    "        fun(*args, **kwargs)\n",
    "        end = time.perf_counter()\n",
    "        return f\"Esta função demorou {end - start:.9f} segundos...\"\n",
    "\n",
    "    return decor\n",
    "\n",
    "\n",
    "@timer\n",
    "def fun1():\n",
    "    soma = 0\n",
    "    for xx in range(1000):\n",
    "        soma += xx * 4\n",
    "    print(soma)\n",
    "\n",
    "\n",
    "fun1()"
   ],
   "outputs": [],
   "execution_count": null
  },
  {
   "metadata": {
    "trusted": false
   },
   "cell_type": "code",
   "source": [
    "# import wget\n",
    "\n",
    "# link = \"\"\n",
    "# wget.download(link, \"busca_pdf.pdf\")"
   ],
   "outputs": [],
   "execution_count": null
  },
  {
   "metadata": {
    "trusted": false
   },
   "cell_type": "code",
   "source": [
    "# import cv2\n",
    "# import numpy as np\n",
    "# import pyautogui\n",
    "\n",
    "# fourcc = cv2.VideoWriter_fourcc(*\"XVID\")\n",
    "# tela_larg, tela_altu = pyautogui.size()\n",
    "# saida = cv32.VideoWriter_fourcc(\"screencast.avi\", fourcc, 20.0, (tela_larg, tela_altu))\n",
    "\n",
    "# while True:\n",
    "#     captura = pyautogui.screenshot()\n",
    "#     frame = cv2.cvtColor(np.array(captura), cv2.COLOR_RGB2BGR)\n",
    "#     saida.write(frame)\n",
    "\n",
    "# if cv2.waitKey(1) == ord(\"q\"):\n",
    "#     break\n",
    "\n",
    "# saida.release()\n",
    "# cv2.destroyAllWindows()"
   ],
   "outputs": [],
   "execution_count": null
  }
 ],
 "metadata": {
  "kernelspec": {
   "name": "python3",
   "display_name": "Python 3",
   "language": "python"
  },
  "language_info": {
   "name": "python",
   "version": "3.10.4",
   "mimetype": "text/x-python",
   "codemirror_mode": {
    "name": "ipython",
    "version": 3
   },
   "pygments_lexer": "ipython3",
   "nbconvert_exporter": "python",
   "file_extension": ".py"
  }
 },
 "nbformat": 4,
 "nbformat_minor": 1
}
